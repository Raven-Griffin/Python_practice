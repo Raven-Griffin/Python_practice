{
 "cells": [
  {
   "cell_type": "code",
   "execution_count": 224,
   "id": "6caa45bf-8396-4427-a18e-e609b0a5a9c6",
   "metadata": {},
   "outputs": [],
   "source": [
    "import numpy as np\n",
    "import pandas as pd\n",
    "\n",
    "\n",
    "import matplotlib.pyplot as plt\n",
    "import matplotlib.dates as ndates\n",
    "%matplotlib inline \n",
    "\n"
   ]
  },
  {
   "cell_type": "markdown",
   "id": "90f50d5e-830d-413f-880a-aa7f60b4f223",
   "metadata": {},
   "source": [
    "## Numpy Crash Course"
   ]
  },
  {
   "cell_type": "code",
   "execution_count": 226,
   "id": "1da48c40-f1cf-4638-9b9a-9b4c79769019",
   "metadata": {},
   "outputs": [
    {
     "data": {
      "text/plain": [
       "array([1, 2, 3, 4, 5])"
      ]
     },
     "execution_count": 226,
     "metadata": {},
     "output_type": "execute_result"
    }
   ],
   "source": [
    "#make an array\n",
    "array1 = [1,2,3,4,5]\n",
    "npa1 = np.array(array1)\n",
    "npa1"
   ]
  },
  {
   "cell_type": "markdown",
   "id": "c53ea971-0a98-479f-8f70-1925cbce9a49",
   "metadata": {},
   "source": [
    "## Create Array in Range"
   ]
  },
  {
   "cell_type": "code",
   "execution_count": 228,
   "id": "dbd4b4fc-8cf3-41d0-80db-636fa64e40a0",
   "metadata": {},
   "outputs": [
    {
     "data": {
      "text/plain": [
       "array([0, 1, 2, 3, 4])"
      ]
     },
     "execution_count": 228,
     "metadata": {},
     "output_type": "execute_result"
    }
   ],
   "source": [
    "#create array from 1 to 4\n",
    "npa2 = np.arange(0,5)\n",
    "npa2"
   ]
  },
  {
   "cell_type": "code",
   "execution_count": 229,
   "id": "2cf0291e-d362-482d-8601-a7ddf5031b3c",
   "metadata": {},
   "outputs": [
    {
     "data": {
      "text/plain": [
       "array([ 0,  2,  4,  6,  8, 10])"
      ]
     },
     "execution_count": 229,
     "metadata": {},
     "output_type": "execute_result"
    }
   ],
   "source": [
    "#define a step\n",
    "\n",
    "npa3 = np.arange(0,11,2)\n",
    "npa3"
   ]
  },
  {
   "cell_type": "markdown",
   "id": "70cf455c-f879-4af8-8dc8-0332fc4fc146",
   "metadata": {},
   "source": [
    "## Matrices"
   ]
  },
  {
   "cell_type": "code",
   "execution_count": 231,
   "id": "93593c3f-fe5b-45f2-bc2a-042ce752196a",
   "metadata": {},
   "outputs": [
    {
     "data": {
      "text/plain": [
       "array([[1., 1., 1.],\n",
       "       [1., 1., 1.],\n",
       "       [1., 1., 1.],\n",
       "       [1., 1., 1.]])"
      ]
     },
     "execution_count": 231,
     "metadata": {},
     "output_type": "execute_result"
    }
   ],
   "source": [
    "#create a 4 row and 3 column with all values being 1\n",
    "mat1 = np.ones((4,3))\n",
    "mat1"
   ]
  },
  {
   "cell_type": "code",
   "execution_count": 232,
   "id": "7b3761d0-f82b-47e7-bc31-ee35e61737af",
   "metadata": {},
   "outputs": [
    {
     "data": {
      "text/plain": [
       "array([[0., 0., 0.],\n",
       "       [0., 0., 0.],\n",
       "       [0., 0., 0.],\n",
       "       [0., 0., 0.]])"
      ]
     },
     "execution_count": 232,
     "metadata": {},
     "output_type": "execute_result"
    }
   ],
   "source": [
    "#create a 4 row and 3 column with all values being 0\n",
    "mat2 = np.zeros((4,3))\n",
    "mat2"
   ]
  },
  {
   "cell_type": "code",
   "execution_count": 233,
   "id": "4b51ed05-96e8-4e20-aca4-edfc86a2d526",
   "metadata": {},
   "outputs": [
    {
     "data": {
      "text/plain": [
       "array([[47, 10, 46],\n",
       "       [13, 45,  2],\n",
       "       [45, 42, 14],\n",
       "       [11, 27, 29]])"
      ]
     },
     "execution_count": 233,
     "metadata": {},
     "output_type": "execute_result"
    }
   ],
   "source": [
    "#create a random matrice between 1 and 50 with 4 rows and 3 columns\n",
    "mat3 = np.random.randint(0,50,(4,3))\n",
    "mat3"
   ]
  },
  {
   "cell_type": "code",
   "execution_count": 234,
   "id": "6eaf9e9e-3774-401a-90b5-833795cc1f45",
   "metadata": {},
   "outputs": [
    {
     "data": {
      "text/plain": [
       "array([ 0.        ,  1.11111111,  2.22222222,  3.33333333,  4.44444444,\n",
       "        5.55555556,  6.66666667,  7.77777778,  8.88888889, 10.        ])"
      ]
     },
     "execution_count": 234,
     "metadata": {},
     "output_type": "execute_result"
    }
   ],
   "source": [
    "#Generate 10 equally distanced numbers between 1 and 10\n",
    "mat4 = np.linspace(0,10,10)\n",
    "mat4"
   ]
  },
  {
   "cell_type": "markdown",
   "id": "6776dd41-f342-4178-b176-ad4164bba8e7",
   "metadata": {},
   "source": [
    "## Reshape Arrays"
   ]
  },
  {
   "cell_type": "code",
   "execution_count": 236,
   "id": "a913bf2d-e0ae-4afa-9d30-9b96044e193d",
   "metadata": {},
   "outputs": [
    {
     "data": {
      "text/plain": [
       "array([28,  9, 23, 25, 34, 15, 15, 29,  5, 37, 16, 43])"
      ]
     },
     "execution_count": 236,
     "metadata": {},
     "output_type": "execute_result"
    }
   ],
   "source": [
    "#create an array with 12 values\n",
    "mat6 = np.random.randint(0,50,12)\n",
    "mat6"
   ]
  },
  {
   "cell_type": "code",
   "execution_count": 237,
   "id": "0720906b-18e9-4dd5-bf57-5aeda61b38c8",
   "metadata": {},
   "outputs": [
    {
     "data": {
      "text/plain": [
       "array([[28,  9, 23, 25],\n",
       "       [34, 15, 15, 29],\n",
       "       [ 5, 37, 16, 43]])"
      ]
     },
     "execution_count": 237,
     "metadata": {},
     "output_type": "execute_result"
    }
   ],
   "source": [
    "#reshape into 3 row and 4 columns\n",
    "mat7 = mat6.reshape(3,4)\n",
    "mat7"
   ]
  },
  {
   "cell_type": "code",
   "execution_count": 238,
   "id": "86357386-78bf-4edb-9d77-575a96517164",
   "metadata": {},
   "outputs": [
    {
     "data": {
      "text/plain": [
       "array([[[28,  9],\n",
       "        [23, 25]],\n",
       "\n",
       "       [[34, 15],\n",
       "        [15, 29]],\n",
       "\n",
       "       [[ 5, 37],\n",
       "        [16, 43]]])"
      ]
     },
     "execution_count": 238,
     "metadata": {},
     "output_type": "execute_result"
    }
   ],
   "source": [
    "#reshape into 3-D array with 3 blocks, 2 rows, and 2 columns\n",
    "mat8 = mat7.reshape(3,2,2)\n",
    "mat8"
   ]
  },
  {
   "cell_type": "code",
   "execution_count": 239,
   "id": "e382e963-d2b5-4947-9246-a8fe11d7c588",
   "metadata": {},
   "outputs": [
    {
     "data": {
      "text/plain": [
       "array([[[28,  9],\n",
       "        [23, 25],\n",
       "        [34, 15]],\n",
       "\n",
       "       [[15, 29],\n",
       "        [ 5, 37],\n",
       "        [16, 43]]])"
      ]
     },
     "execution_count": 239,
     "metadata": {},
     "output_type": "execute_result"
    }
   ],
   "source": [
    "#reshape with 2 blocks, 3 rows and 2 columns\n",
    "mat9 = mat8.reshape(2,3,2)\n",
    "mat9"
   ]
  },
  {
   "cell_type": "code",
   "execution_count": 240,
   "id": "1003247d-cce7-4b0c-a5cb-ca56e8c63817",
   "metadata": {},
   "outputs": [
    {
     "data": {
      "text/plain": [
       "16"
      ]
     },
     "execution_count": 240,
     "metadata": {},
     "output_type": "execute_result"
    }
   ],
   "source": [
    "#get the value at 2nd block, 3rd row, 1st column\n",
    "mat9[1,2,0]\n"
   ]
  },
  {
   "cell_type": "markdown",
   "id": "dba26b8e-08c4-4f61-b5d6-50dc58f78a54",
   "metadata": {},
   "source": [
    "## Filter Arrays"
   ]
  },
  {
   "cell_type": "code",
   "execution_count": 242,
   "id": "f82b17a0-d642-437d-afa7-4ed32a01d8a6",
   "metadata": {},
   "outputs": [
    {
     "name": "stdout",
     "output_type": "stream",
     "text": [
      "[[28  9 23 25]\n",
      " [34 15 15 29]\n",
      " [ 5 37 16 43]]\n"
     ]
    },
    {
     "data": {
      "text/plain": [
       "array([[ True, False,  True,  True],\n",
       "       [ True, False, False,  True],\n",
       "       [False,  True, False,  True]])"
      ]
     },
     "execution_count": 242,
     "metadata": {},
     "output_type": "execute_result"
    }
   ],
   "source": [
    "#Provide a boolean array where values are above 20\n",
    "\n",
    "print(mat7)\n",
    "mat7>20"
   ]
  },
  {
   "cell_type": "code",
   "execution_count": 243,
   "id": "a1ed8470-0ba0-463f-920e-50e09b9730a1",
   "metadata": {},
   "outputs": [
    {
     "data": {
      "text/plain": [
       "array([28, 23, 25, 34, 29, 37, 43])"
      ]
     },
     "execution_count": 243,
     "metadata": {},
     "output_type": "execute_result"
    }
   ],
   "source": [
    "#return arrays with values over 20\n",
    "mat7[mat7>20]"
   ]
  },
  {
   "cell_type": "markdown",
   "id": "b269aeed-6bfe-4b52-9b99-252002a4c4ff",
   "metadata": {},
   "source": [
    "## STAT OP\n"
   ]
  },
  {
   "cell_type": "code",
   "execution_count": 245,
   "id": "9918380a-7b97-413e-a2d4-c0b97fca0cc7",
   "metadata": {},
   "outputs": [
    {
     "name": "stdout",
     "output_type": "stream",
     "text": [
      "Mean : 50.7\n",
      "Standard Deviation : 29.009825921573537\n",
      "Variance : 841.5699999999998\n",
      "Min : 0\n",
      "Max : 99\n"
     ]
    }
   ],
   "source": [
    "mat5 = np.random.randint(0,100,50)\n",
    "mat5\n",
    "print(\"Mean :\", mat5.mean())\n",
    "print(\"Standard Deviation :\", mat5.std())\n",
    "print(\"Variance :\", mat5.var())\n",
    "print(\"Min :\", mat5.min())\n",
    "print(\"Max :\", mat5.max())"
   ]
  },
  {
   "cell_type": "markdown",
   "id": "6c2f6ac8-384a-4b70-bbfe-445c836e17be",
   "metadata": {},
   "source": [
    "## Seed Function"
   ]
  },
  {
   "cell_type": "code",
   "execution_count": 247,
   "id": "b16917a9-9ce2-4d72-b904-4310dcd83c62",
   "metadata": {},
   "outputs": [
    {
     "data": {
      "text/plain": [
       "array([26,  1, 17, 14, 31,  8,  7, 13, 45, 17])"
      ]
     },
     "execution_count": 247,
     "metadata": {},
     "output_type": "execute_result"
    }
   ],
   "source": [
    "np.random.seed(500)\n",
    "mat10 = np.random.randint(0,50,10)\n",
    "mat10"
   ]
  },
  {
   "cell_type": "code",
   "execution_count": 248,
   "id": "ff7d9f8b-431b-4968-ad84-1e392bd6e325",
   "metadata": {},
   "outputs": [
    {
     "data": {
      "text/plain": [
       "array([17, 21, 41, 34, 42, 18, 19, 13, 38, 40])"
      ]
     },
     "execution_count": 248,
     "metadata": {},
     "output_type": "execute_result"
    }
   ],
   "source": [
    "mat11 = np.random.randint(0,50,10)\n",
    "mat11"
   ]
  },
  {
   "cell_type": "markdown",
   "id": "943dc247-8be1-4e3d-af31-04fe0c5b2bf2",
   "metadata": {},
   "source": [
    "# Pandas\n"
   ]
  },
  {
   "cell_type": "markdown",
   "id": "721cd59e-a4f5-482c-aedd-9c22c1c391ec",
   "metadata": {},
   "source": [
    "## Read from a csv"
   ]
  },
  {
   "cell_type": "code",
   "execution_count": 251,
   "id": "38f76c67-1f7b-4c1e-a662-f2e4bb431675",
   "metadata": {},
   "outputs": [],
   "source": [
    "def get_df_frama_csv(ticker):\n",
    "    try:\n",
    "        df=pd.read_csv(ticker + '.csv', index_col='Date',\n",
    "                      parse_dates = True)\n",
    "    except FileNotFoundError:\n",
    "        pass\n",
    "    else:\n",
    "        return df"
   ]
  },
  {
   "cell_type": "code",
   "execution_count": 252,
   "id": "a4ed3b08-7448-4557-94f2-3d4a0f1f2670",
   "metadata": {},
   "outputs": [
    {
     "data": {
      "text/html": [
       "<div>\n",
       "<style scoped>\n",
       "    .dataframe tbody tr th:only-of-type {\n",
       "        vertical-align: middle;\n",
       "    }\n",
       "\n",
       "    .dataframe tbody tr th {\n",
       "        vertical-align: top;\n",
       "    }\n",
       "\n",
       "    .dataframe thead th {\n",
       "        text-align: right;\n",
       "    }\n",
       "</style>\n",
       "<table border=\"1\" class=\"dataframe\">\n",
       "  <thead>\n",
       "    <tr style=\"text-align: right;\">\n",
       "      <th></th>\n",
       "      <th>Adj Close</th>\n",
       "      <th>daily_return</th>\n",
       "    </tr>\n",
       "    <tr>\n",
       "      <th>Date</th>\n",
       "      <th></th>\n",
       "      <th></th>\n",
       "    </tr>\n",
       "  </thead>\n",
       "  <tbody>\n",
       "    <tr>\n",
       "      <th>2017-01-03</th>\n",
       "      <td>58.291969</td>\n",
       "      <td>NaN</td>\n",
       "    </tr>\n",
       "    <tr>\n",
       "      <th>2017-01-04</th>\n",
       "      <td>58.031147</td>\n",
       "      <td>-0.004474</td>\n",
       "    </tr>\n",
       "    <tr>\n",
       "      <th>2017-01-05</th>\n",
       "      <td>58.031147</td>\n",
       "      <td>0.000000</td>\n",
       "    </tr>\n",
       "    <tr>\n",
       "      <th>2017-01-06</th>\n",
       "      <td>58.534157</td>\n",
       "      <td>0.008668</td>\n",
       "    </tr>\n",
       "    <tr>\n",
       "      <th>2017-01-09</th>\n",
       "      <td>58.347855</td>\n",
       "      <td>-0.003183</td>\n",
       "    </tr>\n",
       "    <tr>\n",
       "      <th>...</th>\n",
       "      <td>...</td>\n",
       "      <td>...</td>\n",
       "    </tr>\n",
       "    <tr>\n",
       "      <th>2021-08-31</th>\n",
       "      <td>301.880005</td>\n",
       "      <td>-0.005633</td>\n",
       "    </tr>\n",
       "    <tr>\n",
       "      <th>2021-09-01</th>\n",
       "      <td>301.829987</td>\n",
       "      <td>-0.000166</td>\n",
       "    </tr>\n",
       "    <tr>\n",
       "      <th>2021-09-02</th>\n",
       "      <td>301.149994</td>\n",
       "      <td>-0.002253</td>\n",
       "    </tr>\n",
       "    <tr>\n",
       "      <th>2021-09-03</th>\n",
       "      <td>301.140015</td>\n",
       "      <td>-0.000033</td>\n",
       "    </tr>\n",
       "    <tr>\n",
       "      <th>2021-09-10</th>\n",
       "      <td>295.709991</td>\n",
       "      <td>-0.018032</td>\n",
       "    </tr>\n",
       "  </tbody>\n",
       "</table>\n",
       "<p>1190 rows × 2 columns</p>\n",
       "</div>"
      ],
      "text/plain": [
       "             Adj Close  daily_return\n",
       "Date                                \n",
       "2017-01-03   58.291969           NaN\n",
       "2017-01-04   58.031147     -0.004474\n",
       "2017-01-05   58.031147      0.000000\n",
       "2017-01-06   58.534157      0.008668\n",
       "2017-01-09   58.347855     -0.003183\n",
       "...                ...           ...\n",
       "2021-08-31  301.880005     -0.005633\n",
       "2021-09-01  301.829987     -0.000166\n",
       "2021-09-02  301.149994     -0.002253\n",
       "2021-09-03  301.140015     -0.000033\n",
       "2021-09-10  295.709991     -0.018032\n",
       "\n",
       "[1190 rows x 2 columns]"
      ]
     },
     "execution_count": 252,
     "metadata": {},
     "output_type": "execute_result"
    }
   ],
   "source": [
    "naft_df = get_df_frama_csv('MSFT')\n",
    "naft_df"
   ]
  },
  {
   "cell_type": "markdown",
   "id": "28570856-054e-4413-85cc-c9fc3c2655eb",
   "metadata": {},
   "source": [
    "## Read from excel"
   ]
  },
  {
   "cell_type": "code",
   "execution_count": 254,
   "id": "977382cf-156b-428a-bf54-9f81cc4e09d6",
   "metadata": {},
   "outputs": [],
   "source": [
    "def get_df_from_excel(file):\n",
    "    try:\n",
    "        df = pd.read_excel(file)\n",
    "    except FileNotFoundError:\n",
    "        pass\n",
    "    else:\n",
    "        return df\n",
    "        "
   ]
  },
  {
   "cell_type": "code",
   "execution_count": 255,
   "id": "3bf3b717-8cc7-4493-af17-0e73c83d9abb",
   "metadata": {},
   "outputs": [
    {
     "data": {
      "text/html": [
       "<div>\n",
       "<style scoped>\n",
       "    .dataframe tbody tr th:only-of-type {\n",
       "        vertical-align: middle;\n",
       "    }\n",
       "\n",
       "    .dataframe tbody tr th {\n",
       "        vertical-align: top;\n",
       "    }\n",
       "\n",
       "    .dataframe thead th {\n",
       "        text-align: right;\n",
       "    }\n",
       "</style>\n",
       "<table border=\"1\" class=\"dataframe\">\n",
       "  <thead>\n",
       "    <tr style=\"text-align: right;\">\n",
       "      <th></th>\n",
       "      <th>Symbol</th>\n",
       "      <th>Name</th>\n",
       "      <th>Sector</th>\n",
       "    </tr>\n",
       "  </thead>\n",
       "  <tbody>\n",
       "    <tr>\n",
       "      <th>0</th>\n",
       "      <td>MMM</td>\n",
       "      <td>3M</td>\n",
       "      <td>Industrials</td>\n",
       "    </tr>\n",
       "    <tr>\n",
       "      <th>1</th>\n",
       "      <td>AOS</td>\n",
       "      <td>A. O. Smith</td>\n",
       "      <td>Industrials</td>\n",
       "    </tr>\n",
       "    <tr>\n",
       "      <th>2</th>\n",
       "      <td>ABT</td>\n",
       "      <td>Abbott Laboratories</td>\n",
       "      <td>Health Care</td>\n",
       "    </tr>\n",
       "    <tr>\n",
       "      <th>3</th>\n",
       "      <td>ABBV</td>\n",
       "      <td>AbbVie</td>\n",
       "      <td>Health Care</td>\n",
       "    </tr>\n",
       "    <tr>\n",
       "      <th>4</th>\n",
       "      <td>ABMD</td>\n",
       "      <td>Abiomed</td>\n",
       "      <td>Health Care</td>\n",
       "    </tr>\n",
       "    <tr>\n",
       "      <th>...</th>\n",
       "      <td>...</td>\n",
       "      <td>...</td>\n",
       "      <td>...</td>\n",
       "    </tr>\n",
       "    <tr>\n",
       "      <th>500</th>\n",
       "      <td>YUM</td>\n",
       "      <td>Yum! Brands</td>\n",
       "      <td>Consumer Discretionary</td>\n",
       "    </tr>\n",
       "    <tr>\n",
       "      <th>501</th>\n",
       "      <td>ZBRA</td>\n",
       "      <td>Zebra Technologies</td>\n",
       "      <td>Information Technology</td>\n",
       "    </tr>\n",
       "    <tr>\n",
       "      <th>502</th>\n",
       "      <td>ZBH</td>\n",
       "      <td>Zimmer Biomet</td>\n",
       "      <td>Health Care</td>\n",
       "    </tr>\n",
       "    <tr>\n",
       "      <th>503</th>\n",
       "      <td>ZION</td>\n",
       "      <td>Zions Bancorp</td>\n",
       "      <td>Financials</td>\n",
       "    </tr>\n",
       "    <tr>\n",
       "      <th>504</th>\n",
       "      <td>ZTS</td>\n",
       "      <td>Zoetis</td>\n",
       "      <td>Health Care</td>\n",
       "    </tr>\n",
       "  </tbody>\n",
       "</table>\n",
       "<p>505 rows × 3 columns</p>\n",
       "</div>"
      ],
      "text/plain": [
       "    Symbol                 Name                  Sector\n",
       "0      MMM                   3M             Industrials\n",
       "1      AOS          A. O. Smith             Industrials\n",
       "2      ABT  Abbott Laboratories             Health Care\n",
       "3     ABBV               AbbVie             Health Care\n",
       "4     ABMD              Abiomed             Health Care\n",
       "..     ...                  ...                     ...\n",
       "500    YUM          Yum! Brands  Consumer Discretionary\n",
       "501   ZBRA   Zebra Technologies  Information Technology\n",
       "502    ZBH        Zimmer Biomet             Health Care\n",
       "503   ZION        Zions Bancorp              Financials\n",
       "504    ZTS               Zoetis             Health Care\n",
       "\n",
       "[505 rows x 3 columns]"
      ]
     },
     "execution_count": 255,
     "metadata": {},
     "output_type": "execute_result"
    }
   ],
   "source": [
    "file = \"stock_sectors.xlsx\"\n",
    "s_sectors=  get_df_from_excel(file)\n",
    "s_sectors"
   ]
  },
  {
   "cell_type": "markdown",
   "id": "c496365c-428c-478f-9d06-797f985ad10c",
   "metadata": {},
   "source": [
    "## Read html"
   ]
  },
  {
   "cell_type": "code",
   "execution_count": 257,
   "id": "f902624b-dad6-43c2-96fe-4dbd8e03ab65",
   "metadata": {},
   "outputs": [
    {
     "data": {
      "text/html": [
       "<div>\n",
       "<style scoped>\n",
       "    .dataframe tbody tr th:only-of-type {\n",
       "        vertical-align: middle;\n",
       "    }\n",
       "\n",
       "    .dataframe tbody tr th {\n",
       "        vertical-align: top;\n",
       "    }\n",
       "\n",
       "    .dataframe thead th {\n",
       "        text-align: right;\n",
       "    }\n",
       "</style>\n",
       "<table border=\"1\" class=\"dataframe\">\n",
       "  <thead>\n",
       "    <tr style=\"text-align: right;\">\n",
       "      <th></th>\n",
       "      <th>State</th>\n",
       "      <th>Image</th>\n",
       "      <th>Governor[6]</th>\n",
       "      <th>Party[6]</th>\n",
       "      <th>Party[6].1</th>\n",
       "      <th>Born</th>\n",
       "      <th>Prior public experience[14]</th>\n",
       "      <th>Inauguration[6]</th>\n",
       "      <th>End of term[6]</th>\n",
       "      <th>Ref.</th>\n",
       "    </tr>\n",
       "  </thead>\n",
       "  <tbody>\n",
       "    <tr>\n",
       "      <th>0</th>\n",
       "      <td>Alabama (list)</td>\n",
       "      <td>NaN</td>\n",
       "      <td>Kay Ivey</td>\n",
       "      <td>NaN</td>\n",
       "      <td>Republican</td>\n",
       "      <td>October 15, 1944 (age 80)</td>\n",
       "      <td>Lieutenant GovernorState Treasurer</td>\n",
       "      <td>April 10, 2017</td>\n",
       "      <td>2027 (term limits)</td>\n",
       "      <td>[17]</td>\n",
       "    </tr>\n",
       "    <tr>\n",
       "      <th>1</th>\n",
       "      <td>Alaska (list)</td>\n",
       "      <td>NaN</td>\n",
       "      <td>Mike Dunleavy</td>\n",
       "      <td>NaN</td>\n",
       "      <td>Republican</td>\n",
       "      <td>May 5, 1961 (age 63)</td>\n",
       "      <td>Alaska Senate</td>\n",
       "      <td>December 3, 2018</td>\n",
       "      <td>2026 (term limits)</td>\n",
       "      <td>[18]</td>\n",
       "    </tr>\n",
       "    <tr>\n",
       "      <th>2</th>\n",
       "      <td>Arizona (list)</td>\n",
       "      <td>NaN</td>\n",
       "      <td>Katie Hobbs</td>\n",
       "      <td>NaN</td>\n",
       "      <td>Democratic</td>\n",
       "      <td>December 28, 1969 (age 54)</td>\n",
       "      <td>Secretary of StateMinority Leader of the Arizo...</td>\n",
       "      <td>January 2, 2023</td>\n",
       "      <td>2027</td>\n",
       "      <td>[19]</td>\n",
       "    </tr>\n",
       "    <tr>\n",
       "      <th>3</th>\n",
       "      <td>Arkansas (list)</td>\n",
       "      <td>NaN</td>\n",
       "      <td>Sarah Huckabee Sanders</td>\n",
       "      <td>NaN</td>\n",
       "      <td>Republican</td>\n",
       "      <td>August 13, 1982 (age 42)</td>\n",
       "      <td>White House Press Secretary</td>\n",
       "      <td>January 10, 2023</td>\n",
       "      <td>2027</td>\n",
       "      <td>[20]</td>\n",
       "    </tr>\n",
       "    <tr>\n",
       "      <th>4</th>\n",
       "      <td>California (list)</td>\n",
       "      <td>NaN</td>\n",
       "      <td>Gavin Newsom</td>\n",
       "      <td>NaN</td>\n",
       "      <td>Democratic</td>\n",
       "      <td>October 10, 1967 (age 57)</td>\n",
       "      <td>Lieutenant GovernorMayor of San FranciscoSan F...</td>\n",
       "      <td>January 7, 2019</td>\n",
       "      <td>2027 (term limits)</td>\n",
       "      <td>[21]</td>\n",
       "    </tr>\n",
       "    <tr>\n",
       "      <th>5</th>\n",
       "      <td>Colorado (list)</td>\n",
       "      <td>NaN</td>\n",
       "      <td>Jared Polis</td>\n",
       "      <td>NaN</td>\n",
       "      <td>Democratic</td>\n",
       "      <td>May 12, 1975 (age 49)</td>\n",
       "      <td>U.S. HouseColorado State Board of Education</td>\n",
       "      <td>January 8, 2019</td>\n",
       "      <td>2027 (term limits)</td>\n",
       "      <td>[22]</td>\n",
       "    </tr>\n",
       "    <tr>\n",
       "      <th>6</th>\n",
       "      <td>Connecticut (list)</td>\n",
       "      <td>NaN</td>\n",
       "      <td>Ned Lamont</td>\n",
       "      <td>NaN</td>\n",
       "      <td>Democratic</td>\n",
       "      <td>January 3, 1954 (age 70)</td>\n",
       "      <td>Chair of the State Investment Advisory Council...</td>\n",
       "      <td>January 9, 2019</td>\n",
       "      <td>2027</td>\n",
       "      <td>[23]</td>\n",
       "    </tr>\n",
       "    <tr>\n",
       "      <th>7</th>\n",
       "      <td>Delaware (list)</td>\n",
       "      <td>NaN</td>\n",
       "      <td>John Carney</td>\n",
       "      <td>NaN</td>\n",
       "      <td>Democratic</td>\n",
       "      <td>May 20, 1956 (age 68)</td>\n",
       "      <td>U.S. HouseLieutenant GovernorState Secretary o...</td>\n",
       "      <td>January 17, 2017</td>\n",
       "      <td>2025 (term limits)</td>\n",
       "      <td>[24][25]</td>\n",
       "    </tr>\n",
       "    <tr>\n",
       "      <th>8</th>\n",
       "      <td>Florida (list)</td>\n",
       "      <td>NaN</td>\n",
       "      <td>Ron DeSantis</td>\n",
       "      <td>NaN</td>\n",
       "      <td>Republican</td>\n",
       "      <td>September 14, 1978 (age 46)</td>\n",
       "      <td>U.S. House</td>\n",
       "      <td>January 8, 2019</td>\n",
       "      <td>2027 (term limits)</td>\n",
       "      <td>[26]</td>\n",
       "    </tr>\n",
       "    <tr>\n",
       "      <th>9</th>\n",
       "      <td>Georgia (list)</td>\n",
       "      <td>NaN</td>\n",
       "      <td>Brian Kemp</td>\n",
       "      <td>NaN</td>\n",
       "      <td>Republican</td>\n",
       "      <td>November 2, 1963 (age 61)</td>\n",
       "      <td>Secretary of StateGeorgia Senate</td>\n",
       "      <td>January 14, 2019</td>\n",
       "      <td>2027 (term limits)</td>\n",
       "      <td>[27]</td>\n",
       "    </tr>\n",
       "    <tr>\n",
       "      <th>10</th>\n",
       "      <td>Hawaii (list)</td>\n",
       "      <td>NaN</td>\n",
       "      <td>Josh Green</td>\n",
       "      <td>NaN</td>\n",
       "      <td>Democratic</td>\n",
       "      <td>February 11, 1970 (age 54)</td>\n",
       "      <td>Lieutenant GovernorHawaii SenateHawaii House</td>\n",
       "      <td>December 5, 2022</td>\n",
       "      <td>2026</td>\n",
       "      <td>[28]</td>\n",
       "    </tr>\n",
       "    <tr>\n",
       "      <th>11</th>\n",
       "      <td>Idaho (list)</td>\n",
       "      <td>NaN</td>\n",
       "      <td>Brad Little</td>\n",
       "      <td>NaN</td>\n",
       "      <td>Republican</td>\n",
       "      <td>February 15, 1954 (age 70)</td>\n",
       "      <td>Lieutenant GovernorIdaho Senate</td>\n",
       "      <td>January 7, 2019</td>\n",
       "      <td>2027</td>\n",
       "      <td>[29]</td>\n",
       "    </tr>\n",
       "    <tr>\n",
       "      <th>12</th>\n",
       "      <td>Illinois (list)</td>\n",
       "      <td>NaN</td>\n",
       "      <td>J. B. Pritzker</td>\n",
       "      <td>NaN</td>\n",
       "      <td>Democratic</td>\n",
       "      <td>January 19, 1965 (age 59)</td>\n",
       "      <td>Chair of the Illinois Human Rights Commission</td>\n",
       "      <td>January 14, 2019</td>\n",
       "      <td>2027</td>\n",
       "      <td>[30][31]</td>\n",
       "    </tr>\n",
       "    <tr>\n",
       "      <th>13</th>\n",
       "      <td>Indiana (list)</td>\n",
       "      <td>NaN</td>\n",
       "      <td>Eric Holcomb</td>\n",
       "      <td>NaN</td>\n",
       "      <td>Republican</td>\n",
       "      <td>May 2, 1968 (age 56)</td>\n",
       "      <td>Lieutenant Governor</td>\n",
       "      <td>January 9, 2017</td>\n",
       "      <td>2025 (term limits)</td>\n",
       "      <td>[32]</td>\n",
       "    </tr>\n",
       "    <tr>\n",
       "      <th>14</th>\n",
       "      <td>Iowa (list)</td>\n",
       "      <td>NaN</td>\n",
       "      <td>Kim Reynolds</td>\n",
       "      <td>NaN</td>\n",
       "      <td>Republican</td>\n",
       "      <td>August 4, 1959 (age 65)</td>\n",
       "      <td>Lieutenant GovernorIowa SenateClarke County Tr...</td>\n",
       "      <td>May 24, 2017</td>\n",
       "      <td>2027</td>\n",
       "      <td>[33]</td>\n",
       "    </tr>\n",
       "    <tr>\n",
       "      <th>15</th>\n",
       "      <td>Kansas (list)</td>\n",
       "      <td>NaN</td>\n",
       "      <td>Laura Kelly</td>\n",
       "      <td>NaN</td>\n",
       "      <td>Democratic</td>\n",
       "      <td>January 24, 1950 (age 74)</td>\n",
       "      <td>Kansas Senate</td>\n",
       "      <td>January 14, 2019</td>\n",
       "      <td>2027 (term limits)</td>\n",
       "      <td>[34]</td>\n",
       "    </tr>\n",
       "    <tr>\n",
       "      <th>16</th>\n",
       "      <td>Kentucky (list)</td>\n",
       "      <td>NaN</td>\n",
       "      <td>Andy Beshear</td>\n",
       "      <td>NaN</td>\n",
       "      <td>Democratic</td>\n",
       "      <td>November 29, 1977 (age 47)</td>\n",
       "      <td>State Attorney General</td>\n",
       "      <td>December 10, 2019</td>\n",
       "      <td>2027 (term limits)</td>\n",
       "      <td>[35]</td>\n",
       "    </tr>\n",
       "    <tr>\n",
       "      <th>17</th>\n",
       "      <td>Louisiana (list)</td>\n",
       "      <td>NaN</td>\n",
       "      <td>Jeff Landry</td>\n",
       "      <td>NaN</td>\n",
       "      <td>Republican</td>\n",
       "      <td>December 23, 1970 (age 54)</td>\n",
       "      <td>State Attorney GeneralU.S. House</td>\n",
       "      <td>January 8, 2024</td>\n",
       "      <td>2028</td>\n",
       "      <td>[36]</td>\n",
       "    </tr>\n",
       "    <tr>\n",
       "      <th>18</th>\n",
       "      <td>Maine (list)</td>\n",
       "      <td>NaN</td>\n",
       "      <td>Janet Mills</td>\n",
       "      <td>NaN</td>\n",
       "      <td>Democratic</td>\n",
       "      <td>December 30, 1947 (age 76)</td>\n",
       "      <td>State Attorney GeneralMaine House</td>\n",
       "      <td>January 2, 2019</td>\n",
       "      <td>2027 (term limits)</td>\n",
       "      <td>[37]</td>\n",
       "    </tr>\n",
       "    <tr>\n",
       "      <th>19</th>\n",
       "      <td>Maryland (list)</td>\n",
       "      <td>NaN</td>\n",
       "      <td>Wes Moore</td>\n",
       "      <td>NaN</td>\n",
       "      <td>Democratic</td>\n",
       "      <td>October 15, 1978 (age 46)</td>\n",
       "      <td>No prior public experience</td>\n",
       "      <td>January 18, 2023</td>\n",
       "      <td>2027</td>\n",
       "      <td>[38]</td>\n",
       "    </tr>\n",
       "    <tr>\n",
       "      <th>20</th>\n",
       "      <td>Massachusetts (list)</td>\n",
       "      <td>NaN</td>\n",
       "      <td>Maura Healey</td>\n",
       "      <td>NaN</td>\n",
       "      <td>Democratic</td>\n",
       "      <td>February 8, 1971 (age 53)</td>\n",
       "      <td>State Attorney General</td>\n",
       "      <td>January 5, 2023</td>\n",
       "      <td>2027</td>\n",
       "      <td>[39]</td>\n",
       "    </tr>\n",
       "    <tr>\n",
       "      <th>21</th>\n",
       "      <td>Michigan (list)</td>\n",
       "      <td>NaN</td>\n",
       "      <td>Gretchen Whitmer</td>\n",
       "      <td>NaN</td>\n",
       "      <td>Democratic</td>\n",
       "      <td>August 23, 1971 (age 53)</td>\n",
       "      <td>Minority Leader of the Michigan SenateMichigan...</td>\n",
       "      <td>January 1, 2019</td>\n",
       "      <td>2027 (term limits)</td>\n",
       "      <td>[40][41]</td>\n",
       "    </tr>\n",
       "    <tr>\n",
       "      <th>22</th>\n",
       "      <td>Minnesota (list)</td>\n",
       "      <td>NaN</td>\n",
       "      <td>Tim Walz</td>\n",
       "      <td>NaN</td>\n",
       "      <td>Democratic–Farmer–Labor[note 1]</td>\n",
       "      <td>April 6, 1964 (age 60)</td>\n",
       "      <td>U.S. House</td>\n",
       "      <td>January 7, 2019</td>\n",
       "      <td>2027</td>\n",
       "      <td>[43]</td>\n",
       "    </tr>\n",
       "    <tr>\n",
       "      <th>23</th>\n",
       "      <td>Mississippi (list)</td>\n",
       "      <td>NaN</td>\n",
       "      <td>Tate Reeves</td>\n",
       "      <td>NaN</td>\n",
       "      <td>Republican</td>\n",
       "      <td>June 5, 1974 (age 50)</td>\n",
       "      <td>Lieutenant GovernorState Treasurer</td>\n",
       "      <td>January 14, 2020</td>\n",
       "      <td>2028 (term limits)</td>\n",
       "      <td>[44]</td>\n",
       "    </tr>\n",
       "    <tr>\n",
       "      <th>24</th>\n",
       "      <td>Missouri (list)</td>\n",
       "      <td>NaN</td>\n",
       "      <td>Mike Parson</td>\n",
       "      <td>NaN</td>\n",
       "      <td>Republican</td>\n",
       "      <td>September 17, 1955 (age 69)</td>\n",
       "      <td>Lieutenant GovernorMissouri SenateMissouri Hou...</td>\n",
       "      <td>June 1, 2018</td>\n",
       "      <td>2025 (term limits)</td>\n",
       "      <td>[45]</td>\n",
       "    </tr>\n",
       "    <tr>\n",
       "      <th>25</th>\n",
       "      <td>Montana (list)</td>\n",
       "      <td>NaN</td>\n",
       "      <td>Greg Gianforte</td>\n",
       "      <td>NaN</td>\n",
       "      <td>Republican</td>\n",
       "      <td>April 17, 1961 (age 63)</td>\n",
       "      <td>U.S. House</td>\n",
       "      <td>January 4, 2021</td>\n",
       "      <td>2025</td>\n",
       "      <td>[46]</td>\n",
       "    </tr>\n",
       "    <tr>\n",
       "      <th>26</th>\n",
       "      <td>Nebraska (list)</td>\n",
       "      <td>NaN</td>\n",
       "      <td>Jim Pillen</td>\n",
       "      <td>NaN</td>\n",
       "      <td>Republican</td>\n",
       "      <td>December 31, 1955 (age 68)</td>\n",
       "      <td>No prior public experience</td>\n",
       "      <td>January 5, 2023</td>\n",
       "      <td>2027</td>\n",
       "      <td>[47]</td>\n",
       "    </tr>\n",
       "    <tr>\n",
       "      <th>27</th>\n",
       "      <td>Nevada (list)</td>\n",
       "      <td>NaN</td>\n",
       "      <td>Joe Lombardo</td>\n",
       "      <td>NaN</td>\n",
       "      <td>Republican</td>\n",
       "      <td>November 8, 1962 (age 62)</td>\n",
       "      <td>Clark County Sheriff</td>\n",
       "      <td>January 2, 2023</td>\n",
       "      <td>2027</td>\n",
       "      <td>[48]</td>\n",
       "    </tr>\n",
       "    <tr>\n",
       "      <th>28</th>\n",
       "      <td>New Hampshire (list)</td>\n",
       "      <td>NaN</td>\n",
       "      <td>Chris Sununu</td>\n",
       "      <td>NaN</td>\n",
       "      <td>Republican</td>\n",
       "      <td>November 5, 1974 (age 50)</td>\n",
       "      <td>New Hampshire Executive Council</td>\n",
       "      <td>January 5, 2017</td>\n",
       "      <td>2025 (retiring)[49]</td>\n",
       "      <td>[50]</td>\n",
       "    </tr>\n",
       "    <tr>\n",
       "      <th>29</th>\n",
       "      <td>New Jersey (list)</td>\n",
       "      <td>NaN</td>\n",
       "      <td>Phil Murphy</td>\n",
       "      <td>NaN</td>\n",
       "      <td>Democratic</td>\n",
       "      <td>August 16, 1957 (age 67)</td>\n",
       "      <td>U.S. Ambassador to Germany</td>\n",
       "      <td>January 16, 2018</td>\n",
       "      <td>2026 (term limits)</td>\n",
       "      <td>[51]</td>\n",
       "    </tr>\n",
       "    <tr>\n",
       "      <th>30</th>\n",
       "      <td>New Mexico (list)</td>\n",
       "      <td>NaN</td>\n",
       "      <td>Michelle Lujan Grisham</td>\n",
       "      <td>NaN</td>\n",
       "      <td>Democratic</td>\n",
       "      <td>October 24, 1959 (age 65)</td>\n",
       "      <td>U.S. HouseBernalillo County CommissionState Se...</td>\n",
       "      <td>January 1, 2019</td>\n",
       "      <td>2027 (term limits)</td>\n",
       "      <td>[52][53]</td>\n",
       "    </tr>\n",
       "    <tr>\n",
       "      <th>31</th>\n",
       "      <td>New York (list)</td>\n",
       "      <td>NaN</td>\n",
       "      <td>Kathy Hochul</td>\n",
       "      <td>NaN</td>\n",
       "      <td>Democratic</td>\n",
       "      <td>August 27, 1958 (age 66)</td>\n",
       "      <td>Lieutenant GovernorU.S. HouseErie County Clerk</td>\n",
       "      <td>August 24, 2021</td>\n",
       "      <td>2026[note 2]</td>\n",
       "      <td>[55]</td>\n",
       "    </tr>\n",
       "    <tr>\n",
       "      <th>32</th>\n",
       "      <td>North Carolina (list)</td>\n",
       "      <td>NaN</td>\n",
       "      <td>Roy Cooper</td>\n",
       "      <td>NaN</td>\n",
       "      <td>Democratic</td>\n",
       "      <td>June 13, 1957 (age 67)</td>\n",
       "      <td>State Attorney GeneralMajority Leader of the N...</td>\n",
       "      <td>January 1, 2017</td>\n",
       "      <td>2025 (term limits)</td>\n",
       "      <td>[56][57]</td>\n",
       "    </tr>\n",
       "    <tr>\n",
       "      <th>33</th>\n",
       "      <td>North Dakota (list)</td>\n",
       "      <td>NaN</td>\n",
       "      <td>Kelly Armstrong</td>\n",
       "      <td>NaN</td>\n",
       "      <td>Republican</td>\n",
       "      <td>October 6, 1976 (age 48)</td>\n",
       "      <td>U.S. HouseNorth Dakota Senate</td>\n",
       "      <td>December 15, 2024</td>\n",
       "      <td>2028</td>\n",
       "      <td>[58]</td>\n",
       "    </tr>\n",
       "    <tr>\n",
       "      <th>34</th>\n",
       "      <td>Ohio (list)</td>\n",
       "      <td>NaN</td>\n",
       "      <td>Mike DeWine</td>\n",
       "      <td>NaN</td>\n",
       "      <td>Republican</td>\n",
       "      <td>January 5, 1947 (age 77)</td>\n",
       "      <td>State Attorney GeneralU.S. SenateLieutenant Go...</td>\n",
       "      <td>January 14, 2019</td>\n",
       "      <td>2027 (term limits)</td>\n",
       "      <td>[59]</td>\n",
       "    </tr>\n",
       "    <tr>\n",
       "      <th>35</th>\n",
       "      <td>Oklahoma (list)</td>\n",
       "      <td>NaN</td>\n",
       "      <td>Kevin Stitt</td>\n",
       "      <td>NaN</td>\n",
       "      <td>Republican</td>\n",
       "      <td>December 28, 1972 (age 51)</td>\n",
       "      <td>No prior public experience</td>\n",
       "      <td>January 14, 2019</td>\n",
       "      <td>2027 (term limits)</td>\n",
       "      <td>[60]</td>\n",
       "    </tr>\n",
       "    <tr>\n",
       "      <th>36</th>\n",
       "      <td>Oregon (list)</td>\n",
       "      <td>NaN</td>\n",
       "      <td>Tina Kotek</td>\n",
       "      <td>NaN</td>\n",
       "      <td>Democratic</td>\n",
       "      <td>September 30, 1966 (age 58)</td>\n",
       "      <td>Speaker of the Oregon House</td>\n",
       "      <td>January 9, 2023</td>\n",
       "      <td>2027</td>\n",
       "      <td>[61]</td>\n",
       "    </tr>\n",
       "    <tr>\n",
       "      <th>37</th>\n",
       "      <td>Pennsylvania (list)</td>\n",
       "      <td>NaN</td>\n",
       "      <td>Josh Shapiro</td>\n",
       "      <td>NaN</td>\n",
       "      <td>Democratic</td>\n",
       "      <td>June 20, 1973 (age 51)</td>\n",
       "      <td>State Attorney GeneralMontgomery County Board ...</td>\n",
       "      <td>January 17, 2023</td>\n",
       "      <td>2027</td>\n",
       "      <td>[62]</td>\n",
       "    </tr>\n",
       "    <tr>\n",
       "      <th>38</th>\n",
       "      <td>Rhode Island (list)</td>\n",
       "      <td>NaN</td>\n",
       "      <td>Dan McKee</td>\n",
       "      <td>NaN</td>\n",
       "      <td>Democratic</td>\n",
       "      <td>June 16, 1951 (age 73)</td>\n",
       "      <td>Lieutenant Governor</td>\n",
       "      <td>March 2, 2021</td>\n",
       "      <td>2027</td>\n",
       "      <td>[63]</td>\n",
       "    </tr>\n",
       "    <tr>\n",
       "      <th>39</th>\n",
       "      <td>South Carolina (list)</td>\n",
       "      <td>NaN</td>\n",
       "      <td>Henry McMaster</td>\n",
       "      <td>NaN</td>\n",
       "      <td>Republican</td>\n",
       "      <td>May 27, 1947 (age 77)</td>\n",
       "      <td>Lieutenant GovernorState Attorney General</td>\n",
       "      <td>January 24, 2017</td>\n",
       "      <td>2027 (term limits)</td>\n",
       "      <td>[64]</td>\n",
       "    </tr>\n",
       "    <tr>\n",
       "      <th>40</th>\n",
       "      <td>South Dakota (list)</td>\n",
       "      <td>NaN</td>\n",
       "      <td>Kristi Noem</td>\n",
       "      <td>NaN</td>\n",
       "      <td>Republican</td>\n",
       "      <td>November 30, 1971 (age 53)</td>\n",
       "      <td>U.S. HouseSouth Dakota House</td>\n",
       "      <td>January 5, 2019</td>\n",
       "      <td>2027 (term limits)</td>\n",
       "      <td>[65]</td>\n",
       "    </tr>\n",
       "    <tr>\n",
       "      <th>41</th>\n",
       "      <td>Tennessee (list)</td>\n",
       "      <td>NaN</td>\n",
       "      <td>Bill Lee</td>\n",
       "      <td>NaN</td>\n",
       "      <td>Republican</td>\n",
       "      <td>October 9, 1959 (age 65)</td>\n",
       "      <td>No prior public experience</td>\n",
       "      <td>January 19, 2019</td>\n",
       "      <td>2027 (term limits)</td>\n",
       "      <td>[66]</td>\n",
       "    </tr>\n",
       "    <tr>\n",
       "      <th>42</th>\n",
       "      <td>Texas (list)</td>\n",
       "      <td>NaN</td>\n",
       "      <td>Greg Abbott</td>\n",
       "      <td>NaN</td>\n",
       "      <td>Republican</td>\n",
       "      <td>November 13, 1957 (age 67)</td>\n",
       "      <td>State Attorney GeneralAssociate Justice of the...</td>\n",
       "      <td>January 20, 2015</td>\n",
       "      <td>2027</td>\n",
       "      <td>[67]</td>\n",
       "    </tr>\n",
       "    <tr>\n",
       "      <th>43</th>\n",
       "      <td>Utah (list)</td>\n",
       "      <td>NaN</td>\n",
       "      <td>Spencer Cox</td>\n",
       "      <td>NaN</td>\n",
       "      <td>Republican</td>\n",
       "      <td>July 11, 1975 (age 49)</td>\n",
       "      <td>Lieutenant GovernorUtah HouseSanpete County Co...</td>\n",
       "      <td>January 4, 2021</td>\n",
       "      <td>2025</td>\n",
       "      <td>[68][69]</td>\n",
       "    </tr>\n",
       "    <tr>\n",
       "      <th>44</th>\n",
       "      <td>Vermont (list)</td>\n",
       "      <td>NaN</td>\n",
       "      <td>Phil Scott</td>\n",
       "      <td>NaN</td>\n",
       "      <td>Republican</td>\n",
       "      <td>August 4, 1958 (age 66)</td>\n",
       "      <td>Lieutenant GovernorVermont Senate</td>\n",
       "      <td>January 5, 2017</td>\n",
       "      <td>2025</td>\n",
       "      <td>[70]</td>\n",
       "    </tr>\n",
       "    <tr>\n",
       "      <th>45</th>\n",
       "      <td>Virginia (list)</td>\n",
       "      <td>NaN</td>\n",
       "      <td>Glenn Youngkin</td>\n",
       "      <td>NaN</td>\n",
       "      <td>Republican</td>\n",
       "      <td>December 9, 1966 (age 58)</td>\n",
       "      <td>No prior public experience</td>\n",
       "      <td>January 15, 2022</td>\n",
       "      <td>2026 (term limits)</td>\n",
       "      <td>[71]</td>\n",
       "    </tr>\n",
       "    <tr>\n",
       "      <th>46</th>\n",
       "      <td>Washington (list)</td>\n",
       "      <td>NaN</td>\n",
       "      <td>Jay Inslee</td>\n",
       "      <td>NaN</td>\n",
       "      <td>Democratic</td>\n",
       "      <td>February 9, 1951 (age 73)</td>\n",
       "      <td>U.S. HouseWashington House</td>\n",
       "      <td>January 16, 2013</td>\n",
       "      <td>2025 (retiring)[72]</td>\n",
       "      <td>[73]</td>\n",
       "    </tr>\n",
       "    <tr>\n",
       "      <th>47</th>\n",
       "      <td>West Virginia (list)</td>\n",
       "      <td>NaN</td>\n",
       "      <td>Jim Justice</td>\n",
       "      <td>NaN</td>\n",
       "      <td>Republican[note 3]</td>\n",
       "      <td>April 27, 1951 (age 73)</td>\n",
       "      <td>No prior public experience</td>\n",
       "      <td>January 16, 2017</td>\n",
       "      <td>2025 (term limits)</td>\n",
       "      <td>[75]</td>\n",
       "    </tr>\n",
       "    <tr>\n",
       "      <th>48</th>\n",
       "      <td>Wisconsin (list)</td>\n",
       "      <td>NaN</td>\n",
       "      <td>Tony Evers</td>\n",
       "      <td>NaN</td>\n",
       "      <td>Democratic</td>\n",
       "      <td>November 5, 1951 (age 73)</td>\n",
       "      <td>State Superintendent of Public Instruction</td>\n",
       "      <td>January 7, 2019</td>\n",
       "      <td>2027</td>\n",
       "      <td>[76]</td>\n",
       "    </tr>\n",
       "    <tr>\n",
       "      <th>49</th>\n",
       "      <td>Wyoming (list)</td>\n",
       "      <td>NaN</td>\n",
       "      <td>Mark Gordon</td>\n",
       "      <td>NaN</td>\n",
       "      <td>Republican</td>\n",
       "      <td>March 14, 1957 (age 67)</td>\n",
       "      <td>State Treasurer</td>\n",
       "      <td>January 7, 2019</td>\n",
       "      <td>2027 (term limits)</td>\n",
       "      <td>[77]</td>\n",
       "    </tr>\n",
       "  </tbody>\n",
       "</table>\n",
       "</div>"
      ],
      "text/plain": [
       "                    State  Image             Governor[6]  Party[6]  \\\n",
       "0          Alabama (list)    NaN                Kay Ivey       NaN   \n",
       "1           Alaska (list)    NaN           Mike Dunleavy       NaN   \n",
       "2          Arizona (list)    NaN             Katie Hobbs       NaN   \n",
       "3         Arkansas (list)    NaN  Sarah Huckabee Sanders       NaN   \n",
       "4       California (list)    NaN            Gavin Newsom       NaN   \n",
       "5         Colorado (list)    NaN             Jared Polis       NaN   \n",
       "6      Connecticut (list)    NaN              Ned Lamont       NaN   \n",
       "7         Delaware (list)    NaN             John Carney       NaN   \n",
       "8          Florida (list)    NaN            Ron DeSantis       NaN   \n",
       "9          Georgia (list)    NaN              Brian Kemp       NaN   \n",
       "10          Hawaii (list)    NaN              Josh Green       NaN   \n",
       "11           Idaho (list)    NaN             Brad Little       NaN   \n",
       "12        Illinois (list)    NaN          J. B. Pritzker       NaN   \n",
       "13         Indiana (list)    NaN            Eric Holcomb       NaN   \n",
       "14            Iowa (list)    NaN            Kim Reynolds       NaN   \n",
       "15          Kansas (list)    NaN             Laura Kelly       NaN   \n",
       "16        Kentucky (list)    NaN            Andy Beshear       NaN   \n",
       "17       Louisiana (list)    NaN             Jeff Landry       NaN   \n",
       "18           Maine (list)    NaN             Janet Mills       NaN   \n",
       "19        Maryland (list)    NaN               Wes Moore       NaN   \n",
       "20   Massachusetts (list)    NaN            Maura Healey       NaN   \n",
       "21        Michigan (list)    NaN        Gretchen Whitmer       NaN   \n",
       "22       Minnesota (list)    NaN                Tim Walz       NaN   \n",
       "23     Mississippi (list)    NaN             Tate Reeves       NaN   \n",
       "24        Missouri (list)    NaN             Mike Parson       NaN   \n",
       "25         Montana (list)    NaN          Greg Gianforte       NaN   \n",
       "26        Nebraska (list)    NaN              Jim Pillen       NaN   \n",
       "27          Nevada (list)    NaN            Joe Lombardo       NaN   \n",
       "28   New Hampshire (list)    NaN            Chris Sununu       NaN   \n",
       "29      New Jersey (list)    NaN             Phil Murphy       NaN   \n",
       "30      New Mexico (list)    NaN  Michelle Lujan Grisham       NaN   \n",
       "31        New York (list)    NaN            Kathy Hochul       NaN   \n",
       "32  North Carolina (list)    NaN              Roy Cooper       NaN   \n",
       "33    North Dakota (list)    NaN         Kelly Armstrong       NaN   \n",
       "34            Ohio (list)    NaN             Mike DeWine       NaN   \n",
       "35        Oklahoma (list)    NaN             Kevin Stitt       NaN   \n",
       "36          Oregon (list)    NaN              Tina Kotek       NaN   \n",
       "37    Pennsylvania (list)    NaN            Josh Shapiro       NaN   \n",
       "38    Rhode Island (list)    NaN               Dan McKee       NaN   \n",
       "39  South Carolina (list)    NaN          Henry McMaster       NaN   \n",
       "40    South Dakota (list)    NaN             Kristi Noem       NaN   \n",
       "41       Tennessee (list)    NaN                Bill Lee       NaN   \n",
       "42           Texas (list)    NaN             Greg Abbott       NaN   \n",
       "43            Utah (list)    NaN             Spencer Cox       NaN   \n",
       "44         Vermont (list)    NaN              Phil Scott       NaN   \n",
       "45        Virginia (list)    NaN          Glenn Youngkin       NaN   \n",
       "46      Washington (list)    NaN              Jay Inslee       NaN   \n",
       "47   West Virginia (list)    NaN             Jim Justice       NaN   \n",
       "48       Wisconsin (list)    NaN              Tony Evers       NaN   \n",
       "49         Wyoming (list)    NaN             Mark Gordon       NaN   \n",
       "\n",
       "                         Party[6].1                         Born  \\\n",
       "0                        Republican    October 15, 1944 (age 80)   \n",
       "1                        Republican         May 5, 1961 (age 63)   \n",
       "2                        Democratic   December 28, 1969 (age 54)   \n",
       "3                        Republican     August 13, 1982 (age 42)   \n",
       "4                        Democratic    October 10, 1967 (age 57)   \n",
       "5                        Democratic        May 12, 1975 (age 49)   \n",
       "6                        Democratic     January 3, 1954 (age 70)   \n",
       "7                        Democratic        May 20, 1956 (age 68)   \n",
       "8                        Republican  September 14, 1978 (age 46)   \n",
       "9                        Republican    November 2, 1963 (age 61)   \n",
       "10                       Democratic   February 11, 1970 (age 54)   \n",
       "11                       Republican   February 15, 1954 (age 70)   \n",
       "12                       Democratic    January 19, 1965 (age 59)   \n",
       "13                       Republican         May 2, 1968 (age 56)   \n",
       "14                       Republican      August 4, 1959 (age 65)   \n",
       "15                       Democratic    January 24, 1950 (age 74)   \n",
       "16                       Democratic   November 29, 1977 (age 47)   \n",
       "17                       Republican   December 23, 1970 (age 54)   \n",
       "18                       Democratic   December 30, 1947 (age 76)   \n",
       "19                       Democratic    October 15, 1978 (age 46)   \n",
       "20                       Democratic    February 8, 1971 (age 53)   \n",
       "21                       Democratic     August 23, 1971 (age 53)   \n",
       "22  Democratic–Farmer–Labor[note 1]       April 6, 1964 (age 60)   \n",
       "23                       Republican        June 5, 1974 (age 50)   \n",
       "24                       Republican  September 17, 1955 (age 69)   \n",
       "25                       Republican      April 17, 1961 (age 63)   \n",
       "26                       Republican   December 31, 1955 (age 68)   \n",
       "27                       Republican    November 8, 1962 (age 62)   \n",
       "28                       Republican    November 5, 1974 (age 50)   \n",
       "29                       Democratic     August 16, 1957 (age 67)   \n",
       "30                       Democratic    October 24, 1959 (age 65)   \n",
       "31                       Democratic     August 27, 1958 (age 66)   \n",
       "32                       Democratic       June 13, 1957 (age 67)   \n",
       "33                       Republican     October 6, 1976 (age 48)   \n",
       "34                       Republican     January 5, 1947 (age 77)   \n",
       "35                       Republican   December 28, 1972 (age 51)   \n",
       "36                       Democratic  September 30, 1966 (age 58)   \n",
       "37                       Democratic       June 20, 1973 (age 51)   \n",
       "38                       Democratic       June 16, 1951 (age 73)   \n",
       "39                       Republican        May 27, 1947 (age 77)   \n",
       "40                       Republican   November 30, 1971 (age 53)   \n",
       "41                       Republican     October 9, 1959 (age 65)   \n",
       "42                       Republican   November 13, 1957 (age 67)   \n",
       "43                       Republican       July 11, 1975 (age 49)   \n",
       "44                       Republican      August 4, 1958 (age 66)   \n",
       "45                       Republican    December 9, 1966 (age 58)   \n",
       "46                       Democratic    February 9, 1951 (age 73)   \n",
       "47               Republican[note 3]      April 27, 1951 (age 73)   \n",
       "48                       Democratic    November 5, 1951 (age 73)   \n",
       "49                       Republican      March 14, 1957 (age 67)   \n",
       "\n",
       "                          Prior public experience[14]    Inauguration[6]  \\\n",
       "0                  Lieutenant GovernorState Treasurer     April 10, 2017   \n",
       "1                                       Alaska Senate   December 3, 2018   \n",
       "2   Secretary of StateMinority Leader of the Arizo...    January 2, 2023   \n",
       "3                         White House Press Secretary   January 10, 2023   \n",
       "4   Lieutenant GovernorMayor of San FranciscoSan F...    January 7, 2019   \n",
       "5         U.S. HouseColorado State Board of Education    January 8, 2019   \n",
       "6   Chair of the State Investment Advisory Council...    January 9, 2019   \n",
       "7   U.S. HouseLieutenant GovernorState Secretary o...   January 17, 2017   \n",
       "8                                          U.S. House    January 8, 2019   \n",
       "9                    Secretary of StateGeorgia Senate   January 14, 2019   \n",
       "10       Lieutenant GovernorHawaii SenateHawaii House   December 5, 2022   \n",
       "11                    Lieutenant GovernorIdaho Senate    January 7, 2019   \n",
       "12      Chair of the Illinois Human Rights Commission   January 14, 2019   \n",
       "13                                Lieutenant Governor    January 9, 2017   \n",
       "14  Lieutenant GovernorIowa SenateClarke County Tr...       May 24, 2017   \n",
       "15                                      Kansas Senate   January 14, 2019   \n",
       "16                             State Attorney General  December 10, 2019   \n",
       "17                   State Attorney GeneralU.S. House    January 8, 2024   \n",
       "18                  State Attorney GeneralMaine House    January 2, 2019   \n",
       "19                         No prior public experience   January 18, 2023   \n",
       "20                             State Attorney General    January 5, 2023   \n",
       "21  Minority Leader of the Michigan SenateMichigan...    January 1, 2019   \n",
       "22                                         U.S. House    January 7, 2019   \n",
       "23                 Lieutenant GovernorState Treasurer   January 14, 2020   \n",
       "24  Lieutenant GovernorMissouri SenateMissouri Hou...       June 1, 2018   \n",
       "25                                         U.S. House    January 4, 2021   \n",
       "26                         No prior public experience    January 5, 2023   \n",
       "27                               Clark County Sheriff    January 2, 2023   \n",
       "28                    New Hampshire Executive Council    January 5, 2017   \n",
       "29                         U.S. Ambassador to Germany   January 16, 2018   \n",
       "30  U.S. HouseBernalillo County CommissionState Se...    January 1, 2019   \n",
       "31     Lieutenant GovernorU.S. HouseErie County Clerk    August 24, 2021   \n",
       "32  State Attorney GeneralMajority Leader of the N...    January 1, 2017   \n",
       "33                      U.S. HouseNorth Dakota Senate  December 15, 2024   \n",
       "34  State Attorney GeneralU.S. SenateLieutenant Go...   January 14, 2019   \n",
       "35                         No prior public experience   January 14, 2019   \n",
       "36                        Speaker of the Oregon House    January 9, 2023   \n",
       "37  State Attorney GeneralMontgomery County Board ...   January 17, 2023   \n",
       "38                                Lieutenant Governor      March 2, 2021   \n",
       "39          Lieutenant GovernorState Attorney General   January 24, 2017   \n",
       "40                       U.S. HouseSouth Dakota House    January 5, 2019   \n",
       "41                         No prior public experience   January 19, 2019   \n",
       "42  State Attorney GeneralAssociate Justice of the...   January 20, 2015   \n",
       "43  Lieutenant GovernorUtah HouseSanpete County Co...    January 4, 2021   \n",
       "44                  Lieutenant GovernorVermont Senate    January 5, 2017   \n",
       "45                         No prior public experience   January 15, 2022   \n",
       "46                         U.S. HouseWashington House   January 16, 2013   \n",
       "47                         No prior public experience   January 16, 2017   \n",
       "48         State Superintendent of Public Instruction    January 7, 2019   \n",
       "49                                    State Treasurer    January 7, 2019   \n",
       "\n",
       "         End of term[6]      Ref.  \n",
       "0    2027 (term limits)      [17]  \n",
       "1    2026 (term limits)      [18]  \n",
       "2                  2027      [19]  \n",
       "3                  2027      [20]  \n",
       "4    2027 (term limits)      [21]  \n",
       "5    2027 (term limits)      [22]  \n",
       "6                  2027      [23]  \n",
       "7    2025 (term limits)  [24][25]  \n",
       "8    2027 (term limits)      [26]  \n",
       "9    2027 (term limits)      [27]  \n",
       "10                 2026      [28]  \n",
       "11                 2027      [29]  \n",
       "12                 2027  [30][31]  \n",
       "13   2025 (term limits)      [32]  \n",
       "14                 2027      [33]  \n",
       "15   2027 (term limits)      [34]  \n",
       "16   2027 (term limits)      [35]  \n",
       "17                 2028      [36]  \n",
       "18   2027 (term limits)      [37]  \n",
       "19                 2027      [38]  \n",
       "20                 2027      [39]  \n",
       "21   2027 (term limits)  [40][41]  \n",
       "22                 2027      [43]  \n",
       "23   2028 (term limits)      [44]  \n",
       "24   2025 (term limits)      [45]  \n",
       "25                 2025      [46]  \n",
       "26                 2027      [47]  \n",
       "27                 2027      [48]  \n",
       "28  2025 (retiring)[49]      [50]  \n",
       "29   2026 (term limits)      [51]  \n",
       "30   2027 (term limits)  [52][53]  \n",
       "31         2026[note 2]      [55]  \n",
       "32   2025 (term limits)  [56][57]  \n",
       "33                 2028      [58]  \n",
       "34   2027 (term limits)      [59]  \n",
       "35   2027 (term limits)      [60]  \n",
       "36                 2027      [61]  \n",
       "37                 2027      [62]  \n",
       "38                 2027      [63]  \n",
       "39   2027 (term limits)      [64]  \n",
       "40   2027 (term limits)      [65]  \n",
       "41   2027 (term limits)      [66]  \n",
       "42                 2027      [67]  \n",
       "43                 2025  [68][69]  \n",
       "44                 2025      [70]  \n",
       "45   2026 (term limits)      [71]  \n",
       "46  2025 (retiring)[72]      [73]  \n",
       "47   2025 (term limits)      [75]  \n",
       "48                 2027      [76]  \n",
       "49   2027 (term limits)      [77]  "
      ]
     },
     "execution_count": 257,
     "metadata": {},
     "output_type": "execute_result"
    }
   ],
   "source": [
    "# We can define that we want the 2nd table on the page\n",
    "g_data = pd.read_html(\"https://en.wikipedia.org/wiki/List_of_current_United_States_governors\")[1]\n",
    "g_data"
   ]
  },
  {
   "cell_type": "markdown",
   "id": "9757d7e7-0186-4a2e-ac2e-07231f5eb097",
   "metadata": {},
   "source": [
    "## US DEMOGRAPHICS"
   ]
  },
  {
   "cell_type": "code",
   "execution_count": 259,
   "id": "548f1b39-ea8a-4275-8e90-d4565e8cd91e",
   "metadata": {},
   "outputs": [
    {
     "data": {
      "text/html": [
       "<div>\n",
       "<style scoped>\n",
       "    .dataframe tbody tr th:only-of-type {\n",
       "        vertical-align: middle;\n",
       "    }\n",
       "\n",
       "    .dataframe tbody tr th {\n",
       "        vertical-align: top;\n",
       "    }\n",
       "\n",
       "    .dataframe thead th {\n",
       "        text-align: right;\n",
       "    }\n",
       "</style>\n",
       "<table border=\"1\" class=\"dataframe\">\n",
       "  <thead>\n",
       "    <tr style=\"text-align: right;\">\n",
       "      <th></th>\n",
       "      <th>Unnamed: 0</th>\n",
       "      <th>Average population</th>\n",
       "      <th>Live births[101]</th>\n",
       "      <th>Deaths</th>\n",
       "      <th>Natural change</th>\n",
       "      <th>Crude birth rate (per 1,000)</th>\n",
       "      <th>Crude death rate (per 1,000)[102]</th>\n",
       "      <th>Natural change (per 1,000)</th>\n",
       "      <th>Crude migration change (per 1,000)</th>\n",
       "      <th>Total fertility rate[fn 1][103]</th>\n",
       "    </tr>\n",
       "  </thead>\n",
       "  <tbody>\n",
       "    <tr>\n",
       "      <th>0</th>\n",
       "      <td>1935</td>\n",
       "      <td>127250000</td>\n",
       "      <td>2377000</td>\n",
       "      <td>1392752</td>\n",
       "      <td>984248</td>\n",
       "      <td>18.7</td>\n",
       "      <td>10.9</td>\n",
       "      <td>7.7</td>\n",
       "      <td>NaN</td>\n",
       "      <td>2.19</td>\n",
       "    </tr>\n",
       "    <tr>\n",
       "      <th>1</th>\n",
       "      <td>1936</td>\n",
       "      <td>128053000</td>\n",
       "      <td>2355000</td>\n",
       "      <td>1479228</td>\n",
       "      <td>875772</td>\n",
       "      <td>18.4</td>\n",
       "      <td>11.5</td>\n",
       "      <td>6.8</td>\n",
       "      <td>-0.5</td>\n",
       "      <td>2.15</td>\n",
       "    </tr>\n",
       "    <tr>\n",
       "      <th>2</th>\n",
       "      <td>1937</td>\n",
       "      <td>128825000</td>\n",
       "      <td>2413000</td>\n",
       "      <td>1450427</td>\n",
       "      <td>962573</td>\n",
       "      <td>18.7</td>\n",
       "      <td>11.2</td>\n",
       "      <td>7.5</td>\n",
       "      <td>-1.5</td>\n",
       "      <td>2.17</td>\n",
       "    </tr>\n",
       "    <tr>\n",
       "      <th>3</th>\n",
       "      <td>1938</td>\n",
       "      <td>129825000</td>\n",
       "      <td>2496000</td>\n",
       "      <td>1381391</td>\n",
       "      <td>1114609</td>\n",
       "      <td>19.2</td>\n",
       "      <td>10.6</td>\n",
       "      <td>8.6</td>\n",
       "      <td>-0.9</td>\n",
       "      <td>2.22</td>\n",
       "    </tr>\n",
       "    <tr>\n",
       "      <th>4</th>\n",
       "      <td>1939</td>\n",
       "      <td>130880000</td>\n",
       "      <td>2466000</td>\n",
       "      <td>1387897</td>\n",
       "      <td>1078103</td>\n",
       "      <td>18.8</td>\n",
       "      <td>10.6</td>\n",
       "      <td>8.2</td>\n",
       "      <td>-0.1</td>\n",
       "      <td>2.17</td>\n",
       "    </tr>\n",
       "    <tr>\n",
       "      <th>...</th>\n",
       "      <td>...</td>\n",
       "      <td>...</td>\n",
       "      <td>...</td>\n",
       "      <td>...</td>\n",
       "      <td>...</td>\n",
       "      <td>...</td>\n",
       "      <td>...</td>\n",
       "      <td>...</td>\n",
       "      <td>...</td>\n",
       "      <td>...</td>\n",
       "    </tr>\n",
       "    <tr>\n",
       "      <th>84</th>\n",
       "      <td>2019</td>\n",
       "      <td>330284261</td>\n",
       "      <td>3747540</td>\n",
       "      <td>2854858</td>\n",
       "      <td>892682</td>\n",
       "      <td>11.3</td>\n",
       "      <td>8.6</td>\n",
       "      <td>2.7</td>\n",
       "      <td>2.5</td>\n",
       "      <td>1.706</td>\n",
       "    </tr>\n",
       "    <tr>\n",
       "      <th>85</th>\n",
       "      <td>2020[108][109][45]: 4</td>\n",
       "      <td>331511512</td>\n",
       "      <td>3613647</td>\n",
       "      <td>3383729</td>\n",
       "      <td>229918</td>\n",
       "      <td>10.9</td>\n",
       "      <td>10.2</td>\n",
       "      <td>0.7</td>\n",
       "      <td>3.0</td>\n",
       "      <td>1.641</td>\n",
       "    </tr>\n",
       "    <tr>\n",
       "      <th>86</th>\n",
       "      <td>2021[110][111][112]</td>\n",
       "      <td>332031554</td>\n",
       "      <td>3664292</td>\n",
       "      <td>3464231</td>\n",
       "      <td>200061</td>\n",
       "      <td>11.0</td>\n",
       "      <td>10.4</td>\n",
       "      <td>0.6</td>\n",
       "      <td>1.0</td>\n",
       "      <td>1.664[112]: 5</td>\n",
       "    </tr>\n",
       "    <tr>\n",
       "      <th>87</th>\n",
       "      <td>2022[113][114][112]</td>\n",
       "      <td>333287557</td>\n",
       "      <td>3,667,758[112]: 8</td>\n",
       "      <td>3279857</td>\n",
       "      <td>387901</td>\n",
       "      <td>11.0</td>\n",
       "      <td>9.8</td>\n",
       "      <td>1.2</td>\n",
       "      <td>2.6</td>\n",
       "      <td>1.656[112]: 5</td>\n",
       "    </tr>\n",
       "    <tr>\n",
       "      <th>88</th>\n",
       "      <td>2023p[115]</td>\n",
       "      <td>334914865</td>\n",
       "      <td>3596017</td>\n",
       "      <td>3087366</td>\n",
       "      <td>507932</td>\n",
       "      <td>10.7</td>\n",
       "      <td>9.2</td>\n",
       "      <td>1.5</td>\n",
       "      <td>3.4</td>\n",
       "      <td>1.617</td>\n",
       "    </tr>\n",
       "  </tbody>\n",
       "</table>\n",
       "<p>89 rows × 10 columns</p>\n",
       "</div>"
      ],
      "text/plain": [
       "               Unnamed: 0  Average population   Live births[101]   Deaths  \\\n",
       "0                    1935           127250000            2377000  1392752   \n",
       "1                    1936           128053000            2355000  1479228   \n",
       "2                    1937           128825000            2413000  1450427   \n",
       "3                    1938           129825000            2496000  1381391   \n",
       "4                    1939           130880000            2466000  1387897   \n",
       "..                    ...                 ...                ...      ...   \n",
       "84                   2019           330284261            3747540  2854858   \n",
       "85  2020[108][109][45]: 4           331511512            3613647  3383729   \n",
       "86    2021[110][111][112]           332031554            3664292  3464231   \n",
       "87    2022[113][114][112]           333287557  3,667,758[112]: 8  3279857   \n",
       "88             2023p[115]           334914865            3596017  3087366   \n",
       "\n",
       "    Natural change  Crude birth rate (per 1,000)  \\\n",
       "0           984248                          18.7   \n",
       "1           875772                          18.4   \n",
       "2           962573                          18.7   \n",
       "3          1114609                          19.2   \n",
       "4          1078103                          18.8   \n",
       "..             ...                           ...   \n",
       "84          892682                          11.3   \n",
       "85          229918                          10.9   \n",
       "86          200061                          11.0   \n",
       "87          387901                          11.0   \n",
       "88          507932                          10.7   \n",
       "\n",
       "    Crude death rate (per 1,000)[102]  Natural change (per 1,000)  \\\n",
       "0                                10.9                         7.7   \n",
       "1                                11.5                         6.8   \n",
       "2                                11.2                         7.5   \n",
       "3                                10.6                         8.6   \n",
       "4                                10.6                         8.2   \n",
       "..                                ...                         ...   \n",
       "84                                8.6                         2.7   \n",
       "85                               10.2                         0.7   \n",
       "86                               10.4                         0.6   \n",
       "87                                9.8                         1.2   \n",
       "88                                9.2                         1.5   \n",
       "\n",
       "    Crude migration change (per 1,000) Total fertility rate[fn 1][103]  \n",
       "0                                  NaN                            2.19  \n",
       "1                                 -0.5                            2.15  \n",
       "2                                 -1.5                            2.17  \n",
       "3                                 -0.9                            2.22  \n",
       "4                                 -0.1                            2.17  \n",
       "..                                 ...                             ...  \n",
       "84                                 2.5                           1.706  \n",
       "85                                 3.0                           1.641  \n",
       "86                                 1.0                   1.664[112]: 5  \n",
       "87                                 2.6                   1.656[112]: 5  \n",
       "88                                 3.4                           1.617  \n",
       "\n",
       "[89 rows x 10 columns]"
      ]
     },
     "execution_count": 259,
     "metadata": {},
     "output_type": "execute_result"
    }
   ],
   "source": [
    "d_data= pd.read_html(\"https://en.wikipedia.org/wiki/Demographics_of_the_United_States\",\n",
    "                     match=\"Average population\")[0]\n",
    "d_data"
   ]
  },
  {
   "cell_type": "markdown",
   "id": "33666f96-5212-4fef-9eda-47f1378e4916",
   "metadata": {},
   "source": [
    "### Replace Spaces in Column name"
   ]
  },
  {
   "cell_type": "code",
   "execution_count": 261,
   "id": "b3c58232-8b7d-40df-92fc-cb0c06630e75",
   "metadata": {},
   "outputs": [
    {
     "data": {
      "text/html": [
       "<div>\n",
       "<style scoped>\n",
       "    .dataframe tbody tr th:only-of-type {\n",
       "        vertical-align: middle;\n",
       "    }\n",
       "\n",
       "    .dataframe tbody tr th {\n",
       "        vertical-align: top;\n",
       "    }\n",
       "\n",
       "    .dataframe thead th {\n",
       "        text-align: right;\n",
       "    }\n",
       "</style>\n",
       "<table border=\"1\" class=\"dataframe\">\n",
       "  <thead>\n",
       "    <tr style=\"text-align: right;\">\n",
       "      <th></th>\n",
       "      <th>Unnamed:_0</th>\n",
       "      <th>Average_population</th>\n",
       "      <th>Live_births[101]</th>\n",
       "      <th>Deaths</th>\n",
       "      <th>Natural_change</th>\n",
       "      <th>Crude_birth_rate_(per_1,000)</th>\n",
       "      <th>Crude_death_rate_(per_1,000)[102]</th>\n",
       "      <th>Natural_change_(per_1,000)</th>\n",
       "      <th>Crude_migration_change_(per_1,000)</th>\n",
       "      <th>Total_fertility_rate[fn_1][103]</th>\n",
       "    </tr>\n",
       "  </thead>\n",
       "  <tbody>\n",
       "    <tr>\n",
       "      <th>0</th>\n",
       "      <td>1935</td>\n",
       "      <td>127250000</td>\n",
       "      <td>2377000</td>\n",
       "      <td>1392752</td>\n",
       "      <td>984248</td>\n",
       "      <td>18.7</td>\n",
       "      <td>10.9</td>\n",
       "      <td>7.7</td>\n",
       "      <td>NaN</td>\n",
       "      <td>2.19</td>\n",
       "    </tr>\n",
       "    <tr>\n",
       "      <th>1</th>\n",
       "      <td>1936</td>\n",
       "      <td>128053000</td>\n",
       "      <td>2355000</td>\n",
       "      <td>1479228</td>\n",
       "      <td>875772</td>\n",
       "      <td>18.4</td>\n",
       "      <td>11.5</td>\n",
       "      <td>6.8</td>\n",
       "      <td>-0.5</td>\n",
       "      <td>2.15</td>\n",
       "    </tr>\n",
       "    <tr>\n",
       "      <th>2</th>\n",
       "      <td>1937</td>\n",
       "      <td>128825000</td>\n",
       "      <td>2413000</td>\n",
       "      <td>1450427</td>\n",
       "      <td>962573</td>\n",
       "      <td>18.7</td>\n",
       "      <td>11.2</td>\n",
       "      <td>7.5</td>\n",
       "      <td>-1.5</td>\n",
       "      <td>2.17</td>\n",
       "    </tr>\n",
       "    <tr>\n",
       "      <th>3</th>\n",
       "      <td>1938</td>\n",
       "      <td>129825000</td>\n",
       "      <td>2496000</td>\n",
       "      <td>1381391</td>\n",
       "      <td>1114609</td>\n",
       "      <td>19.2</td>\n",
       "      <td>10.6</td>\n",
       "      <td>8.6</td>\n",
       "      <td>-0.9</td>\n",
       "      <td>2.22</td>\n",
       "    </tr>\n",
       "    <tr>\n",
       "      <th>4</th>\n",
       "      <td>1939</td>\n",
       "      <td>130880000</td>\n",
       "      <td>2466000</td>\n",
       "      <td>1387897</td>\n",
       "      <td>1078103</td>\n",
       "      <td>18.8</td>\n",
       "      <td>10.6</td>\n",
       "      <td>8.2</td>\n",
       "      <td>-0.1</td>\n",
       "      <td>2.17</td>\n",
       "    </tr>\n",
       "    <tr>\n",
       "      <th>...</th>\n",
       "      <td>...</td>\n",
       "      <td>...</td>\n",
       "      <td>...</td>\n",
       "      <td>...</td>\n",
       "      <td>...</td>\n",
       "      <td>...</td>\n",
       "      <td>...</td>\n",
       "      <td>...</td>\n",
       "      <td>...</td>\n",
       "      <td>...</td>\n",
       "    </tr>\n",
       "    <tr>\n",
       "      <th>84</th>\n",
       "      <td>2019</td>\n",
       "      <td>330284261</td>\n",
       "      <td>3747540</td>\n",
       "      <td>2854858</td>\n",
       "      <td>892682</td>\n",
       "      <td>11.3</td>\n",
       "      <td>8.6</td>\n",
       "      <td>2.7</td>\n",
       "      <td>2.5</td>\n",
       "      <td>1.706</td>\n",
       "    </tr>\n",
       "    <tr>\n",
       "      <th>85</th>\n",
       "      <td>2020[108][109][45]: 4</td>\n",
       "      <td>331511512</td>\n",
       "      <td>3613647</td>\n",
       "      <td>3383729</td>\n",
       "      <td>229918</td>\n",
       "      <td>10.9</td>\n",
       "      <td>10.2</td>\n",
       "      <td>0.7</td>\n",
       "      <td>3.0</td>\n",
       "      <td>1.641</td>\n",
       "    </tr>\n",
       "    <tr>\n",
       "      <th>86</th>\n",
       "      <td>2021[110][111][112]</td>\n",
       "      <td>332031554</td>\n",
       "      <td>3664292</td>\n",
       "      <td>3464231</td>\n",
       "      <td>200061</td>\n",
       "      <td>11.0</td>\n",
       "      <td>10.4</td>\n",
       "      <td>0.6</td>\n",
       "      <td>1.0</td>\n",
       "      <td>1.664[112]: 5</td>\n",
       "    </tr>\n",
       "    <tr>\n",
       "      <th>87</th>\n",
       "      <td>2022[113][114][112]</td>\n",
       "      <td>333287557</td>\n",
       "      <td>3,667,758[112]: 8</td>\n",
       "      <td>3279857</td>\n",
       "      <td>387901</td>\n",
       "      <td>11.0</td>\n",
       "      <td>9.8</td>\n",
       "      <td>1.2</td>\n",
       "      <td>2.6</td>\n",
       "      <td>1.656[112]: 5</td>\n",
       "    </tr>\n",
       "    <tr>\n",
       "      <th>88</th>\n",
       "      <td>2023p[115]</td>\n",
       "      <td>334914865</td>\n",
       "      <td>3596017</td>\n",
       "      <td>3087366</td>\n",
       "      <td>507932</td>\n",
       "      <td>10.7</td>\n",
       "      <td>9.2</td>\n",
       "      <td>1.5</td>\n",
       "      <td>3.4</td>\n",
       "      <td>1.617</td>\n",
       "    </tr>\n",
       "  </tbody>\n",
       "</table>\n",
       "<p>89 rows × 10 columns</p>\n",
       "</div>"
      ],
      "text/plain": [
       "               Unnamed:_0  Average_population   Live_births[101]   Deaths  \\\n",
       "0                    1935           127250000            2377000  1392752   \n",
       "1                    1936           128053000            2355000  1479228   \n",
       "2                    1937           128825000            2413000  1450427   \n",
       "3                    1938           129825000            2496000  1381391   \n",
       "4                    1939           130880000            2466000  1387897   \n",
       "..                    ...                 ...                ...      ...   \n",
       "84                   2019           330284261            3747540  2854858   \n",
       "85  2020[108][109][45]: 4           331511512            3613647  3383729   \n",
       "86    2021[110][111][112]           332031554            3664292  3464231   \n",
       "87    2022[113][114][112]           333287557  3,667,758[112]: 8  3279857   \n",
       "88             2023p[115]           334914865            3596017  3087366   \n",
       "\n",
       "    Natural_change  Crude_birth_rate_(per_1,000)  \\\n",
       "0           984248                          18.7   \n",
       "1           875772                          18.4   \n",
       "2           962573                          18.7   \n",
       "3          1114609                          19.2   \n",
       "4          1078103                          18.8   \n",
       "..             ...                           ...   \n",
       "84          892682                          11.3   \n",
       "85          229918                          10.9   \n",
       "86          200061                          11.0   \n",
       "87          387901                          11.0   \n",
       "88          507932                          10.7   \n",
       "\n",
       "    Crude_death_rate_(per_1,000)[102]  Natural_change_(per_1,000)  \\\n",
       "0                                10.9                         7.7   \n",
       "1                                11.5                         6.8   \n",
       "2                                11.2                         7.5   \n",
       "3                                10.6                         8.6   \n",
       "4                                10.6                         8.2   \n",
       "..                                ...                         ...   \n",
       "84                                8.6                         2.7   \n",
       "85                               10.2                         0.7   \n",
       "86                               10.4                         0.6   \n",
       "87                                9.8                         1.2   \n",
       "88                                9.2                         1.5   \n",
       "\n",
       "    Crude_migration_change_(per_1,000) Total_fertility_rate[fn_1][103]  \n",
       "0                                  NaN                            2.19  \n",
       "1                                 -0.5                            2.15  \n",
       "2                                 -1.5                            2.17  \n",
       "3                                 -0.9                            2.22  \n",
       "4                                 -0.1                            2.17  \n",
       "..                                 ...                             ...  \n",
       "84                                 2.5                           1.706  \n",
       "85                                 3.0                           1.641  \n",
       "86                                 1.0                   1.664[112]: 5  \n",
       "87                                 2.6                   1.656[112]: 5  \n",
       "88                                 3.4                           1.617  \n",
       "\n",
       "[89 rows x 10 columns]"
      ]
     },
     "execution_count": 261,
     "metadata": {},
     "output_type": "execute_result"
    }
   ],
   "source": [
    "d_data.columns = [x.replace(' ', '_') for x in d_data.columns]\n",
    "d_data"
   ]
  },
  {
   "cell_type": "markdown",
   "id": "49b65e1c-587a-4fed-be7e-8f626e559558",
   "metadata": {},
   "source": [
    "### Remove characters in the columns "
   ]
  },
  {
   "cell_type": "code",
   "execution_count": 263,
   "id": "aa5d18b3-7315-4540-ac0a-a092d573b4ed",
   "metadata": {},
   "outputs": [
    {
     "data": {
      "text/html": [
       "<div>\n",
       "<style scoped>\n",
       "    .dataframe tbody tr th:only-of-type {\n",
       "        vertical-align: middle;\n",
       "    }\n",
       "\n",
       "    .dataframe tbody tr th {\n",
       "        vertical-align: top;\n",
       "    }\n",
       "\n",
       "    .dataframe thead th {\n",
       "        text-align: right;\n",
       "    }\n",
       "</style>\n",
       "<table border=\"1\" class=\"dataframe\">\n",
       "  <thead>\n",
       "    <tr style=\"text-align: right;\">\n",
       "      <th></th>\n",
       "      <th>Unnamed:_</th>\n",
       "      <th>Average_population</th>\n",
       "      <th>Live_births</th>\n",
       "      <th>Deaths</th>\n",
       "      <th>Natural_change</th>\n",
       "      <th>Crude_birth_rate_</th>\n",
       "      <th>Crude_death_rate_</th>\n",
       "      <th>Natural_change_</th>\n",
       "      <th>Crude_migration_change_</th>\n",
       "      <th>Total_fertility_rate</th>\n",
       "    </tr>\n",
       "  </thead>\n",
       "  <tbody>\n",
       "    <tr>\n",
       "      <th>0</th>\n",
       "      <td>1935</td>\n",
       "      <td>127250000</td>\n",
       "      <td>2377000</td>\n",
       "      <td>1392752</td>\n",
       "      <td>984248</td>\n",
       "      <td>18.7</td>\n",
       "      <td>10.9</td>\n",
       "      <td>7.7</td>\n",
       "      <td>NaN</td>\n",
       "      <td>2.19</td>\n",
       "    </tr>\n",
       "    <tr>\n",
       "      <th>1</th>\n",
       "      <td>1936</td>\n",
       "      <td>128053000</td>\n",
       "      <td>2355000</td>\n",
       "      <td>1479228</td>\n",
       "      <td>875772</td>\n",
       "      <td>18.4</td>\n",
       "      <td>11.5</td>\n",
       "      <td>6.8</td>\n",
       "      <td>-0.5</td>\n",
       "      <td>2.15</td>\n",
       "    </tr>\n",
       "    <tr>\n",
       "      <th>2</th>\n",
       "      <td>1937</td>\n",
       "      <td>128825000</td>\n",
       "      <td>2413000</td>\n",
       "      <td>1450427</td>\n",
       "      <td>962573</td>\n",
       "      <td>18.7</td>\n",
       "      <td>11.2</td>\n",
       "      <td>7.5</td>\n",
       "      <td>-1.5</td>\n",
       "      <td>2.17</td>\n",
       "    </tr>\n",
       "    <tr>\n",
       "      <th>3</th>\n",
       "      <td>1938</td>\n",
       "      <td>129825000</td>\n",
       "      <td>2496000</td>\n",
       "      <td>1381391</td>\n",
       "      <td>1114609</td>\n",
       "      <td>19.2</td>\n",
       "      <td>10.6</td>\n",
       "      <td>8.6</td>\n",
       "      <td>-0.9</td>\n",
       "      <td>2.22</td>\n",
       "    </tr>\n",
       "    <tr>\n",
       "      <th>4</th>\n",
       "      <td>1939</td>\n",
       "      <td>130880000</td>\n",
       "      <td>2466000</td>\n",
       "      <td>1387897</td>\n",
       "      <td>1078103</td>\n",
       "      <td>18.8</td>\n",
       "      <td>10.6</td>\n",
       "      <td>8.2</td>\n",
       "      <td>-0.1</td>\n",
       "      <td>2.17</td>\n",
       "    </tr>\n",
       "    <tr>\n",
       "      <th>...</th>\n",
       "      <td>...</td>\n",
       "      <td>...</td>\n",
       "      <td>...</td>\n",
       "      <td>...</td>\n",
       "      <td>...</td>\n",
       "      <td>...</td>\n",
       "      <td>...</td>\n",
       "      <td>...</td>\n",
       "      <td>...</td>\n",
       "      <td>...</td>\n",
       "    </tr>\n",
       "    <tr>\n",
       "      <th>84</th>\n",
       "      <td>2019</td>\n",
       "      <td>330284261</td>\n",
       "      <td>3747540</td>\n",
       "      <td>2854858</td>\n",
       "      <td>892682</td>\n",
       "      <td>11.3</td>\n",
       "      <td>8.6</td>\n",
       "      <td>2.7</td>\n",
       "      <td>2.5</td>\n",
       "      <td>1.706</td>\n",
       "    </tr>\n",
       "    <tr>\n",
       "      <th>85</th>\n",
       "      <td>2020[108][109][45]: 4</td>\n",
       "      <td>331511512</td>\n",
       "      <td>3613647</td>\n",
       "      <td>3383729</td>\n",
       "      <td>229918</td>\n",
       "      <td>10.9</td>\n",
       "      <td>10.2</td>\n",
       "      <td>0.7</td>\n",
       "      <td>3.0</td>\n",
       "      <td>1.641</td>\n",
       "    </tr>\n",
       "    <tr>\n",
       "      <th>86</th>\n",
       "      <td>2021[110][111][112]</td>\n",
       "      <td>332031554</td>\n",
       "      <td>3664292</td>\n",
       "      <td>3464231</td>\n",
       "      <td>200061</td>\n",
       "      <td>11.0</td>\n",
       "      <td>10.4</td>\n",
       "      <td>0.6</td>\n",
       "      <td>1.0</td>\n",
       "      <td>1.664[112]: 5</td>\n",
       "    </tr>\n",
       "    <tr>\n",
       "      <th>87</th>\n",
       "      <td>2022[113][114][112]</td>\n",
       "      <td>333287557</td>\n",
       "      <td>3,667,758[112]: 8</td>\n",
       "      <td>3279857</td>\n",
       "      <td>387901</td>\n",
       "      <td>11.0</td>\n",
       "      <td>9.8</td>\n",
       "      <td>1.2</td>\n",
       "      <td>2.6</td>\n",
       "      <td>1.656[112]: 5</td>\n",
       "    </tr>\n",
       "    <tr>\n",
       "      <th>88</th>\n",
       "      <td>2023p[115]</td>\n",
       "      <td>334914865</td>\n",
       "      <td>3596017</td>\n",
       "      <td>3087366</td>\n",
       "      <td>507932</td>\n",
       "      <td>10.7</td>\n",
       "      <td>9.2</td>\n",
       "      <td>1.5</td>\n",
       "      <td>3.4</td>\n",
       "      <td>1.617</td>\n",
       "    </tr>\n",
       "  </tbody>\n",
       "</table>\n",
       "<p>89 rows × 10 columns</p>\n",
       "</div>"
      ],
      "text/plain": [
       "                Unnamed:_  Average_population        Live_births   Deaths  \\\n",
       "0                    1935           127250000            2377000  1392752   \n",
       "1                    1936           128053000            2355000  1479228   \n",
       "2                    1937           128825000            2413000  1450427   \n",
       "3                    1938           129825000            2496000  1381391   \n",
       "4                    1939           130880000            2466000  1387897   \n",
       "..                    ...                 ...                ...      ...   \n",
       "84                   2019           330284261            3747540  2854858   \n",
       "85  2020[108][109][45]: 4           331511512            3613647  3383729   \n",
       "86    2021[110][111][112]           332031554            3664292  3464231   \n",
       "87    2022[113][114][112]           333287557  3,667,758[112]: 8  3279857   \n",
       "88             2023p[115]           334914865            3596017  3087366   \n",
       "\n",
       "    Natural_change  Crude_birth_rate_  Crude_death_rate_  Natural_change_  \\\n",
       "0           984248               18.7               10.9              7.7   \n",
       "1           875772               18.4               11.5              6.8   \n",
       "2           962573               18.7               11.2              7.5   \n",
       "3          1114609               19.2               10.6              8.6   \n",
       "4          1078103               18.8               10.6              8.2   \n",
       "..             ...                ...                ...              ...   \n",
       "84          892682               11.3                8.6              2.7   \n",
       "85          229918               10.9               10.2              0.7   \n",
       "86          200061               11.0               10.4              0.6   \n",
       "87          387901               11.0                9.8              1.2   \n",
       "88          507932               10.7                9.2              1.5   \n",
       "\n",
       "    Crude_migration_change_ Total_fertility_rate  \n",
       "0                       NaN                 2.19  \n",
       "1                      -0.5                 2.15  \n",
       "2                      -1.5                 2.17  \n",
       "3                      -0.9                 2.22  \n",
       "4                      -0.1                 2.17  \n",
       "..                      ...                  ...  \n",
       "84                      2.5                1.706  \n",
       "85                      3.0                1.641  \n",
       "86                      1.0        1.664[112]: 5  \n",
       "87                      2.6        1.656[112]: 5  \n",
       "88                      3.4                1.617  \n",
       "\n",
       "[89 rows x 10 columns]"
      ]
     },
     "execution_count": 263,
     "metadata": {},
     "output_type": "execute_result"
    }
   ],
   "source": [
    "d_data.columns = d_data.columns.str.replace(r'\\d+', '', regex=True).str.strip()\n",
    "\n",
    "d_data.columns = d_data.columns.str.replace(r'\\[.*?\\]|\\(.*?\\)', '', regex=True).str.strip()\n",
    "\n",
    "d_data.columns = d_data.columns.str.replace(',', '', regex=False).str.strip()\n",
    "d_data"
   ]
  },
  {
   "cell_type": "markdown",
   "id": "2b3ff226-b72f-4fff-9a85-4b3aa791de6e",
   "metadata": {},
   "source": [
    "## Rename Columns "
   ]
  },
  {
   "cell_type": "code",
   "execution_count": 265,
   "id": "a45982fb-350e-4969-ae16-ae5dff42adce",
   "metadata": {},
   "outputs": [
    {
     "data": {
      "text/html": [
       "<div>\n",
       "<style scoped>\n",
       "    .dataframe tbody tr th:only-of-type {\n",
       "        vertical-align: middle;\n",
       "    }\n",
       "\n",
       "    .dataframe tbody tr th {\n",
       "        vertical-align: top;\n",
       "    }\n",
       "\n",
       "    .dataframe thead th {\n",
       "        text-align: right;\n",
       "    }\n",
       "</style>\n",
       "<table border=\"1\" class=\"dataframe\">\n",
       "  <thead>\n",
       "    <tr style=\"text-align: right;\">\n",
       "      <th></th>\n",
       "      <th>Year</th>\n",
       "      <th>Average_population</th>\n",
       "      <th>Live_births</th>\n",
       "      <th>Deaths</th>\n",
       "      <th>Natural_change</th>\n",
       "      <th>Crude_birth_rate_</th>\n",
       "      <th>Crude_death_rate_</th>\n",
       "      <th>Natural_change_</th>\n",
       "      <th>Crude_migration_change_</th>\n",
       "      <th>Total_fertility_rate</th>\n",
       "    </tr>\n",
       "  </thead>\n",
       "  <tbody>\n",
       "    <tr>\n",
       "      <th>0</th>\n",
       "      <td>1935</td>\n",
       "      <td>127250000</td>\n",
       "      <td>2377000</td>\n",
       "      <td>1392752</td>\n",
       "      <td>984248</td>\n",
       "      <td>18.7</td>\n",
       "      <td>10.9</td>\n",
       "      <td>7.7</td>\n",
       "      <td>NaN</td>\n",
       "      <td>2.19</td>\n",
       "    </tr>\n",
       "    <tr>\n",
       "      <th>1</th>\n",
       "      <td>1936</td>\n",
       "      <td>128053000</td>\n",
       "      <td>2355000</td>\n",
       "      <td>1479228</td>\n",
       "      <td>875772</td>\n",
       "      <td>18.4</td>\n",
       "      <td>11.5</td>\n",
       "      <td>6.8</td>\n",
       "      <td>-0.5</td>\n",
       "      <td>2.15</td>\n",
       "    </tr>\n",
       "    <tr>\n",
       "      <th>2</th>\n",
       "      <td>1937</td>\n",
       "      <td>128825000</td>\n",
       "      <td>2413000</td>\n",
       "      <td>1450427</td>\n",
       "      <td>962573</td>\n",
       "      <td>18.7</td>\n",
       "      <td>11.2</td>\n",
       "      <td>7.5</td>\n",
       "      <td>-1.5</td>\n",
       "      <td>2.17</td>\n",
       "    </tr>\n",
       "    <tr>\n",
       "      <th>3</th>\n",
       "      <td>1938</td>\n",
       "      <td>129825000</td>\n",
       "      <td>2496000</td>\n",
       "      <td>1381391</td>\n",
       "      <td>1114609</td>\n",
       "      <td>19.2</td>\n",
       "      <td>10.6</td>\n",
       "      <td>8.6</td>\n",
       "      <td>-0.9</td>\n",
       "      <td>2.22</td>\n",
       "    </tr>\n",
       "    <tr>\n",
       "      <th>4</th>\n",
       "      <td>1939</td>\n",
       "      <td>130880000</td>\n",
       "      <td>2466000</td>\n",
       "      <td>1387897</td>\n",
       "      <td>1078103</td>\n",
       "      <td>18.8</td>\n",
       "      <td>10.6</td>\n",
       "      <td>8.2</td>\n",
       "      <td>-0.1</td>\n",
       "      <td>2.17</td>\n",
       "    </tr>\n",
       "    <tr>\n",
       "      <th>...</th>\n",
       "      <td>...</td>\n",
       "      <td>...</td>\n",
       "      <td>...</td>\n",
       "      <td>...</td>\n",
       "      <td>...</td>\n",
       "      <td>...</td>\n",
       "      <td>...</td>\n",
       "      <td>...</td>\n",
       "      <td>...</td>\n",
       "      <td>...</td>\n",
       "    </tr>\n",
       "    <tr>\n",
       "      <th>84</th>\n",
       "      <td>2019</td>\n",
       "      <td>330284261</td>\n",
       "      <td>3747540</td>\n",
       "      <td>2854858</td>\n",
       "      <td>892682</td>\n",
       "      <td>11.3</td>\n",
       "      <td>8.6</td>\n",
       "      <td>2.7</td>\n",
       "      <td>2.5</td>\n",
       "      <td>1.706</td>\n",
       "    </tr>\n",
       "    <tr>\n",
       "      <th>85</th>\n",
       "      <td>2020[108][109][45]: 4</td>\n",
       "      <td>331511512</td>\n",
       "      <td>3613647</td>\n",
       "      <td>3383729</td>\n",
       "      <td>229918</td>\n",
       "      <td>10.9</td>\n",
       "      <td>10.2</td>\n",
       "      <td>0.7</td>\n",
       "      <td>3.0</td>\n",
       "      <td>1.641</td>\n",
       "    </tr>\n",
       "    <tr>\n",
       "      <th>86</th>\n",
       "      <td>2021[110][111][112]</td>\n",
       "      <td>332031554</td>\n",
       "      <td>3664292</td>\n",
       "      <td>3464231</td>\n",
       "      <td>200061</td>\n",
       "      <td>11.0</td>\n",
       "      <td>10.4</td>\n",
       "      <td>0.6</td>\n",
       "      <td>1.0</td>\n",
       "      <td>1.664[112]: 5</td>\n",
       "    </tr>\n",
       "    <tr>\n",
       "      <th>87</th>\n",
       "      <td>2022[113][114][112]</td>\n",
       "      <td>333287557</td>\n",
       "      <td>3,667,758[112]: 8</td>\n",
       "      <td>3279857</td>\n",
       "      <td>387901</td>\n",
       "      <td>11.0</td>\n",
       "      <td>9.8</td>\n",
       "      <td>1.2</td>\n",
       "      <td>2.6</td>\n",
       "      <td>1.656[112]: 5</td>\n",
       "    </tr>\n",
       "    <tr>\n",
       "      <th>88</th>\n",
       "      <td>2023p[115]</td>\n",
       "      <td>334914865</td>\n",
       "      <td>3596017</td>\n",
       "      <td>3087366</td>\n",
       "      <td>507932</td>\n",
       "      <td>10.7</td>\n",
       "      <td>9.2</td>\n",
       "      <td>1.5</td>\n",
       "      <td>3.4</td>\n",
       "      <td>1.617</td>\n",
       "    </tr>\n",
       "  </tbody>\n",
       "</table>\n",
       "<p>89 rows × 10 columns</p>\n",
       "</div>"
      ],
      "text/plain": [
       "                     Year  Average_population        Live_births   Deaths  \\\n",
       "0                    1935           127250000            2377000  1392752   \n",
       "1                    1936           128053000            2355000  1479228   \n",
       "2                    1937           128825000            2413000  1450427   \n",
       "3                    1938           129825000            2496000  1381391   \n",
       "4                    1939           130880000            2466000  1387897   \n",
       "..                    ...                 ...                ...      ...   \n",
       "84                   2019           330284261            3747540  2854858   \n",
       "85  2020[108][109][45]: 4           331511512            3613647  3383729   \n",
       "86    2021[110][111][112]           332031554            3664292  3464231   \n",
       "87    2022[113][114][112]           333287557  3,667,758[112]: 8  3279857   \n",
       "88             2023p[115]           334914865            3596017  3087366   \n",
       "\n",
       "    Natural_change  Crude_birth_rate_  Crude_death_rate_  Natural_change_  \\\n",
       "0           984248               18.7               10.9              7.7   \n",
       "1           875772               18.4               11.5              6.8   \n",
       "2           962573               18.7               11.2              7.5   \n",
       "3          1114609               19.2               10.6              8.6   \n",
       "4          1078103               18.8               10.6              8.2   \n",
       "..             ...                ...                ...              ...   \n",
       "84          892682               11.3                8.6              2.7   \n",
       "85          229918               10.9               10.2              0.7   \n",
       "86          200061               11.0               10.4              0.6   \n",
       "87          387901               11.0                9.8              1.2   \n",
       "88          507932               10.7                9.2              1.5   \n",
       "\n",
       "    Crude_migration_change_ Total_fertility_rate  \n",
       "0                       NaN                 2.19  \n",
       "1                      -0.5                 2.15  \n",
       "2                      -1.5                 2.17  \n",
       "3                      -0.9                 2.22  \n",
       "4                      -0.1                 2.17  \n",
       "..                      ...                  ...  \n",
       "84                      2.5                1.706  \n",
       "85                      3.0                1.641  \n",
       "86                      1.0        1.664[112]: 5  \n",
       "87                      2.6        1.656[112]: 5  \n",
       "88                      3.4                1.617  \n",
       "\n",
       "[89 rows x 10 columns]"
      ]
     },
     "execution_count": 265,
     "metadata": {},
     "output_type": "execute_result"
    }
   ],
   "source": [
    "d_data = d_data.rename(columns={'Unnamed:_' : 'Year'})\n",
    "d_data"
   ]
  },
  {
   "cell_type": "markdown",
   "id": "399b6eef-cf84-4cb0-b6b3-53b2acc11449",
   "metadata": {},
   "source": [
    "## Remove charcters"
   ]
  },
  {
   "cell_type": "code",
   "execution_count": null,
   "id": "aab3140d-6eae-4c57-9841-b43fcfecc38c",
   "metadata": {},
   "outputs": [],
   "source": []
  },
  {
   "cell_type": "code",
   "execution_count": null,
   "id": "7dc8fddb-40cc-4a54-8da3-7d9b635eb98c",
   "metadata": {},
   "outputs": [],
   "source": []
  },
  {
   "cell_type": "code",
   "execution_count": 267,
   "id": "88710b52-07ee-42ed-b9ad-5f7aa7ad682d",
   "metadata": {},
   "outputs": [
    {
     "data": {
      "text/html": [
       "<div>\n",
       "<style scoped>\n",
       "    .dataframe tbody tr th:only-of-type {\n",
       "        vertical-align: middle;\n",
       "    }\n",
       "\n",
       "    .dataframe tbody tr th {\n",
       "        vertical-align: top;\n",
       "    }\n",
       "\n",
       "    .dataframe thead th {\n",
       "        text-align: right;\n",
       "    }\n",
       "</style>\n",
       "<table border=\"1\" class=\"dataframe\">\n",
       "  <thead>\n",
       "    <tr style=\"text-align: right;\">\n",
       "      <th></th>\n",
       "      <th>Year</th>\n",
       "      <th>Average_population</th>\n",
       "      <th>Live_births</th>\n",
       "      <th>Deaths</th>\n",
       "      <th>Natural_change</th>\n",
       "      <th>Crude_birth_rate_</th>\n",
       "      <th>Crude_death_rate_</th>\n",
       "      <th>Natural_change_</th>\n",
       "      <th>Crude_migration_change_</th>\n",
       "      <th>Total_fertility_rate</th>\n",
       "    </tr>\n",
       "  </thead>\n",
       "  <tbody>\n",
       "    <tr>\n",
       "      <th>0</th>\n",
       "      <td>1935</td>\n",
       "      <td>127250000</td>\n",
       "      <td>2377000</td>\n",
       "      <td>1392752</td>\n",
       "      <td>984248</td>\n",
       "      <td>18.7</td>\n",
       "      <td>10.9</td>\n",
       "      <td>7.7</td>\n",
       "      <td>NaN</td>\n",
       "      <td>2.19</td>\n",
       "    </tr>\n",
       "    <tr>\n",
       "      <th>1</th>\n",
       "      <td>1936</td>\n",
       "      <td>128053000</td>\n",
       "      <td>2355000</td>\n",
       "      <td>1479228</td>\n",
       "      <td>875772</td>\n",
       "      <td>18.4</td>\n",
       "      <td>11.5</td>\n",
       "      <td>6.8</td>\n",
       "      <td>-0.5</td>\n",
       "      <td>2.15</td>\n",
       "    </tr>\n",
       "    <tr>\n",
       "      <th>2</th>\n",
       "      <td>1937</td>\n",
       "      <td>128825000</td>\n",
       "      <td>2413000</td>\n",
       "      <td>1450427</td>\n",
       "      <td>962573</td>\n",
       "      <td>18.7</td>\n",
       "      <td>11.2</td>\n",
       "      <td>7.5</td>\n",
       "      <td>-1.5</td>\n",
       "      <td>2.17</td>\n",
       "    </tr>\n",
       "    <tr>\n",
       "      <th>3</th>\n",
       "      <td>1938</td>\n",
       "      <td>129825000</td>\n",
       "      <td>2496000</td>\n",
       "      <td>1381391</td>\n",
       "      <td>1114609</td>\n",
       "      <td>19.2</td>\n",
       "      <td>10.6</td>\n",
       "      <td>8.6</td>\n",
       "      <td>-0.9</td>\n",
       "      <td>2.22</td>\n",
       "    </tr>\n",
       "    <tr>\n",
       "      <th>4</th>\n",
       "      <td>1939</td>\n",
       "      <td>130880000</td>\n",
       "      <td>2466000</td>\n",
       "      <td>1387897</td>\n",
       "      <td>1078103</td>\n",
       "      <td>18.8</td>\n",
       "      <td>10.6</td>\n",
       "      <td>8.2</td>\n",
       "      <td>-0.1</td>\n",
       "      <td>2.17</td>\n",
       "    </tr>\n",
       "    <tr>\n",
       "      <th>...</th>\n",
       "      <td>...</td>\n",
       "      <td>...</td>\n",
       "      <td>...</td>\n",
       "      <td>...</td>\n",
       "      <td>...</td>\n",
       "      <td>...</td>\n",
       "      <td>...</td>\n",
       "      <td>...</td>\n",
       "      <td>...</td>\n",
       "      <td>...</td>\n",
       "    </tr>\n",
       "    <tr>\n",
       "      <th>84</th>\n",
       "      <td>2019</td>\n",
       "      <td>330284261</td>\n",
       "      <td>3747540</td>\n",
       "      <td>2854858</td>\n",
       "      <td>892682</td>\n",
       "      <td>11.3</td>\n",
       "      <td>8.6</td>\n",
       "      <td>2.7</td>\n",
       "      <td>2.5</td>\n",
       "      <td>1.706</td>\n",
       "    </tr>\n",
       "    <tr>\n",
       "      <th>85</th>\n",
       "      <td>2020: 4</td>\n",
       "      <td>331511512</td>\n",
       "      <td>3613647</td>\n",
       "      <td>3383729</td>\n",
       "      <td>229918</td>\n",
       "      <td>10.9</td>\n",
       "      <td>10.2</td>\n",
       "      <td>0.7</td>\n",
       "      <td>3.0</td>\n",
       "      <td>1.641</td>\n",
       "    </tr>\n",
       "    <tr>\n",
       "      <th>86</th>\n",
       "      <td>2021</td>\n",
       "      <td>332031554</td>\n",
       "      <td>3664292</td>\n",
       "      <td>3464231</td>\n",
       "      <td>200061</td>\n",
       "      <td>11.0</td>\n",
       "      <td>10.4</td>\n",
       "      <td>0.6</td>\n",
       "      <td>1.0</td>\n",
       "      <td>1.664[112]: 5</td>\n",
       "    </tr>\n",
       "    <tr>\n",
       "      <th>87</th>\n",
       "      <td>2022</td>\n",
       "      <td>333287557</td>\n",
       "      <td>3,667,758[112]: 8</td>\n",
       "      <td>3279857</td>\n",
       "      <td>387901</td>\n",
       "      <td>11.0</td>\n",
       "      <td>9.8</td>\n",
       "      <td>1.2</td>\n",
       "      <td>2.6</td>\n",
       "      <td>1.656[112]: 5</td>\n",
       "    </tr>\n",
       "    <tr>\n",
       "      <th>88</th>\n",
       "      <td>2023p</td>\n",
       "      <td>334914865</td>\n",
       "      <td>3596017</td>\n",
       "      <td>3087366</td>\n",
       "      <td>507932</td>\n",
       "      <td>10.7</td>\n",
       "      <td>9.2</td>\n",
       "      <td>1.5</td>\n",
       "      <td>3.4</td>\n",
       "      <td>1.617</td>\n",
       "    </tr>\n",
       "  </tbody>\n",
       "</table>\n",
       "<p>89 rows × 10 columns</p>\n",
       "</div>"
      ],
      "text/plain": [
       "       Year  Average_population        Live_births   Deaths  Natural_change  \\\n",
       "0      1935           127250000            2377000  1392752          984248   \n",
       "1      1936           128053000            2355000  1479228          875772   \n",
       "2      1937           128825000            2413000  1450427          962573   \n",
       "3      1938           129825000            2496000  1381391         1114609   \n",
       "4      1939           130880000            2466000  1387897         1078103   \n",
       "..      ...                 ...                ...      ...             ...   \n",
       "84     2019           330284261            3747540  2854858          892682   \n",
       "85  2020: 4           331511512            3613647  3383729          229918   \n",
       "86     2021           332031554            3664292  3464231          200061   \n",
       "87     2022           333287557  3,667,758[112]: 8  3279857          387901   \n",
       "88    2023p           334914865            3596017  3087366          507932   \n",
       "\n",
       "    Crude_birth_rate_  Crude_death_rate_  Natural_change_  \\\n",
       "0                18.7               10.9              7.7   \n",
       "1                18.4               11.5              6.8   \n",
       "2                18.7               11.2              7.5   \n",
       "3                19.2               10.6              8.6   \n",
       "4                18.8               10.6              8.2   \n",
       "..                ...                ...              ...   \n",
       "84               11.3                8.6              2.7   \n",
       "85               10.9               10.2              0.7   \n",
       "86               11.0               10.4              0.6   \n",
       "87               11.0                9.8              1.2   \n",
       "88               10.7                9.2              1.5   \n",
       "\n",
       "    Crude_migration_change_ Total_fertility_rate  \n",
       "0                       NaN                 2.19  \n",
       "1                      -0.5                 2.15  \n",
       "2                      -1.5                 2.17  \n",
       "3                      -0.9                 2.22  \n",
       "4                      -0.1                 2.17  \n",
       "..                      ...                  ...  \n",
       "84                      2.5                1.706  \n",
       "85                      3.0                1.641  \n",
       "86                      1.0        1.664[112]: 5  \n",
       "87                      2.6        1.656[112]: 5  \n",
       "88                      3.4                1.617  \n",
       "\n",
       "[89 rows x 10 columns]"
      ]
     },
     "execution_count": 267,
     "metadata": {},
     "output_type": "execute_result"
    }
   ],
   "source": [
    "d_data.Year = d_data.Year.str.replace(r'\\[.*?\\]|\\(.*?\\)', '', regex=True).str.strip()\n",
    "d_data"
   ]
  },
  {
   "cell_type": "code",
   "execution_count": 284,
   "id": "2561972a-1589-4b98-932c-13725538e883",
   "metadata": {},
   "outputs": [
    {
     "data": {
      "text/html": [
       "<div>\n",
       "<style scoped>\n",
       "    .dataframe tbody tr th:only-of-type {\n",
       "        vertical-align: middle;\n",
       "    }\n",
       "\n",
       "    .dataframe tbody tr th {\n",
       "        vertical-align: top;\n",
       "    }\n",
       "\n",
       "    .dataframe thead th {\n",
       "        text-align: right;\n",
       "    }\n",
       "</style>\n",
       "<table border=\"1\" class=\"dataframe\">\n",
       "  <thead>\n",
       "    <tr style=\"text-align: right;\">\n",
       "      <th></th>\n",
       "      <th>Average_population</th>\n",
       "      <th>Live_births</th>\n",
       "      <th>Deaths</th>\n",
       "      <th>Natural_change</th>\n",
       "      <th>Crude_birth_rate_</th>\n",
       "      <th>Crude_death_rate_</th>\n",
       "      <th>Natural_change_</th>\n",
       "      <th>Crude_migration_change_</th>\n",
       "      <th>Total_fertility_rate</th>\n",
       "    </tr>\n",
       "    <tr>\n",
       "      <th>Year</th>\n",
       "      <th></th>\n",
       "      <th></th>\n",
       "      <th></th>\n",
       "      <th></th>\n",
       "      <th></th>\n",
       "      <th></th>\n",
       "      <th></th>\n",
       "      <th></th>\n",
       "      <th></th>\n",
       "    </tr>\n",
       "  </thead>\n",
       "  <tbody>\n",
       "    <tr>\n",
       "      <th>1935</th>\n",
       "      <td>127250000</td>\n",
       "      <td>2377000</td>\n",
       "      <td>1392752</td>\n",
       "      <td>984248</td>\n",
       "      <td>18.7</td>\n",
       "      <td>10.9</td>\n",
       "      <td>7.7</td>\n",
       "      <td>NaN</td>\n",
       "      <td>2.19</td>\n",
       "    </tr>\n",
       "    <tr>\n",
       "      <th>1936</th>\n",
       "      <td>128053000</td>\n",
       "      <td>2355000</td>\n",
       "      <td>1479228</td>\n",
       "      <td>875772</td>\n",
       "      <td>18.4</td>\n",
       "      <td>11.5</td>\n",
       "      <td>6.8</td>\n",
       "      <td>-0.5</td>\n",
       "      <td>2.15</td>\n",
       "    </tr>\n",
       "    <tr>\n",
       "      <th>1937</th>\n",
       "      <td>128825000</td>\n",
       "      <td>2413000</td>\n",
       "      <td>1450427</td>\n",
       "      <td>962573</td>\n",
       "      <td>18.7</td>\n",
       "      <td>11.2</td>\n",
       "      <td>7.5</td>\n",
       "      <td>-1.5</td>\n",
       "      <td>2.17</td>\n",
       "    </tr>\n",
       "    <tr>\n",
       "      <th>1938</th>\n",
       "      <td>129825000</td>\n",
       "      <td>2496000</td>\n",
       "      <td>1381391</td>\n",
       "      <td>1114609</td>\n",
       "      <td>19.2</td>\n",
       "      <td>10.6</td>\n",
       "      <td>8.6</td>\n",
       "      <td>-0.9</td>\n",
       "      <td>2.22</td>\n",
       "    </tr>\n",
       "    <tr>\n",
       "      <th>1939</th>\n",
       "      <td>130880000</td>\n",
       "      <td>2466000</td>\n",
       "      <td>1387897</td>\n",
       "      <td>1078103</td>\n",
       "      <td>18.8</td>\n",
       "      <td>10.6</td>\n",
       "      <td>8.2</td>\n",
       "      <td>-0.1</td>\n",
       "      <td>2.17</td>\n",
       "    </tr>\n",
       "    <tr>\n",
       "      <th>...</th>\n",
       "      <td>...</td>\n",
       "      <td>...</td>\n",
       "      <td>...</td>\n",
       "      <td>...</td>\n",
       "      <td>...</td>\n",
       "      <td>...</td>\n",
       "      <td>...</td>\n",
       "      <td>...</td>\n",
       "      <td>...</td>\n",
       "    </tr>\n",
       "    <tr>\n",
       "      <th>2019</th>\n",
       "      <td>330284261</td>\n",
       "      <td>3747540</td>\n",
       "      <td>2854858</td>\n",
       "      <td>892682</td>\n",
       "      <td>11.3</td>\n",
       "      <td>8.6</td>\n",
       "      <td>2.7</td>\n",
       "      <td>2.5</td>\n",
       "      <td>1.706</td>\n",
       "    </tr>\n",
       "    <tr>\n",
       "      <th>2020: 4</th>\n",
       "      <td>331511512</td>\n",
       "      <td>3613647</td>\n",
       "      <td>3383729</td>\n",
       "      <td>229918</td>\n",
       "      <td>10.9</td>\n",
       "      <td>10.2</td>\n",
       "      <td>0.7</td>\n",
       "      <td>3.0</td>\n",
       "      <td>1.641</td>\n",
       "    </tr>\n",
       "    <tr>\n",
       "      <th>2021</th>\n",
       "      <td>332031554</td>\n",
       "      <td>3664292</td>\n",
       "      <td>3464231</td>\n",
       "      <td>200061</td>\n",
       "      <td>11.0</td>\n",
       "      <td>10.4</td>\n",
       "      <td>0.6</td>\n",
       "      <td>1.0</td>\n",
       "      <td>1.664[112]: 5</td>\n",
       "    </tr>\n",
       "    <tr>\n",
       "      <th>2022</th>\n",
       "      <td>333287557</td>\n",
       "      <td>3667758</td>\n",
       "      <td>3279857</td>\n",
       "      <td>387901</td>\n",
       "      <td>11.0</td>\n",
       "      <td>9.8</td>\n",
       "      <td>1.2</td>\n",
       "      <td>2.6</td>\n",
       "      <td>1.656[112]: 5</td>\n",
       "    </tr>\n",
       "    <tr>\n",
       "      <th>2023p</th>\n",
       "      <td>334914865</td>\n",
       "      <td>3596017</td>\n",
       "      <td>3087366</td>\n",
       "      <td>507932</td>\n",
       "      <td>10.7</td>\n",
       "      <td>9.2</td>\n",
       "      <td>1.5</td>\n",
       "      <td>3.4</td>\n",
       "      <td>1.617</td>\n",
       "    </tr>\n",
       "  </tbody>\n",
       "</table>\n",
       "<p>89 rows × 9 columns</p>\n",
       "</div>"
      ],
      "text/plain": [
       "         Average_population Live_births   Deaths  Natural_change  \\\n",
       "Year                                                               \n",
       "1935              127250000     2377000  1392752          984248   \n",
       "1936              128053000     2355000  1479228          875772   \n",
       "1937              128825000     2413000  1450427          962573   \n",
       "1938              129825000     2496000  1381391         1114609   \n",
       "1939              130880000     2466000  1387897         1078103   \n",
       "...                     ...         ...      ...             ...   \n",
       "2019              330284261     3747540  2854858          892682   \n",
       "2020: 4           331511512     3613647  3383729          229918   \n",
       "2021              332031554     3664292  3464231          200061   \n",
       "2022              333287557     3667758  3279857          387901   \n",
       "2023p             334914865     3596017  3087366          507932   \n",
       "\n",
       "         Crude_birth_rate_  Crude_death_rate_  Natural_change_  \\\n",
       "Year                                                             \n",
       "1935                  18.7               10.9              7.7   \n",
       "1936                  18.4               11.5              6.8   \n",
       "1937                  18.7               11.2              7.5   \n",
       "1938                  19.2               10.6              8.6   \n",
       "1939                  18.8               10.6              8.2   \n",
       "...                    ...                ...              ...   \n",
       "2019                  11.3                8.6              2.7   \n",
       "2020: 4               10.9               10.2              0.7   \n",
       "2021                  11.0               10.4              0.6   \n",
       "2022                  11.0                9.8              1.2   \n",
       "2023p                 10.7                9.2              1.5   \n",
       "\n",
       "         Crude_migration_change_ Total_fertility_rate  \n",
       "Year                                                   \n",
       "1935                         NaN                 2.19  \n",
       "1936                        -0.5                 2.15  \n",
       "1937                        -1.5                 2.17  \n",
       "1938                        -0.9                 2.22  \n",
       "1939                        -0.1                 2.17  \n",
       "...                          ...                  ...  \n",
       "2019                         2.5                1.706  \n",
       "2020: 4                      3.0                1.641  \n",
       "2021                         1.0        1.664[112]: 5  \n",
       "2022                         2.6        1.656[112]: 5  \n",
       "2023p                        3.4                1.617  \n",
       "\n",
       "[89 rows x 9 columns]"
      ]
     },
     "execution_count": 284,
     "metadata": {},
     "output_type": "execute_result"
    }
   ],
   "source": [
    "d_data.Live_births = d_data.Live_births.str.replace(r'\\[.*?\\]|\\(.*?\\)', '', regex=True).str.strip()\n",
    "d_data.Live_births = d_data.Live_births.str.replace(',', '', regex=True).str.strip()\n",
    "d_data.Live_births = d_data.Live_births.str.replace(':.*', '', regex=True).str.strip()\n",
    "d_data"
   ]
  },
  {
   "cell_type": "markdown",
   "id": "abc1c830-1fba-455f-980c-027fb966c0fb",
   "metadata": {},
   "source": [
    "## Select a column "
   ]
  },
  {
   "cell_type": "code",
   "execution_count": 269,
   "id": "5f4e89cc-c945-436f-9789-0b961a07dc58",
   "metadata": {},
   "outputs": [
    {
     "data": {
      "text/plain": [
       "0               2377000\n",
       "1               2355000\n",
       "2               2413000\n",
       "3               2496000\n",
       "4               2466000\n",
       "            ...        \n",
       "84              3747540\n",
       "85              3613647\n",
       "86              3664292\n",
       "87    3,667,758[112]: 8\n",
       "88              3596017\n",
       "Name: Live_births, Length: 89, dtype: object"
      ]
     },
     "execution_count": 269,
     "metadata": {},
     "output_type": "execute_result"
    }
   ],
   "source": [
    "d_data.Live_births"
   ]
  },
  {
   "cell_type": "code",
   "execution_count": 270,
   "id": "793f9a04-1e3a-47d5-ad4f-cd3850783e11",
   "metadata": {},
   "outputs": [
    {
     "data": {
      "text/plain": [
       "0     1392752\n",
       "1     1479228\n",
       "2     1450427\n",
       "3     1381391\n",
       "4     1387897\n",
       "       ...   \n",
       "84    2854858\n",
       "85    3383729\n",
       "86    3464231\n",
       "87    3279857\n",
       "88    3087366\n",
       "Name: Deaths, Length: 89, dtype: int64"
      ]
     },
     "execution_count": 270,
     "metadata": {},
     "output_type": "execute_result"
    }
   ],
   "source": [
    "d_data['Deaths']"
   ]
  },
  {
   "cell_type": "markdown",
   "id": "66d16363-9173-48b8-bc55-152e38939923",
   "metadata": {},
   "source": [
    "## Make a column index"
   ]
  },
  {
   "cell_type": "code",
   "execution_count": 272,
   "id": "1325798d-894a-4395-b49e-5ebafe5e3f3d",
   "metadata": {},
   "outputs": [
    {
     "data": {
      "text/html": [
       "<div>\n",
       "<style scoped>\n",
       "    .dataframe tbody tr th:only-of-type {\n",
       "        vertical-align: middle;\n",
       "    }\n",
       "\n",
       "    .dataframe tbody tr th {\n",
       "        vertical-align: top;\n",
       "    }\n",
       "\n",
       "    .dataframe thead th {\n",
       "        text-align: right;\n",
       "    }\n",
       "</style>\n",
       "<table border=\"1\" class=\"dataframe\">\n",
       "  <thead>\n",
       "    <tr style=\"text-align: right;\">\n",
       "      <th></th>\n",
       "      <th>Average_population</th>\n",
       "      <th>Live_births</th>\n",
       "      <th>Deaths</th>\n",
       "      <th>Natural_change</th>\n",
       "      <th>Crude_birth_rate_</th>\n",
       "      <th>Crude_death_rate_</th>\n",
       "      <th>Natural_change_</th>\n",
       "      <th>Crude_migration_change_</th>\n",
       "      <th>Total_fertility_rate</th>\n",
       "    </tr>\n",
       "    <tr>\n",
       "      <th>Year</th>\n",
       "      <th></th>\n",
       "      <th></th>\n",
       "      <th></th>\n",
       "      <th></th>\n",
       "      <th></th>\n",
       "      <th></th>\n",
       "      <th></th>\n",
       "      <th></th>\n",
       "      <th></th>\n",
       "    </tr>\n",
       "  </thead>\n",
       "  <tbody>\n",
       "    <tr>\n",
       "      <th>1935</th>\n",
       "      <td>127250000</td>\n",
       "      <td>2377000</td>\n",
       "      <td>1392752</td>\n",
       "      <td>984248</td>\n",
       "      <td>18.7</td>\n",
       "      <td>10.9</td>\n",
       "      <td>7.7</td>\n",
       "      <td>NaN</td>\n",
       "      <td>2.19</td>\n",
       "    </tr>\n",
       "    <tr>\n",
       "      <th>1936</th>\n",
       "      <td>128053000</td>\n",
       "      <td>2355000</td>\n",
       "      <td>1479228</td>\n",
       "      <td>875772</td>\n",
       "      <td>18.4</td>\n",
       "      <td>11.5</td>\n",
       "      <td>6.8</td>\n",
       "      <td>-0.5</td>\n",
       "      <td>2.15</td>\n",
       "    </tr>\n",
       "    <tr>\n",
       "      <th>1937</th>\n",
       "      <td>128825000</td>\n",
       "      <td>2413000</td>\n",
       "      <td>1450427</td>\n",
       "      <td>962573</td>\n",
       "      <td>18.7</td>\n",
       "      <td>11.2</td>\n",
       "      <td>7.5</td>\n",
       "      <td>-1.5</td>\n",
       "      <td>2.17</td>\n",
       "    </tr>\n",
       "    <tr>\n",
       "      <th>1938</th>\n",
       "      <td>129825000</td>\n",
       "      <td>2496000</td>\n",
       "      <td>1381391</td>\n",
       "      <td>1114609</td>\n",
       "      <td>19.2</td>\n",
       "      <td>10.6</td>\n",
       "      <td>8.6</td>\n",
       "      <td>-0.9</td>\n",
       "      <td>2.22</td>\n",
       "    </tr>\n",
       "    <tr>\n",
       "      <th>1939</th>\n",
       "      <td>130880000</td>\n",
       "      <td>2466000</td>\n",
       "      <td>1387897</td>\n",
       "      <td>1078103</td>\n",
       "      <td>18.8</td>\n",
       "      <td>10.6</td>\n",
       "      <td>8.2</td>\n",
       "      <td>-0.1</td>\n",
       "      <td>2.17</td>\n",
       "    </tr>\n",
       "    <tr>\n",
       "      <th>...</th>\n",
       "      <td>...</td>\n",
       "      <td>...</td>\n",
       "      <td>...</td>\n",
       "      <td>...</td>\n",
       "      <td>...</td>\n",
       "      <td>...</td>\n",
       "      <td>...</td>\n",
       "      <td>...</td>\n",
       "      <td>...</td>\n",
       "    </tr>\n",
       "    <tr>\n",
       "      <th>2019</th>\n",
       "      <td>330284261</td>\n",
       "      <td>3747540</td>\n",
       "      <td>2854858</td>\n",
       "      <td>892682</td>\n",
       "      <td>11.3</td>\n",
       "      <td>8.6</td>\n",
       "      <td>2.7</td>\n",
       "      <td>2.5</td>\n",
       "      <td>1.706</td>\n",
       "    </tr>\n",
       "    <tr>\n",
       "      <th>2020: 4</th>\n",
       "      <td>331511512</td>\n",
       "      <td>3613647</td>\n",
       "      <td>3383729</td>\n",
       "      <td>229918</td>\n",
       "      <td>10.9</td>\n",
       "      <td>10.2</td>\n",
       "      <td>0.7</td>\n",
       "      <td>3.0</td>\n",
       "      <td>1.641</td>\n",
       "    </tr>\n",
       "    <tr>\n",
       "      <th>2021</th>\n",
       "      <td>332031554</td>\n",
       "      <td>3664292</td>\n",
       "      <td>3464231</td>\n",
       "      <td>200061</td>\n",
       "      <td>11.0</td>\n",
       "      <td>10.4</td>\n",
       "      <td>0.6</td>\n",
       "      <td>1.0</td>\n",
       "      <td>1.664[112]: 5</td>\n",
       "    </tr>\n",
       "    <tr>\n",
       "      <th>2022</th>\n",
       "      <td>333287557</td>\n",
       "      <td>3,667,758[112]: 8</td>\n",
       "      <td>3279857</td>\n",
       "      <td>387901</td>\n",
       "      <td>11.0</td>\n",
       "      <td>9.8</td>\n",
       "      <td>1.2</td>\n",
       "      <td>2.6</td>\n",
       "      <td>1.656[112]: 5</td>\n",
       "    </tr>\n",
       "    <tr>\n",
       "      <th>2023p</th>\n",
       "      <td>334914865</td>\n",
       "      <td>3596017</td>\n",
       "      <td>3087366</td>\n",
       "      <td>507932</td>\n",
       "      <td>10.7</td>\n",
       "      <td>9.2</td>\n",
       "      <td>1.5</td>\n",
       "      <td>3.4</td>\n",
       "      <td>1.617</td>\n",
       "    </tr>\n",
       "  </tbody>\n",
       "</table>\n",
       "<p>89 rows × 9 columns</p>\n",
       "</div>"
      ],
      "text/plain": [
       "         Average_population        Live_births   Deaths  Natural_change  \\\n",
       "Year                                                                      \n",
       "1935              127250000            2377000  1392752          984248   \n",
       "1936              128053000            2355000  1479228          875772   \n",
       "1937              128825000            2413000  1450427          962573   \n",
       "1938              129825000            2496000  1381391         1114609   \n",
       "1939              130880000            2466000  1387897         1078103   \n",
       "...                     ...                ...      ...             ...   \n",
       "2019              330284261            3747540  2854858          892682   \n",
       "2020: 4           331511512            3613647  3383729          229918   \n",
       "2021              332031554            3664292  3464231          200061   \n",
       "2022              333287557  3,667,758[112]: 8  3279857          387901   \n",
       "2023p             334914865            3596017  3087366          507932   \n",
       "\n",
       "         Crude_birth_rate_  Crude_death_rate_  Natural_change_  \\\n",
       "Year                                                             \n",
       "1935                  18.7               10.9              7.7   \n",
       "1936                  18.4               11.5              6.8   \n",
       "1937                  18.7               11.2              7.5   \n",
       "1938                  19.2               10.6              8.6   \n",
       "1939                  18.8               10.6              8.2   \n",
       "...                    ...                ...              ...   \n",
       "2019                  11.3                8.6              2.7   \n",
       "2020: 4               10.9               10.2              0.7   \n",
       "2021                  11.0               10.4              0.6   \n",
       "2022                  11.0                9.8              1.2   \n",
       "2023p                 10.7                9.2              1.5   \n",
       "\n",
       "         Crude_migration_change_ Total_fertility_rate  \n",
       "Year                                                   \n",
       "1935                         NaN                 2.19  \n",
       "1936                        -0.5                 2.15  \n",
       "1937                        -1.5                 2.17  \n",
       "1938                        -0.9                 2.22  \n",
       "1939                        -0.1                 2.17  \n",
       "...                          ...                  ...  \n",
       "2019                         2.5                1.706  \n",
       "2020: 4                      3.0                1.641  \n",
       "2021                         1.0        1.664[112]: 5  \n",
       "2022                         2.6        1.656[112]: 5  \n",
       "2023p                        3.4                1.617  \n",
       "\n",
       "[89 rows x 9 columns]"
      ]
     },
     "execution_count": 272,
     "metadata": {},
     "output_type": "execute_result"
    }
   ],
   "source": [
    "d_data.set_index('Year', inplace=True)\n",
    "d_data"
   ]
  },
  {
   "cell_type": "markdown",
   "id": "0b6d9b3f-1cde-43c4-8dc6-c24daada0549",
   "metadata": {},
   "source": [
    "## Grab from multiple columns"
   ]
  },
  {
   "cell_type": "code",
   "execution_count": 274,
   "id": "1f6b35bd-52ce-46f7-a4a9-a6359a3ae1c0",
   "metadata": {
    "scrolled": true
   },
   "outputs": [
    {
     "data": {
      "text/html": [
       "<div>\n",
       "<style scoped>\n",
       "    .dataframe tbody tr th:only-of-type {\n",
       "        vertical-align: middle;\n",
       "    }\n",
       "\n",
       "    .dataframe tbody tr th {\n",
       "        vertical-align: top;\n",
       "    }\n",
       "\n",
       "    .dataframe thead th {\n",
       "        text-align: right;\n",
       "    }\n",
       "</style>\n",
       "<table border=\"1\" class=\"dataframe\">\n",
       "  <thead>\n",
       "    <tr style=\"text-align: right;\">\n",
       "      <th></th>\n",
       "      <th>Live_births</th>\n",
       "      <th>Deaths</th>\n",
       "    </tr>\n",
       "    <tr>\n",
       "      <th>Year</th>\n",
       "      <th></th>\n",
       "      <th></th>\n",
       "    </tr>\n",
       "  </thead>\n",
       "  <tbody>\n",
       "    <tr>\n",
       "      <th>1935</th>\n",
       "      <td>2377000</td>\n",
       "      <td>1392752</td>\n",
       "    </tr>\n",
       "    <tr>\n",
       "      <th>1936</th>\n",
       "      <td>2355000</td>\n",
       "      <td>1479228</td>\n",
       "    </tr>\n",
       "    <tr>\n",
       "      <th>1937</th>\n",
       "      <td>2413000</td>\n",
       "      <td>1450427</td>\n",
       "    </tr>\n",
       "    <tr>\n",
       "      <th>1938</th>\n",
       "      <td>2496000</td>\n",
       "      <td>1381391</td>\n",
       "    </tr>\n",
       "    <tr>\n",
       "      <th>1939</th>\n",
       "      <td>2466000</td>\n",
       "      <td>1387897</td>\n",
       "    </tr>\n",
       "    <tr>\n",
       "      <th>...</th>\n",
       "      <td>...</td>\n",
       "      <td>...</td>\n",
       "    </tr>\n",
       "    <tr>\n",
       "      <th>2019</th>\n",
       "      <td>3747540</td>\n",
       "      <td>2854858</td>\n",
       "    </tr>\n",
       "    <tr>\n",
       "      <th>2020: 4</th>\n",
       "      <td>3613647</td>\n",
       "      <td>3383729</td>\n",
       "    </tr>\n",
       "    <tr>\n",
       "      <th>2021</th>\n",
       "      <td>3664292</td>\n",
       "      <td>3464231</td>\n",
       "    </tr>\n",
       "    <tr>\n",
       "      <th>2022</th>\n",
       "      <td>3,667,758[112]: 8</td>\n",
       "      <td>3279857</td>\n",
       "    </tr>\n",
       "    <tr>\n",
       "      <th>2023p</th>\n",
       "      <td>3596017</td>\n",
       "      <td>3087366</td>\n",
       "    </tr>\n",
       "  </tbody>\n",
       "</table>\n",
       "<p>89 rows × 2 columns</p>\n",
       "</div>"
      ],
      "text/plain": [
       "               Live_births   Deaths\n",
       "Year                               \n",
       "1935               2377000  1392752\n",
       "1936               2355000  1479228\n",
       "1937               2413000  1450427\n",
       "1938               2496000  1381391\n",
       "1939               2466000  1387897\n",
       "...                    ...      ...\n",
       "2019               3747540  2854858\n",
       "2020: 4            3613647  3383729\n",
       "2021               3664292  3464231\n",
       "2022     3,667,758[112]: 8  3279857\n",
       "2023p              3596017  3087366\n",
       "\n",
       "[89 rows x 2 columns]"
      ]
     },
     "execution_count": 274,
     "metadata": {},
     "output_type": "execute_result"
    }
   ],
   "source": [
    "d_data[[\"Live_births\", \"Deaths\"]]"
   ]
  },
  {
   "cell_type": "markdown",
   "id": "e99f17f1-683d-499c-9be3-0f0814911826",
   "metadata": {},
   "source": [
    "## Grab a Row"
   ]
  },
  {
   "cell_type": "code",
   "execution_count": 276,
   "id": "55900bf8-ffb7-4538-8e70-2774ef1521c2",
   "metadata": {},
   "outputs": [
    {
     "data": {
      "text/plain": [
       "Average_population         331511512\n",
       "Live_births                  3613647\n",
       "Deaths                       3383729\n",
       "Natural_change                229918\n",
       "Crude_birth_rate_               10.9\n",
       "Crude_death_rate_               10.2\n",
       "Natural_change_                  0.7\n",
       "Crude_migration_change_          3.0\n",
       "Total_fertility_rate           1.641\n",
       "Name: 2020: 4, dtype: object"
      ]
     },
     "execution_count": 276,
     "metadata": {},
     "output_type": "execute_result"
    }
   ],
   "source": [
    "d_data.loc['2020: 4']"
   ]
  },
  {
   "cell_type": "code",
   "execution_count": 277,
   "id": "69300485-0422-4028-9c7b-c0ae73e23f7b",
   "metadata": {},
   "outputs": [
    {
     "data": {
      "text/plain": [
       "Average_population         331511512\n",
       "Live_births                  3613647\n",
       "Deaths                       3383729\n",
       "Natural_change                229918\n",
       "Crude_birth_rate_               10.9\n",
       "Crude_death_rate_               10.2\n",
       "Natural_change_                  0.7\n",
       "Crude_migration_change_          3.0\n",
       "Total_fertility_rate           1.641\n",
       "Name: 2020: 4, dtype: object"
      ]
     },
     "execution_count": 277,
     "metadata": {},
     "output_type": "execute_result"
    }
   ],
   "source": [
    "d_data.iloc[85]"
   ]
  },
  {
   "cell_type": "markdown",
   "id": "0f2bbcd2-48fa-47c8-a1b7-f99cf2bbf71e",
   "metadata": {},
   "source": [
    "## Add a Column"
   ]
  },
  {
   "cell_type": "code",
   "execution_count": 306,
   "id": "2aa075d8-4d91-4b85-8332-77a64e2e6eb1",
   "metadata": {},
   "outputs": [
    {
     "data": {
      "text/html": [
       "<div>\n",
       "<style scoped>\n",
       "    .dataframe tbody tr th:only-of-type {\n",
       "        vertical-align: middle;\n",
       "    }\n",
       "\n",
       "    .dataframe tbody tr th {\n",
       "        vertical-align: top;\n",
       "    }\n",
       "\n",
       "    .dataframe thead th {\n",
       "        text-align: right;\n",
       "    }\n",
       "</style>\n",
       "<table border=\"1\" class=\"dataframe\">\n",
       "  <thead>\n",
       "    <tr style=\"text-align: right;\">\n",
       "      <th></th>\n",
       "      <th>Average_population</th>\n",
       "      <th>Live_births</th>\n",
       "      <th>Deaths</th>\n",
       "      <th>Natural_change</th>\n",
       "      <th>Crude_birth_rate_</th>\n",
       "      <th>Crude_death_rate_</th>\n",
       "      <th>Natural_change_</th>\n",
       "      <th>Crude_migration_change_</th>\n",
       "      <th>Total_fertility_rate</th>\n",
       "      <th>Pop_Growth</th>\n",
       "    </tr>\n",
       "    <tr>\n",
       "      <th>Year</th>\n",
       "      <th></th>\n",
       "      <th></th>\n",
       "      <th></th>\n",
       "      <th></th>\n",
       "      <th></th>\n",
       "      <th></th>\n",
       "      <th></th>\n",
       "      <th></th>\n",
       "      <th></th>\n",
       "      <th></th>\n",
       "    </tr>\n",
       "  </thead>\n",
       "  <tbody>\n",
       "    <tr>\n",
       "      <th>1935</th>\n",
       "      <td>127250000</td>\n",
       "      <td>2377000</td>\n",
       "      <td>1392752</td>\n",
       "      <td>984248</td>\n",
       "      <td>18.7</td>\n",
       "      <td>10.9</td>\n",
       "      <td>7.7</td>\n",
       "      <td>NaN</td>\n",
       "      <td>2.19</td>\n",
       "      <td>984248</td>\n",
       "    </tr>\n",
       "    <tr>\n",
       "      <th>1936</th>\n",
       "      <td>128053000</td>\n",
       "      <td>2355000</td>\n",
       "      <td>1479228</td>\n",
       "      <td>875772</td>\n",
       "      <td>18.4</td>\n",
       "      <td>11.5</td>\n",
       "      <td>6.8</td>\n",
       "      <td>-0.5</td>\n",
       "      <td>2.15</td>\n",
       "      <td>875772</td>\n",
       "    </tr>\n",
       "    <tr>\n",
       "      <th>1937</th>\n",
       "      <td>128825000</td>\n",
       "      <td>2413000</td>\n",
       "      <td>1450427</td>\n",
       "      <td>962573</td>\n",
       "      <td>18.7</td>\n",
       "      <td>11.2</td>\n",
       "      <td>7.5</td>\n",
       "      <td>-1.5</td>\n",
       "      <td>2.17</td>\n",
       "      <td>962573</td>\n",
       "    </tr>\n",
       "    <tr>\n",
       "      <th>1938</th>\n",
       "      <td>129825000</td>\n",
       "      <td>2496000</td>\n",
       "      <td>1381391</td>\n",
       "      <td>1114609</td>\n",
       "      <td>19.2</td>\n",
       "      <td>10.6</td>\n",
       "      <td>8.6</td>\n",
       "      <td>-0.9</td>\n",
       "      <td>2.22</td>\n",
       "      <td>1114609</td>\n",
       "    </tr>\n",
       "    <tr>\n",
       "      <th>1939</th>\n",
       "      <td>130880000</td>\n",
       "      <td>2466000</td>\n",
       "      <td>1387897</td>\n",
       "      <td>1078103</td>\n",
       "      <td>18.8</td>\n",
       "      <td>10.6</td>\n",
       "      <td>8.2</td>\n",
       "      <td>-0.1</td>\n",
       "      <td>2.17</td>\n",
       "      <td>1078103</td>\n",
       "    </tr>\n",
       "    <tr>\n",
       "      <th>...</th>\n",
       "      <td>...</td>\n",
       "      <td>...</td>\n",
       "      <td>...</td>\n",
       "      <td>...</td>\n",
       "      <td>...</td>\n",
       "      <td>...</td>\n",
       "      <td>...</td>\n",
       "      <td>...</td>\n",
       "      <td>...</td>\n",
       "      <td>...</td>\n",
       "    </tr>\n",
       "    <tr>\n",
       "      <th>2019</th>\n",
       "      <td>330284261</td>\n",
       "      <td>3747540</td>\n",
       "      <td>2854858</td>\n",
       "      <td>892682</td>\n",
       "      <td>11.3</td>\n",
       "      <td>8.6</td>\n",
       "      <td>2.7</td>\n",
       "      <td>2.5</td>\n",
       "      <td>1.706</td>\n",
       "      <td>892682</td>\n",
       "    </tr>\n",
       "    <tr>\n",
       "      <th>2020: 4</th>\n",
       "      <td>331511512</td>\n",
       "      <td>3613647</td>\n",
       "      <td>3383729</td>\n",
       "      <td>229918</td>\n",
       "      <td>10.9</td>\n",
       "      <td>10.2</td>\n",
       "      <td>0.7</td>\n",
       "      <td>3.0</td>\n",
       "      <td>1.641</td>\n",
       "      <td>229918</td>\n",
       "    </tr>\n",
       "    <tr>\n",
       "      <th>2021</th>\n",
       "      <td>332031554</td>\n",
       "      <td>3664292</td>\n",
       "      <td>3464231</td>\n",
       "      <td>200061</td>\n",
       "      <td>11.0</td>\n",
       "      <td>10.4</td>\n",
       "      <td>0.6</td>\n",
       "      <td>1.0</td>\n",
       "      <td>1.664[112]: 5</td>\n",
       "      <td>200061</td>\n",
       "    </tr>\n",
       "    <tr>\n",
       "      <th>2022</th>\n",
       "      <td>333287557</td>\n",
       "      <td>3667758</td>\n",
       "      <td>3279857</td>\n",
       "      <td>387901</td>\n",
       "      <td>11.0</td>\n",
       "      <td>9.8</td>\n",
       "      <td>1.2</td>\n",
       "      <td>2.6</td>\n",
       "      <td>1.656[112]: 5</td>\n",
       "      <td>387901</td>\n",
       "    </tr>\n",
       "    <tr>\n",
       "      <th>2023p</th>\n",
       "      <td>334914865</td>\n",
       "      <td>3596017</td>\n",
       "      <td>3087366</td>\n",
       "      <td>507932</td>\n",
       "      <td>10.7</td>\n",
       "      <td>9.2</td>\n",
       "      <td>1.5</td>\n",
       "      <td>3.4</td>\n",
       "      <td>1.617</td>\n",
       "      <td>508651</td>\n",
       "    </tr>\n",
       "  </tbody>\n",
       "</table>\n",
       "<p>89 rows × 10 columns</p>\n",
       "</div>"
      ],
      "text/plain": [
       "         Average_population  Live_births   Deaths  Natural_change  \\\n",
       "Year                                                                \n",
       "1935              127250000      2377000  1392752          984248   \n",
       "1936              128053000      2355000  1479228          875772   \n",
       "1937              128825000      2413000  1450427          962573   \n",
       "1938              129825000      2496000  1381391         1114609   \n",
       "1939              130880000      2466000  1387897         1078103   \n",
       "...                     ...          ...      ...             ...   \n",
       "2019              330284261      3747540  2854858          892682   \n",
       "2020: 4           331511512      3613647  3383729          229918   \n",
       "2021              332031554      3664292  3464231          200061   \n",
       "2022              333287557      3667758  3279857          387901   \n",
       "2023p             334914865      3596017  3087366          507932   \n",
       "\n",
       "         Crude_birth_rate_  Crude_death_rate_  Natural_change_  \\\n",
       "Year                                                             \n",
       "1935                  18.7               10.9              7.7   \n",
       "1936                  18.4               11.5              6.8   \n",
       "1937                  18.7               11.2              7.5   \n",
       "1938                  19.2               10.6              8.6   \n",
       "1939                  18.8               10.6              8.2   \n",
       "...                    ...                ...              ...   \n",
       "2019                  11.3                8.6              2.7   \n",
       "2020: 4               10.9               10.2              0.7   \n",
       "2021                  11.0               10.4              0.6   \n",
       "2022                  11.0                9.8              1.2   \n",
       "2023p                 10.7                9.2              1.5   \n",
       "\n",
       "         Crude_migration_change_ Total_fertility_rate  Pop_Growth  \n",
       "Year                                                               \n",
       "1935                         NaN                 2.19      984248  \n",
       "1936                        -0.5                 2.15      875772  \n",
       "1937                        -1.5                 2.17      962573  \n",
       "1938                        -0.9                 2.22     1114609  \n",
       "1939                        -0.1                 2.17     1078103  \n",
       "...                          ...                  ...         ...  \n",
       "2019                         2.5                1.706      892682  \n",
       "2020: 4                      3.0                1.641      229918  \n",
       "2021                         1.0        1.664[112]: 5      200061  \n",
       "2022                         2.6        1.656[112]: 5      387901  \n",
       "2023p                        3.4                1.617      508651  \n",
       "\n",
       "[89 rows x 10 columns]"
      ]
     },
     "execution_count": 306,
     "metadata": {},
     "output_type": "execute_result"
    }
   ],
   "source": [
    "d_data['Pop_Growth'] = d_data['Live_births'] - d_data['Deaths']\n",
    "d_data"
   ]
  },
  {
   "cell_type": "markdown",
   "id": "d7d07688-efd1-4094-b1ed-d7829dfbbfca",
   "metadata": {},
   "source": [
    "## Delete a Column"
   ]
  },
  {
   "cell_type": "code",
   "execution_count": 314,
   "id": "2550e5a9-3bfd-4b0e-877d-1046bfd9d589",
   "metadata": {},
   "outputs": [
    {
     "data": {
      "text/html": [
       "<div>\n",
       "<style scoped>\n",
       "    .dataframe tbody tr th:only-of-type {\n",
       "        vertical-align: middle;\n",
       "    }\n",
       "\n",
       "    .dataframe tbody tr th {\n",
       "        vertical-align: top;\n",
       "    }\n",
       "\n",
       "    .dataframe thead th {\n",
       "        text-align: right;\n",
       "    }\n",
       "</style>\n",
       "<table border=\"1\" class=\"dataframe\">\n",
       "  <thead>\n",
       "    <tr style=\"text-align: right;\">\n",
       "      <th></th>\n",
       "      <th>Average_population</th>\n",
       "      <th>Live_births</th>\n",
       "      <th>Deaths</th>\n",
       "      <th>Natural_change</th>\n",
       "      <th>Crude_birth_rate_</th>\n",
       "      <th>Crude_death_rate_</th>\n",
       "      <th>Natural_change_</th>\n",
       "      <th>Crude_migration_change_</th>\n",
       "      <th>Total_fertility_rate</th>\n",
       "    </tr>\n",
       "    <tr>\n",
       "      <th>Year</th>\n",
       "      <th></th>\n",
       "      <th></th>\n",
       "      <th></th>\n",
       "      <th></th>\n",
       "      <th></th>\n",
       "      <th></th>\n",
       "      <th></th>\n",
       "      <th></th>\n",
       "      <th></th>\n",
       "    </tr>\n",
       "  </thead>\n",
       "  <tbody>\n",
       "    <tr>\n",
       "      <th>1935</th>\n",
       "      <td>127250000</td>\n",
       "      <td>2377000</td>\n",
       "      <td>1392752</td>\n",
       "      <td>984248</td>\n",
       "      <td>18.7</td>\n",
       "      <td>10.9</td>\n",
       "      <td>7.7</td>\n",
       "      <td>NaN</td>\n",
       "      <td>2.19</td>\n",
       "    </tr>\n",
       "    <tr>\n",
       "      <th>1936</th>\n",
       "      <td>128053000</td>\n",
       "      <td>2355000</td>\n",
       "      <td>1479228</td>\n",
       "      <td>875772</td>\n",
       "      <td>18.4</td>\n",
       "      <td>11.5</td>\n",
       "      <td>6.8</td>\n",
       "      <td>-0.5</td>\n",
       "      <td>2.15</td>\n",
       "    </tr>\n",
       "    <tr>\n",
       "      <th>1937</th>\n",
       "      <td>128825000</td>\n",
       "      <td>2413000</td>\n",
       "      <td>1450427</td>\n",
       "      <td>962573</td>\n",
       "      <td>18.7</td>\n",
       "      <td>11.2</td>\n",
       "      <td>7.5</td>\n",
       "      <td>-1.5</td>\n",
       "      <td>2.17</td>\n",
       "    </tr>\n",
       "    <tr>\n",
       "      <th>1938</th>\n",
       "      <td>129825000</td>\n",
       "      <td>2496000</td>\n",
       "      <td>1381391</td>\n",
       "      <td>1114609</td>\n",
       "      <td>19.2</td>\n",
       "      <td>10.6</td>\n",
       "      <td>8.6</td>\n",
       "      <td>-0.9</td>\n",
       "      <td>2.22</td>\n",
       "    </tr>\n",
       "    <tr>\n",
       "      <th>1939</th>\n",
       "      <td>130880000</td>\n",
       "      <td>2466000</td>\n",
       "      <td>1387897</td>\n",
       "      <td>1078103</td>\n",
       "      <td>18.8</td>\n",
       "      <td>10.6</td>\n",
       "      <td>8.2</td>\n",
       "      <td>-0.1</td>\n",
       "      <td>2.17</td>\n",
       "    </tr>\n",
       "    <tr>\n",
       "      <th>...</th>\n",
       "      <td>...</td>\n",
       "      <td>...</td>\n",
       "      <td>...</td>\n",
       "      <td>...</td>\n",
       "      <td>...</td>\n",
       "      <td>...</td>\n",
       "      <td>...</td>\n",
       "      <td>...</td>\n",
       "      <td>...</td>\n",
       "    </tr>\n",
       "    <tr>\n",
       "      <th>2019</th>\n",
       "      <td>330284261</td>\n",
       "      <td>3747540</td>\n",
       "      <td>2854858</td>\n",
       "      <td>892682</td>\n",
       "      <td>11.3</td>\n",
       "      <td>8.6</td>\n",
       "      <td>2.7</td>\n",
       "      <td>2.5</td>\n",
       "      <td>1.706</td>\n",
       "    </tr>\n",
       "    <tr>\n",
       "      <th>2020: 4</th>\n",
       "      <td>331511512</td>\n",
       "      <td>3613647</td>\n",
       "      <td>3383729</td>\n",
       "      <td>229918</td>\n",
       "      <td>10.9</td>\n",
       "      <td>10.2</td>\n",
       "      <td>0.7</td>\n",
       "      <td>3.0</td>\n",
       "      <td>1.641</td>\n",
       "    </tr>\n",
       "    <tr>\n",
       "      <th>2021</th>\n",
       "      <td>332031554</td>\n",
       "      <td>3664292</td>\n",
       "      <td>3464231</td>\n",
       "      <td>200061</td>\n",
       "      <td>11.0</td>\n",
       "      <td>10.4</td>\n",
       "      <td>0.6</td>\n",
       "      <td>1.0</td>\n",
       "      <td>1.664[112]: 5</td>\n",
       "    </tr>\n",
       "    <tr>\n",
       "      <th>2022</th>\n",
       "      <td>333287557</td>\n",
       "      <td>3667758</td>\n",
       "      <td>3279857</td>\n",
       "      <td>387901</td>\n",
       "      <td>11.0</td>\n",
       "      <td>9.8</td>\n",
       "      <td>1.2</td>\n",
       "      <td>2.6</td>\n",
       "      <td>1.656[112]: 5</td>\n",
       "    </tr>\n",
       "    <tr>\n",
       "      <th>2023p</th>\n",
       "      <td>334914865</td>\n",
       "      <td>3596017</td>\n",
       "      <td>3087366</td>\n",
       "      <td>507932</td>\n",
       "      <td>10.7</td>\n",
       "      <td>9.2</td>\n",
       "      <td>1.5</td>\n",
       "      <td>3.4</td>\n",
       "      <td>1.617</td>\n",
       "    </tr>\n",
       "  </tbody>\n",
       "</table>\n",
       "<p>89 rows × 9 columns</p>\n",
       "</div>"
      ],
      "text/plain": [
       "         Average_population  Live_births   Deaths  Natural_change  \\\n",
       "Year                                                                \n",
       "1935              127250000      2377000  1392752          984248   \n",
       "1936              128053000      2355000  1479228          875772   \n",
       "1937              128825000      2413000  1450427          962573   \n",
       "1938              129825000      2496000  1381391         1114609   \n",
       "1939              130880000      2466000  1387897         1078103   \n",
       "...                     ...          ...      ...             ...   \n",
       "2019              330284261      3747540  2854858          892682   \n",
       "2020: 4           331511512      3613647  3383729          229918   \n",
       "2021              332031554      3664292  3464231          200061   \n",
       "2022              333287557      3667758  3279857          387901   \n",
       "2023p             334914865      3596017  3087366          507932   \n",
       "\n",
       "         Crude_birth_rate_  Crude_death_rate_  Natural_change_  \\\n",
       "Year                                                             \n",
       "1935                  18.7               10.9              7.7   \n",
       "1936                  18.4               11.5              6.8   \n",
       "1937                  18.7               11.2              7.5   \n",
       "1938                  19.2               10.6              8.6   \n",
       "1939                  18.8               10.6              8.2   \n",
       "...                    ...                ...              ...   \n",
       "2019                  11.3                8.6              2.7   \n",
       "2020: 4               10.9               10.2              0.7   \n",
       "2021                  11.0               10.4              0.6   \n",
       "2022                  11.0                9.8              1.2   \n",
       "2023p                 10.7                9.2              1.5   \n",
       "\n",
       "         Crude_migration_change_ Total_fertility_rate  \n",
       "Year                                                   \n",
       "1935                         NaN                 2.19  \n",
       "1936                        -0.5                 2.15  \n",
       "1937                        -1.5                 2.17  \n",
       "1938                        -0.9                 2.22  \n",
       "1939                        -0.1                 2.17  \n",
       "...                          ...                  ...  \n",
       "2019                         2.5                1.706  \n",
       "2020: 4                      3.0                1.641  \n",
       "2021                         1.0        1.664[112]: 5  \n",
       "2022                         2.6        1.656[112]: 5  \n",
       "2023p                        3.4                1.617  \n",
       "\n",
       "[89 rows x 9 columns]"
      ]
     },
     "execution_count": 314,
     "metadata": {},
     "output_type": "execute_result"
    }
   ],
   "source": [
    "d_data.drop('Pop_Growth', axis =1, inplace=True)\n",
    "d_data\n"
   ]
  },
  {
   "cell_type": "markdown",
   "id": "5a01dedd-a69e-41eb-928a-910d29db0dcf",
   "metadata": {},
   "source": [
    "## Delete a Row"
   ]
  },
  {
   "cell_type": "code",
   "execution_count": 317,
   "id": "6e41cd38-98d2-44d9-9bc5-0abfc2b16656",
   "metadata": {},
   "outputs": [
    {
     "data": {
      "text/html": [
       "<div>\n",
       "<style scoped>\n",
       "    .dataframe tbody tr th:only-of-type {\n",
       "        vertical-align: middle;\n",
       "    }\n",
       "\n",
       "    .dataframe tbody tr th {\n",
       "        vertical-align: top;\n",
       "    }\n",
       "\n",
       "    .dataframe thead th {\n",
       "        text-align: right;\n",
       "    }\n",
       "</style>\n",
       "<table border=\"1\" class=\"dataframe\">\n",
       "  <thead>\n",
       "    <tr style=\"text-align: right;\">\n",
       "      <th></th>\n",
       "      <th>Average_population</th>\n",
       "      <th>Live_births</th>\n",
       "      <th>Deaths</th>\n",
       "      <th>Natural_change</th>\n",
       "      <th>Crude_birth_rate_</th>\n",
       "      <th>Crude_death_rate_</th>\n",
       "      <th>Natural_change_</th>\n",
       "      <th>Crude_migration_change_</th>\n",
       "      <th>Total_fertility_rate</th>\n",
       "    </tr>\n",
       "    <tr>\n",
       "      <th>Year</th>\n",
       "      <th></th>\n",
       "      <th></th>\n",
       "      <th></th>\n",
       "      <th></th>\n",
       "      <th></th>\n",
       "      <th></th>\n",
       "      <th></th>\n",
       "      <th></th>\n",
       "      <th></th>\n",
       "    </tr>\n",
       "  </thead>\n",
       "  <tbody>\n",
       "    <tr>\n",
       "      <th>1936</th>\n",
       "      <td>128053000</td>\n",
       "      <td>2355000</td>\n",
       "      <td>1479228</td>\n",
       "      <td>875772</td>\n",
       "      <td>18.4</td>\n",
       "      <td>11.5</td>\n",
       "      <td>6.8</td>\n",
       "      <td>-0.5</td>\n",
       "      <td>2.15</td>\n",
       "    </tr>\n",
       "    <tr>\n",
       "      <th>1937</th>\n",
       "      <td>128825000</td>\n",
       "      <td>2413000</td>\n",
       "      <td>1450427</td>\n",
       "      <td>962573</td>\n",
       "      <td>18.7</td>\n",
       "      <td>11.2</td>\n",
       "      <td>7.5</td>\n",
       "      <td>-1.5</td>\n",
       "      <td>2.17</td>\n",
       "    </tr>\n",
       "    <tr>\n",
       "      <th>1938</th>\n",
       "      <td>129825000</td>\n",
       "      <td>2496000</td>\n",
       "      <td>1381391</td>\n",
       "      <td>1114609</td>\n",
       "      <td>19.2</td>\n",
       "      <td>10.6</td>\n",
       "      <td>8.6</td>\n",
       "      <td>-0.9</td>\n",
       "      <td>2.22</td>\n",
       "    </tr>\n",
       "    <tr>\n",
       "      <th>1939</th>\n",
       "      <td>130880000</td>\n",
       "      <td>2466000</td>\n",
       "      <td>1387897</td>\n",
       "      <td>1078103</td>\n",
       "      <td>18.8</td>\n",
       "      <td>10.6</td>\n",
       "      <td>8.2</td>\n",
       "      <td>-0.1</td>\n",
       "      <td>2.17</td>\n",
       "    </tr>\n",
       "    <tr>\n",
       "      <th>1940</th>\n",
       "      <td>131930000</td>\n",
       "      <td>2559000</td>\n",
       "      <td>1417269</td>\n",
       "      <td>1142000</td>\n",
       "      <td>19.4</td>\n",
       "      <td>10.8</td>\n",
       "      <td>8.7</td>\n",
       "      <td>-0.7</td>\n",
       "      <td>2.301</td>\n",
       "    </tr>\n",
       "    <tr>\n",
       "      <th>...</th>\n",
       "      <td>...</td>\n",
       "      <td>...</td>\n",
       "      <td>...</td>\n",
       "      <td>...</td>\n",
       "      <td>...</td>\n",
       "      <td>...</td>\n",
       "      <td>...</td>\n",
       "      <td>...</td>\n",
       "      <td>...</td>\n",
       "    </tr>\n",
       "    <tr>\n",
       "      <th>2019</th>\n",
       "      <td>330284261</td>\n",
       "      <td>3747540</td>\n",
       "      <td>2854858</td>\n",
       "      <td>892682</td>\n",
       "      <td>11.3</td>\n",
       "      <td>8.6</td>\n",
       "      <td>2.7</td>\n",
       "      <td>2.5</td>\n",
       "      <td>1.706</td>\n",
       "    </tr>\n",
       "    <tr>\n",
       "      <th>2020: 4</th>\n",
       "      <td>331511512</td>\n",
       "      <td>3613647</td>\n",
       "      <td>3383729</td>\n",
       "      <td>229918</td>\n",
       "      <td>10.9</td>\n",
       "      <td>10.2</td>\n",
       "      <td>0.7</td>\n",
       "      <td>3.0</td>\n",
       "      <td>1.641</td>\n",
       "    </tr>\n",
       "    <tr>\n",
       "      <th>2021</th>\n",
       "      <td>332031554</td>\n",
       "      <td>3664292</td>\n",
       "      <td>3464231</td>\n",
       "      <td>200061</td>\n",
       "      <td>11.0</td>\n",
       "      <td>10.4</td>\n",
       "      <td>0.6</td>\n",
       "      <td>1.0</td>\n",
       "      <td>1.664[112]: 5</td>\n",
       "    </tr>\n",
       "    <tr>\n",
       "      <th>2022</th>\n",
       "      <td>333287557</td>\n",
       "      <td>3667758</td>\n",
       "      <td>3279857</td>\n",
       "      <td>387901</td>\n",
       "      <td>11.0</td>\n",
       "      <td>9.8</td>\n",
       "      <td>1.2</td>\n",
       "      <td>2.6</td>\n",
       "      <td>1.656[112]: 5</td>\n",
       "    </tr>\n",
       "    <tr>\n",
       "      <th>2023p</th>\n",
       "      <td>334914865</td>\n",
       "      <td>3596017</td>\n",
       "      <td>3087366</td>\n",
       "      <td>507932</td>\n",
       "      <td>10.7</td>\n",
       "      <td>9.2</td>\n",
       "      <td>1.5</td>\n",
       "      <td>3.4</td>\n",
       "      <td>1.617</td>\n",
       "    </tr>\n",
       "  </tbody>\n",
       "</table>\n",
       "<p>88 rows × 9 columns</p>\n",
       "</div>"
      ],
      "text/plain": [
       "         Average_population  Live_births   Deaths  Natural_change  \\\n",
       "Year                                                                \n",
       "1936              128053000      2355000  1479228          875772   \n",
       "1937              128825000      2413000  1450427          962573   \n",
       "1938              129825000      2496000  1381391         1114609   \n",
       "1939              130880000      2466000  1387897         1078103   \n",
       "1940              131930000      2559000  1417269         1142000   \n",
       "...                     ...          ...      ...             ...   \n",
       "2019              330284261      3747540  2854858          892682   \n",
       "2020: 4           331511512      3613647  3383729          229918   \n",
       "2021              332031554      3664292  3464231          200061   \n",
       "2022              333287557      3667758  3279857          387901   \n",
       "2023p             334914865      3596017  3087366          507932   \n",
       "\n",
       "         Crude_birth_rate_  Crude_death_rate_  Natural_change_  \\\n",
       "Year                                                             \n",
       "1936                  18.4               11.5              6.8   \n",
       "1937                  18.7               11.2              7.5   \n",
       "1938                  19.2               10.6              8.6   \n",
       "1939                  18.8               10.6              8.2   \n",
       "1940                  19.4               10.8              8.7   \n",
       "...                    ...                ...              ...   \n",
       "2019                  11.3                8.6              2.7   \n",
       "2020: 4               10.9               10.2              0.7   \n",
       "2021                  11.0               10.4              0.6   \n",
       "2022                  11.0                9.8              1.2   \n",
       "2023p                 10.7                9.2              1.5   \n",
       "\n",
       "         Crude_migration_change_ Total_fertility_rate  \n",
       "Year                                                   \n",
       "1936                        -0.5                 2.15  \n",
       "1937                        -1.5                 2.17  \n",
       "1938                        -0.9                 2.22  \n",
       "1939                        -0.1                 2.17  \n",
       "1940                        -0.7                2.301  \n",
       "...                          ...                  ...  \n",
       "2019                         2.5                1.706  \n",
       "2020: 4                      3.0                1.641  \n",
       "2021                         1.0        1.664[112]: 5  \n",
       "2022                         2.6        1.656[112]: 5  \n",
       "2023p                        3.4                1.617  \n",
       "\n",
       "[88 rows x 9 columns]"
      ]
     },
     "execution_count": 317,
     "metadata": {},
     "output_type": "execute_result"
    }
   ],
   "source": [
    "d_data.drop(\"1935\", axis=0, inplace=True)\n",
    "d_data"
   ]
  },
  {
   "cell_type": "markdown",
   "id": "f8e7888c-d6e7-4096-9870-077ecf02c072",
   "metadata": {},
   "source": [
    "## Manipulate Data\n"
   ]
  },
  {
   "cell_type": "code",
   "execution_count": 320,
   "id": "284927e1-bb61-41ee-ad69-100ebacb7bca",
   "metadata": {},
   "outputs": [
    {
     "data": {
      "text/html": [
       "<div>\n",
       "<style scoped>\n",
       "    .dataframe tbody tr th:only-of-type {\n",
       "        vertical-align: middle;\n",
       "    }\n",
       "\n",
       "    .dataframe tbody tr th {\n",
       "        vertical-align: top;\n",
       "    }\n",
       "\n",
       "    .dataframe thead tr th {\n",
       "        text-align: left;\n",
       "    }\n",
       "</style>\n",
       "<table border=\"1\" class=\"dataframe\">\n",
       "  <thead>\n",
       "    <tr>\n",
       "      <th></th>\n",
       "      <th>Country/Territory</th>\n",
       "      <th colspan=\"2\" halign=\"left\">IMF[1][13]</th>\n",
       "      <th colspan=\"2\" halign=\"left\">World Bank[14]</th>\n",
       "      <th colspan=\"2\" halign=\"left\">United Nations[15]</th>\n",
       "    </tr>\n",
       "    <tr>\n",
       "      <th></th>\n",
       "      <th>Country/Territory</th>\n",
       "      <th>Forecast</th>\n",
       "      <th>Year</th>\n",
       "      <th>Estimate</th>\n",
       "      <th>Year</th>\n",
       "      <th>Estimate</th>\n",
       "      <th>Year</th>\n",
       "    </tr>\n",
       "  </thead>\n",
       "  <tbody>\n",
       "    <tr>\n",
       "      <th>0</th>\n",
       "      <td>World</td>\n",
       "      <td>110047109</td>\n",
       "      <td>2024</td>\n",
       "      <td>105435540</td>\n",
       "      <td>2023</td>\n",
       "      <td>100834796</td>\n",
       "      <td>2022</td>\n",
       "    </tr>\n",
       "    <tr>\n",
       "      <th>1</th>\n",
       "      <td>United States</td>\n",
       "      <td>29167779</td>\n",
       "      <td>2024</td>\n",
       "      <td>27360935</td>\n",
       "      <td>2023</td>\n",
       "      <td>25744100</td>\n",
       "      <td>2022</td>\n",
       "    </tr>\n",
       "    <tr>\n",
       "      <th>2</th>\n",
       "      <td>China</td>\n",
       "      <td>18273357</td>\n",
       "      <td>[n 1]2024</td>\n",
       "      <td>17794782</td>\n",
       "      <td>[n 3]2023</td>\n",
       "      <td>17963170</td>\n",
       "      <td>[n 1]2022</td>\n",
       "    </tr>\n",
       "    <tr>\n",
       "      <th>3</th>\n",
       "      <td>Germany</td>\n",
       "      <td>4710032</td>\n",
       "      <td>2024</td>\n",
       "      <td>4456081</td>\n",
       "      <td>2023</td>\n",
       "      <td>4076923</td>\n",
       "      <td>2022</td>\n",
       "    </tr>\n",
       "    <tr>\n",
       "      <th>4</th>\n",
       "      <td>Japan</td>\n",
       "      <td>4070094</td>\n",
       "      <td>2024</td>\n",
       "      <td>4212945</td>\n",
       "      <td>2023</td>\n",
       "      <td>4232173</td>\n",
       "      <td>2022</td>\n",
       "    </tr>\n",
       "    <tr>\n",
       "      <th>...</th>\n",
       "      <td>...</td>\n",
       "      <td>...</td>\n",
       "      <td>...</td>\n",
       "      <td>...</td>\n",
       "      <td>...</td>\n",
       "      <td>...</td>\n",
       "      <td>...</td>\n",
       "    </tr>\n",
       "    <tr>\n",
       "      <th>205</th>\n",
       "      <td>Kiribati</td>\n",
       "      <td>311</td>\n",
       "      <td>2024</td>\n",
       "      <td>279</td>\n",
       "      <td>2023</td>\n",
       "      <td>223</td>\n",
       "      <td>2022</td>\n",
       "    </tr>\n",
       "    <tr>\n",
       "      <th>206</th>\n",
       "      <td>Palau</td>\n",
       "      <td>308</td>\n",
       "      <td>2024</td>\n",
       "      <td>263</td>\n",
       "      <td>2023</td>\n",
       "      <td>225</td>\n",
       "      <td>2022</td>\n",
       "    </tr>\n",
       "    <tr>\n",
       "      <th>207</th>\n",
       "      <td>Marshall Islands</td>\n",
       "      <td>305</td>\n",
       "      <td>2024</td>\n",
       "      <td>284</td>\n",
       "      <td>2023</td>\n",
       "      <td>279</td>\n",
       "      <td>2022</td>\n",
       "    </tr>\n",
       "    <tr>\n",
       "      <th>208</th>\n",
       "      <td>Nauru</td>\n",
       "      <td>161</td>\n",
       "      <td>2024</td>\n",
       "      <td>154</td>\n",
       "      <td>2023</td>\n",
       "      <td>147</td>\n",
       "      <td>2022</td>\n",
       "    </tr>\n",
       "    <tr>\n",
       "      <th>209</th>\n",
       "      <td>Tuvalu</td>\n",
       "      <td>66</td>\n",
       "      <td>2024</td>\n",
       "      <td>62</td>\n",
       "      <td>2023</td>\n",
       "      <td>59</td>\n",
       "      <td>2022</td>\n",
       "    </tr>\n",
       "  </tbody>\n",
       "</table>\n",
       "<p>210 rows × 7 columns</p>\n",
       "</div>"
      ],
      "text/plain": [
       "    Country/Territory IMF[1][13]            World Bank[14]             \\\n",
       "    Country/Territory   Forecast       Year       Estimate       Year   \n",
       "0               World  110047109       2024      105435540       2023   \n",
       "1       United States   29167779       2024       27360935       2023   \n",
       "2               China   18273357  [n 1]2024       17794782  [n 3]2023   \n",
       "3             Germany    4710032       2024        4456081       2023   \n",
       "4               Japan    4070094       2024        4212945       2023   \n",
       "..                ...        ...        ...            ...        ...   \n",
       "205          Kiribati        311       2024            279       2023   \n",
       "206             Palau        308       2024            263       2023   \n",
       "207  Marshall Islands        305       2024            284       2023   \n",
       "208             Nauru        161       2024            154       2023   \n",
       "209            Tuvalu         66       2024             62       2023   \n",
       "\n",
       "    United Nations[15]             \n",
       "              Estimate       Year  \n",
       "0            100834796       2022  \n",
       "1             25744100       2022  \n",
       "2             17963170  [n 1]2022  \n",
       "3              4076923       2022  \n",
       "4              4232173       2022  \n",
       "..                 ...        ...  \n",
       "205                223       2022  \n",
       "206                225       2022  \n",
       "207                279       2022  \n",
       "208                147       2022  \n",
       "209                 59       2022  \n",
       "\n",
       "[210 rows x 7 columns]"
      ]
     },
     "execution_count": 320,
     "metadata": {},
     "output_type": "execute_result"
    }
   ],
   "source": [
    "c_data = pd.read_html(\"https://en.wikipedia.org/wiki/List_of_countries_by_GDP_(nominal)\")[2]\n",
    "c_data"
   ]
  },
  {
   "cell_type": "code",
   "execution_count": 324,
   "id": "d5635522-ba8a-495d-8113-e8013398d9ec",
   "metadata": {},
   "outputs": [
    {
     "name": "stdout",
     "output_type": "stream",
     "text": [
      "('Country/Territory', 'Country/Territory')\n",
      "('IMF[1][13]', 'Forecast')\n",
      "('IMF[1][13]', 'Year')\n",
      "('World Bank[14]', 'Estimate')\n",
      "('World Bank[14]', 'Year')\n",
      "('United Nations[15]', 'Estimate')\n",
      "('United Nations[15]', 'Year')\n"
     ]
    }
   ],
   "source": [
    "for col in c_data.columns:\n",
    "    print(col)"
   ]
  },
  {
   "cell_type": "code",
   "execution_count": 326,
   "id": "a0d96e1c-be96-42f1-bc9e-dafdd0f19574",
   "metadata": {},
   "outputs": [
    {
     "data": {
      "text/html": [
       "<div>\n",
       "<style scoped>\n",
       "    .dataframe tbody tr th:only-of-type {\n",
       "        vertical-align: middle;\n",
       "    }\n",
       "\n",
       "    .dataframe tbody tr th {\n",
       "        vertical-align: top;\n",
       "    }\n",
       "\n",
       "    .dataframe thead th {\n",
       "        text-align: right;\n",
       "    }\n",
       "</style>\n",
       "<table border=\"1\" class=\"dataframe\">\n",
       "  <thead>\n",
       "    <tr style=\"text-align: right;\">\n",
       "      <th></th>\n",
       "      <th>Country/Territory</th>\n",
       "      <th>Forecast</th>\n",
       "      <th>Year</th>\n",
       "      <th>Estimate</th>\n",
       "      <th>Year</th>\n",
       "      <th>Estimate</th>\n",
       "      <th>Year</th>\n",
       "    </tr>\n",
       "  </thead>\n",
       "  <tbody>\n",
       "    <tr>\n",
       "      <th>0</th>\n",
       "      <td>World</td>\n",
       "      <td>110047109</td>\n",
       "      <td>2024</td>\n",
       "      <td>105435540</td>\n",
       "      <td>2023</td>\n",
       "      <td>100834796</td>\n",
       "      <td>2022</td>\n",
       "    </tr>\n",
       "    <tr>\n",
       "      <th>1</th>\n",
       "      <td>United States</td>\n",
       "      <td>29167779</td>\n",
       "      <td>2024</td>\n",
       "      <td>27360935</td>\n",
       "      <td>2023</td>\n",
       "      <td>25744100</td>\n",
       "      <td>2022</td>\n",
       "    </tr>\n",
       "    <tr>\n",
       "      <th>2</th>\n",
       "      <td>China</td>\n",
       "      <td>18273357</td>\n",
       "      <td>[n 1]2024</td>\n",
       "      <td>17794782</td>\n",
       "      <td>[n 3]2023</td>\n",
       "      <td>17963170</td>\n",
       "      <td>[n 1]2022</td>\n",
       "    </tr>\n",
       "    <tr>\n",
       "      <th>3</th>\n",
       "      <td>Germany</td>\n",
       "      <td>4710032</td>\n",
       "      <td>2024</td>\n",
       "      <td>4456081</td>\n",
       "      <td>2023</td>\n",
       "      <td>4076923</td>\n",
       "      <td>2022</td>\n",
       "    </tr>\n",
       "    <tr>\n",
       "      <th>4</th>\n",
       "      <td>Japan</td>\n",
       "      <td>4070094</td>\n",
       "      <td>2024</td>\n",
       "      <td>4212945</td>\n",
       "      <td>2023</td>\n",
       "      <td>4232173</td>\n",
       "      <td>2022</td>\n",
       "    </tr>\n",
       "    <tr>\n",
       "      <th>...</th>\n",
       "      <td>...</td>\n",
       "      <td>...</td>\n",
       "      <td>...</td>\n",
       "      <td>...</td>\n",
       "      <td>...</td>\n",
       "      <td>...</td>\n",
       "      <td>...</td>\n",
       "    </tr>\n",
       "    <tr>\n",
       "      <th>205</th>\n",
       "      <td>Kiribati</td>\n",
       "      <td>311</td>\n",
       "      <td>2024</td>\n",
       "      <td>279</td>\n",
       "      <td>2023</td>\n",
       "      <td>223</td>\n",
       "      <td>2022</td>\n",
       "    </tr>\n",
       "    <tr>\n",
       "      <th>206</th>\n",
       "      <td>Palau</td>\n",
       "      <td>308</td>\n",
       "      <td>2024</td>\n",
       "      <td>263</td>\n",
       "      <td>2023</td>\n",
       "      <td>225</td>\n",
       "      <td>2022</td>\n",
       "    </tr>\n",
       "    <tr>\n",
       "      <th>207</th>\n",
       "      <td>Marshall Islands</td>\n",
       "      <td>305</td>\n",
       "      <td>2024</td>\n",
       "      <td>284</td>\n",
       "      <td>2023</td>\n",
       "      <td>279</td>\n",
       "      <td>2022</td>\n",
       "    </tr>\n",
       "    <tr>\n",
       "      <th>208</th>\n",
       "      <td>Nauru</td>\n",
       "      <td>161</td>\n",
       "      <td>2024</td>\n",
       "      <td>154</td>\n",
       "      <td>2023</td>\n",
       "      <td>147</td>\n",
       "      <td>2022</td>\n",
       "    </tr>\n",
       "    <tr>\n",
       "      <th>209</th>\n",
       "      <td>Tuvalu</td>\n",
       "      <td>66</td>\n",
       "      <td>2024</td>\n",
       "      <td>62</td>\n",
       "      <td>2023</td>\n",
       "      <td>59</td>\n",
       "      <td>2022</td>\n",
       "    </tr>\n",
       "  </tbody>\n",
       "</table>\n",
       "<p>210 rows × 7 columns</p>\n",
       "</div>"
      ],
      "text/plain": [
       "    Country/Territory   Forecast       Year   Estimate       Year   Estimate  \\\n",
       "0               World  110047109       2024  105435540       2023  100834796   \n",
       "1       United States   29167779       2024   27360935       2023   25744100   \n",
       "2               China   18273357  [n 1]2024   17794782  [n 3]2023   17963170   \n",
       "3             Germany    4710032       2024    4456081       2023    4076923   \n",
       "4               Japan    4070094       2024    4212945       2023    4232173   \n",
       "..                ...        ...        ...        ...        ...        ...   \n",
       "205          Kiribati        311       2024        279       2023        223   \n",
       "206             Palau        308       2024        263       2023        225   \n",
       "207  Marshall Islands        305       2024        284       2023        279   \n",
       "208             Nauru        161       2024        154       2023        147   \n",
       "209            Tuvalu         66       2024         62       2023         59   \n",
       "\n",
       "          Year  \n",
       "0         2022  \n",
       "1         2022  \n",
       "2    [n 1]2022  \n",
       "3         2022  \n",
       "4         2022  \n",
       "..         ...  \n",
       "205       2022  \n",
       "206       2022  \n",
       "207       2022  \n",
       "208       2022  \n",
       "209       2022  \n",
       "\n",
       "[210 rows x 7 columns]"
      ]
     },
     "execution_count": 326,
     "metadata": {},
     "output_type": "execute_result"
    }
   ],
   "source": [
    "c_data.columns=c_data.columns.droplevel()\n",
    "c_data"
   ]
  },
  {
   "cell_type": "code",
   "execution_count": 330,
   "id": "b573a138-a52a-40f4-80a6-5b43013e2630",
   "metadata": {},
   "outputs": [
    {
     "data": {
      "text/html": [
       "<div>\n",
       "<style scoped>\n",
       "    .dataframe tbody tr th:only-of-type {\n",
       "        vertical-align: middle;\n",
       "    }\n",
       "\n",
       "    .dataframe tbody tr th {\n",
       "        vertical-align: top;\n",
       "    }\n",
       "\n",
       "    .dataframe thead th {\n",
       "        text-align: right;\n",
       "    }\n",
       "</style>\n",
       "<table border=\"1\" class=\"dataframe\">\n",
       "  <thead>\n",
       "    <tr style=\"text-align: right;\">\n",
       "      <th></th>\n",
       "      <th>Country/Territory</th>\n",
       "      <th>Forecast</th>\n",
       "      <th>Year</th>\n",
       "      <th>Estimate</th>\n",
       "    </tr>\n",
       "  </thead>\n",
       "  <tbody>\n",
       "    <tr>\n",
       "      <th>0</th>\n",
       "      <td>World</td>\n",
       "      <td>110047109</td>\n",
       "      <td>2024</td>\n",
       "      <td>105435540</td>\n",
       "    </tr>\n",
       "    <tr>\n",
       "      <th>1</th>\n",
       "      <td>United States</td>\n",
       "      <td>29167779</td>\n",
       "      <td>2024</td>\n",
       "      <td>27360935</td>\n",
       "    </tr>\n",
       "    <tr>\n",
       "      <th>2</th>\n",
       "      <td>China</td>\n",
       "      <td>18273357</td>\n",
       "      <td>[n 1]2024</td>\n",
       "      <td>17794782</td>\n",
       "    </tr>\n",
       "    <tr>\n",
       "      <th>3</th>\n",
       "      <td>Germany</td>\n",
       "      <td>4710032</td>\n",
       "      <td>2024</td>\n",
       "      <td>4456081</td>\n",
       "    </tr>\n",
       "    <tr>\n",
       "      <th>4</th>\n",
       "      <td>Japan</td>\n",
       "      <td>4070094</td>\n",
       "      <td>2024</td>\n",
       "      <td>4212945</td>\n",
       "    </tr>\n",
       "    <tr>\n",
       "      <th>...</th>\n",
       "      <td>...</td>\n",
       "      <td>...</td>\n",
       "      <td>...</td>\n",
       "      <td>...</td>\n",
       "    </tr>\n",
       "    <tr>\n",
       "      <th>205</th>\n",
       "      <td>Kiribati</td>\n",
       "      <td>311</td>\n",
       "      <td>2024</td>\n",
       "      <td>279</td>\n",
       "    </tr>\n",
       "    <tr>\n",
       "      <th>206</th>\n",
       "      <td>Palau</td>\n",
       "      <td>308</td>\n",
       "      <td>2024</td>\n",
       "      <td>263</td>\n",
       "    </tr>\n",
       "    <tr>\n",
       "      <th>207</th>\n",
       "      <td>Marshall Islands</td>\n",
       "      <td>305</td>\n",
       "      <td>2024</td>\n",
       "      <td>284</td>\n",
       "    </tr>\n",
       "    <tr>\n",
       "      <th>208</th>\n",
       "      <td>Nauru</td>\n",
       "      <td>161</td>\n",
       "      <td>2024</td>\n",
       "      <td>154</td>\n",
       "    </tr>\n",
       "    <tr>\n",
       "      <th>209</th>\n",
       "      <td>Tuvalu</td>\n",
       "      <td>66</td>\n",
       "      <td>2024</td>\n",
       "      <td>62</td>\n",
       "    </tr>\n",
       "  </tbody>\n",
       "</table>\n",
       "<p>210 rows × 4 columns</p>\n",
       "</div>"
      ],
      "text/plain": [
       "    Country/Territory   Forecast       Year   Estimate\n",
       "0               World  110047109       2024  105435540\n",
       "1       United States   29167779       2024   27360935\n",
       "2               China   18273357  [n 1]2024   17794782\n",
       "3             Germany    4710032       2024    4456081\n",
       "4               Japan    4070094       2024    4212945\n",
       "..                ...        ...        ...        ...\n",
       "205          Kiribati        311       2024        279\n",
       "206             Palau        308       2024        263\n",
       "207  Marshall Islands        305       2024        284\n",
       "208             Nauru        161       2024        154\n",
       "209            Tuvalu         66       2024         62\n",
       "\n",
       "[210 rows x 4 columns]"
      ]
     },
     "execution_count": 330,
     "metadata": {},
     "output_type": "execute_result"
    }
   ],
   "source": [
    "c_data = c_data.loc[:, ~c_data.columns.duplicated()]\n",
    "c_data"
   ]
  },
  {
   "cell_type": "code",
   "execution_count": 332,
   "id": "d37e633a-3feb-4d60-863d-249e6178de5a",
   "metadata": {},
   "outputs": [
    {
     "data": {
      "text/html": [
       "<div>\n",
       "<style scoped>\n",
       "    .dataframe tbody tr th:only-of-type {\n",
       "        vertical-align: middle;\n",
       "    }\n",
       "\n",
       "    .dataframe tbody tr th {\n",
       "        vertical-align: top;\n",
       "    }\n",
       "\n",
       "    .dataframe thead th {\n",
       "        text-align: right;\n",
       "    }\n",
       "</style>\n",
       "<table border=\"1\" class=\"dataframe\">\n",
       "  <thead>\n",
       "    <tr style=\"text-align: right;\">\n",
       "      <th></th>\n",
       "      <th>Country/Territory</th>\n",
       "      <th>Forecast</th>\n",
       "      <th>Year</th>\n",
       "      <th>Estimate</th>\n",
       "    </tr>\n",
       "  </thead>\n",
       "  <tbody>\n",
       "    <tr>\n",
       "      <th>0</th>\n",
       "      <td>World</td>\n",
       "      <td>110047109</td>\n",
       "      <td>2024</td>\n",
       "      <td>105435540</td>\n",
       "    </tr>\n",
       "    <tr>\n",
       "      <th>1</th>\n",
       "      <td>United States</td>\n",
       "      <td>29167779</td>\n",
       "      <td>2024</td>\n",
       "      <td>27360935</td>\n",
       "    </tr>\n",
       "    <tr>\n",
       "      <th>2</th>\n",
       "      <td>China</td>\n",
       "      <td>18273357</td>\n",
       "      <td>[n 1]2024</td>\n",
       "      <td>17794782</td>\n",
       "    </tr>\n",
       "    <tr>\n",
       "      <th>3</th>\n",
       "      <td>Germany</td>\n",
       "      <td>4710032</td>\n",
       "      <td>2024</td>\n",
       "      <td>4456081</td>\n",
       "    </tr>\n",
       "    <tr>\n",
       "      <th>4</th>\n",
       "      <td>Japan</td>\n",
       "      <td>4070094</td>\n",
       "      <td>2024</td>\n",
       "      <td>4212945</td>\n",
       "    </tr>\n",
       "    <tr>\n",
       "      <th>...</th>\n",
       "      <td>...</td>\n",
       "      <td>...</td>\n",
       "      <td>...</td>\n",
       "      <td>...</td>\n",
       "    </tr>\n",
       "    <tr>\n",
       "      <th>205</th>\n",
       "      <td>Kiribati</td>\n",
       "      <td>311</td>\n",
       "      <td>2024</td>\n",
       "      <td>279</td>\n",
       "    </tr>\n",
       "    <tr>\n",
       "      <th>206</th>\n",
       "      <td>Palau</td>\n",
       "      <td>308</td>\n",
       "      <td>2024</td>\n",
       "      <td>263</td>\n",
       "    </tr>\n",
       "    <tr>\n",
       "      <th>207</th>\n",
       "      <td>Marshall Islands</td>\n",
       "      <td>305</td>\n",
       "      <td>2024</td>\n",
       "      <td>284</td>\n",
       "    </tr>\n",
       "    <tr>\n",
       "      <th>208</th>\n",
       "      <td>Nauru</td>\n",
       "      <td>161</td>\n",
       "      <td>2024</td>\n",
       "      <td>154</td>\n",
       "    </tr>\n",
       "    <tr>\n",
       "      <th>209</th>\n",
       "      <td>Tuvalu</td>\n",
       "      <td>66</td>\n",
       "      <td>2024</td>\n",
       "      <td>62</td>\n",
       "    </tr>\n",
       "  </tbody>\n",
       "</table>\n",
       "<p>210 rows × 4 columns</p>\n",
       "</div>"
      ],
      "text/plain": [
       "    Country/Territory   Forecast       Year   Estimate\n",
       "0               World  110047109       2024  105435540\n",
       "1       United States   29167779       2024   27360935\n",
       "2               China   18273357  [n 1]2024   17794782\n",
       "3             Germany    4710032       2024    4456081\n",
       "4               Japan    4070094       2024    4212945\n",
       "..                ...        ...        ...        ...\n",
       "205          Kiribati        311       2024        279\n",
       "206             Palau        308       2024        263\n",
       "207  Marshall Islands        305       2024        284\n",
       "208             Nauru        161       2024        154\n",
       "209            Tuvalu         66       2024         62\n",
       "\n",
       "[210 rows x 4 columns]"
      ]
     },
     "execution_count": 332,
     "metadata": {},
     "output_type": "execute_result"
    }
   ],
   "source": [
    "c_data=c_data[c_data['Estimate'].notna()]\n",
    "c_data"
   ]
  },
  {
   "cell_type": "code",
   "execution_count": 336,
   "id": "a560e9a8-7e0c-4518-b691-8338e1e99120",
   "metadata": {},
   "outputs": [
    {
     "data": {
      "text/html": [
       "<div>\n",
       "<style scoped>\n",
       "    .dataframe tbody tr th:only-of-type {\n",
       "        vertical-align: middle;\n",
       "    }\n",
       "\n",
       "    .dataframe tbody tr th {\n",
       "        vertical-align: top;\n",
       "    }\n",
       "\n",
       "    .dataframe thead th {\n",
       "        text-align: right;\n",
       "    }\n",
       "</style>\n",
       "<table border=\"1\" class=\"dataframe\">\n",
       "  <thead>\n",
       "    <tr style=\"text-align: right;\">\n",
       "      <th></th>\n",
       "      <th>Country/Territory</th>\n",
       "      <th>Forecast</th>\n",
       "      <th>Year</th>\n",
       "      <th>Estimate</th>\n",
       "    </tr>\n",
       "  </thead>\n",
       "  <tbody>\n",
       "    <tr>\n",
       "      <th>0</th>\n",
       "      <td>World</td>\n",
       "      <td>110047109</td>\n",
       "      <td>2024</td>\n",
       "      <td>105435540</td>\n",
       "    </tr>\n",
       "    <tr>\n",
       "      <th>1</th>\n",
       "      <td>United States</td>\n",
       "      <td>29167779</td>\n",
       "      <td>2024</td>\n",
       "      <td>27360935</td>\n",
       "    </tr>\n",
       "    <tr>\n",
       "      <th>2</th>\n",
       "      <td>China</td>\n",
       "      <td>18273357</td>\n",
       "      <td>2024</td>\n",
       "      <td>17794782</td>\n",
       "    </tr>\n",
       "    <tr>\n",
       "      <th>3</th>\n",
       "      <td>Germany</td>\n",
       "      <td>4710032</td>\n",
       "      <td>2024</td>\n",
       "      <td>4456081</td>\n",
       "    </tr>\n",
       "    <tr>\n",
       "      <th>4</th>\n",
       "      <td>Japan</td>\n",
       "      <td>4070094</td>\n",
       "      <td>2024</td>\n",
       "      <td>4212945</td>\n",
       "    </tr>\n",
       "    <tr>\n",
       "      <th>...</th>\n",
       "      <td>...</td>\n",
       "      <td>...</td>\n",
       "      <td>...</td>\n",
       "      <td>...</td>\n",
       "    </tr>\n",
       "    <tr>\n",
       "      <th>205</th>\n",
       "      <td>Kiribati</td>\n",
       "      <td>311</td>\n",
       "      <td>2024</td>\n",
       "      <td>279</td>\n",
       "    </tr>\n",
       "    <tr>\n",
       "      <th>206</th>\n",
       "      <td>Palau</td>\n",
       "      <td>308</td>\n",
       "      <td>2024</td>\n",
       "      <td>263</td>\n",
       "    </tr>\n",
       "    <tr>\n",
       "      <th>207</th>\n",
       "      <td>Marshall Islands</td>\n",
       "      <td>305</td>\n",
       "      <td>2024</td>\n",
       "      <td>284</td>\n",
       "    </tr>\n",
       "    <tr>\n",
       "      <th>208</th>\n",
       "      <td>Nauru</td>\n",
       "      <td>161</td>\n",
       "      <td>2024</td>\n",
       "      <td>154</td>\n",
       "    </tr>\n",
       "    <tr>\n",
       "      <th>209</th>\n",
       "      <td>Tuvalu</td>\n",
       "      <td>66</td>\n",
       "      <td>2024</td>\n",
       "      <td>62</td>\n",
       "    </tr>\n",
       "  </tbody>\n",
       "</table>\n",
       "<p>210 rows × 4 columns</p>\n",
       "</div>"
      ],
      "text/plain": [
       "    Country/Territory   Forecast  Year   Estimate\n",
       "0               World  110047109  2024  105435540\n",
       "1       United States   29167779  2024   27360935\n",
       "2               China   18273357  2024   17794782\n",
       "3             Germany    4710032  2024    4456081\n",
       "4               Japan    4070094  2024    4212945\n",
       "..                ...        ...   ...        ...\n",
       "205          Kiribati        311  2024        279\n",
       "206             Palau        308  2024        263\n",
       "207  Marshall Islands        305  2024        284\n",
       "208             Nauru        161  2024        154\n",
       "209            Tuvalu         66  2024         62\n",
       "\n",
       "[210 rows x 4 columns]"
      ]
     },
     "execution_count": 336,
     "metadata": {},
     "output_type": "execute_result"
    }
   ],
   "source": [
    "c_data.Year = c_data.Year.str.replace(r'\\[.*?\\]|\\(.*?\\)', '', regex=True).str.strip()\n",
    "c_data"
   ]
  },
  {
   "cell_type": "code",
   "execution_count": 340,
   "id": "eb8be7ef-3fd4-4889-918d-90b3322a2bf6",
   "metadata": {},
   "outputs": [
    {
     "data": {
      "text/html": [
       "<div>\n",
       "<style scoped>\n",
       "    .dataframe tbody tr th:only-of-type {\n",
       "        vertical-align: middle;\n",
       "    }\n",
       "\n",
       "    .dataframe tbody tr th {\n",
       "        vertical-align: top;\n",
       "    }\n",
       "\n",
       "    .dataframe thead th {\n",
       "        text-align: right;\n",
       "    }\n",
       "</style>\n",
       "<table border=\"1\" class=\"dataframe\">\n",
       "  <thead>\n",
       "    <tr style=\"text-align: right;\">\n",
       "      <th></th>\n",
       "      <th>Country</th>\n",
       "      <th>Forecast</th>\n",
       "      <th>Year</th>\n",
       "      <th>GDP</th>\n",
       "    </tr>\n",
       "  </thead>\n",
       "  <tbody>\n",
       "    <tr>\n",
       "      <th>0</th>\n",
       "      <td>World</td>\n",
       "      <td>110047109</td>\n",
       "      <td>2024</td>\n",
       "      <td>105435540</td>\n",
       "    </tr>\n",
       "    <tr>\n",
       "      <th>1</th>\n",
       "      <td>United States</td>\n",
       "      <td>29167779</td>\n",
       "      <td>2024</td>\n",
       "      <td>27360935</td>\n",
       "    </tr>\n",
       "    <tr>\n",
       "      <th>2</th>\n",
       "      <td>China</td>\n",
       "      <td>18273357</td>\n",
       "      <td>2024</td>\n",
       "      <td>17794782</td>\n",
       "    </tr>\n",
       "    <tr>\n",
       "      <th>3</th>\n",
       "      <td>Germany</td>\n",
       "      <td>4710032</td>\n",
       "      <td>2024</td>\n",
       "      <td>4456081</td>\n",
       "    </tr>\n",
       "    <tr>\n",
       "      <th>4</th>\n",
       "      <td>Japan</td>\n",
       "      <td>4070094</td>\n",
       "      <td>2024</td>\n",
       "      <td>4212945</td>\n",
       "    </tr>\n",
       "    <tr>\n",
       "      <th>...</th>\n",
       "      <td>...</td>\n",
       "      <td>...</td>\n",
       "      <td>...</td>\n",
       "      <td>...</td>\n",
       "    </tr>\n",
       "    <tr>\n",
       "      <th>205</th>\n",
       "      <td>Kiribati</td>\n",
       "      <td>311</td>\n",
       "      <td>2024</td>\n",
       "      <td>279</td>\n",
       "    </tr>\n",
       "    <tr>\n",
       "      <th>206</th>\n",
       "      <td>Palau</td>\n",
       "      <td>308</td>\n",
       "      <td>2024</td>\n",
       "      <td>263</td>\n",
       "    </tr>\n",
       "    <tr>\n",
       "      <th>207</th>\n",
       "      <td>Marshall Islands</td>\n",
       "      <td>305</td>\n",
       "      <td>2024</td>\n",
       "      <td>284</td>\n",
       "    </tr>\n",
       "    <tr>\n",
       "      <th>208</th>\n",
       "      <td>Nauru</td>\n",
       "      <td>161</td>\n",
       "      <td>2024</td>\n",
       "      <td>154</td>\n",
       "    </tr>\n",
       "    <tr>\n",
       "      <th>209</th>\n",
       "      <td>Tuvalu</td>\n",
       "      <td>66</td>\n",
       "      <td>2024</td>\n",
       "      <td>62</td>\n",
       "    </tr>\n",
       "  </tbody>\n",
       "</table>\n",
       "<p>210 rows × 4 columns</p>\n",
       "</div>"
      ],
      "text/plain": [
       "              Country   Forecast  Year        GDP\n",
       "0               World  110047109  2024  105435540\n",
       "1       United States   29167779  2024   27360935\n",
       "2               China   18273357  2024   17794782\n",
       "3             Germany    4710032  2024    4456081\n",
       "4               Japan    4070094  2024    4212945\n",
       "..                ...        ...   ...        ...\n",
       "205          Kiribati        311  2024        279\n",
       "206             Palau        308  2024        263\n",
       "207  Marshall Islands        305  2024        284\n",
       "208             Nauru        161  2024        154\n",
       "209            Tuvalu         66  2024         62\n",
       "\n",
       "[210 rows x 4 columns]"
      ]
     },
     "execution_count": 340,
     "metadata": {},
     "output_type": "execute_result"
    }
   ],
   "source": [
    "# Rename country column\n",
    "c_data.rename(columns={\"Country/Territory\": \"Country\", \"Estimate\": \"GDP\"}, \n",
    "              inplace=True)\n",
    "c_data"
   ]
  },
  {
   "cell_type": "markdown",
   "id": "1cf38af6-852e-47de-be0a-30fc70e26164",
   "metadata": {},
   "source": [
    "## Mess with More data"
   ]
  },
  {
   "cell_type": "code",
   "execution_count": 387,
   "id": "c2a6ce89-0827-4b2e-b4fd-72597312c787",
   "metadata": {},
   "outputs": [],
   "source": [
    "# Dictionary with ice cream sales data\n",
    "dict1 = {'Store': [1,2,1,2], 'Flavor': ['Choc', 'Van', 'Straw', 'Choc'], \n",
    "         'Sales': [26, 12, 18, 22]}\n",
    "\n",
    "# Convert to Dataframe\n",
    "ic_data = pd.DataFrame(dict1)\n",
    "ic_data['Store'] = pd.to_numeric(ic_data['Store'], errors='coerce')\n",
    "ic_data['Sales'] = pd.to_numeric(ic_data['Sales'], errors='coerce')\n",
    "# Group data by the store number\n",
    "by_store = ic_data.groupby('Store').mean(numeric_only=True)\n",
    "\n"
   ]
  },
  {
   "cell_type": "markdown",
   "id": "ca88f9d6-8469-43ab-acf8-697fca105dba",
   "metadata": {},
   "source": [
    "## Plotly"
   ]
  },
  {
   "cell_type": "code",
   "execution_count": 394,
   "id": "56567b28-2b9c-4f3e-a349-76bca2af58f1",
   "metadata": {},
   "outputs": [
    {
     "data": {
      "text/html": [
       "        <script type=\"text/javascript\">\n",
       "        window.PlotlyConfig = {MathJaxConfig: 'local'};\n",
       "        if (window.MathJax && window.MathJax.Hub && window.MathJax.Hub.Config) {window.MathJax.Hub.Config({SVG: {font: \"STIX-Web\"}});}\n",
       "        if (typeof require !== 'undefined') {\n",
       "        require.undef(\"plotly\");\n",
       "        requirejs.config({\n",
       "            paths: {\n",
       "                'plotly': ['https://cdn.plot.ly/plotly-2.32.0.min']\n",
       "            }\n",
       "        });\n",
       "        require(['plotly'], function(Plotly) {\n",
       "            window._Plotly = Plotly;\n",
       "        });\n",
       "        }\n",
       "        </script>\n",
       "        "
      ]
     },
     "metadata": {},
     "output_type": "display_data"
    }
   ],
   "source": [
    "\n",
    "import plotly.express as px\n",
    "import plotly.graph_objects as go\n",
    "\n",
    "# Make Plotly work in your Jupyter Notebook\n",
    "from plotly.offline import download_plotlyjs, init_notebook_mode, plot, iplot\n",
    "init_notebook_mode(connected=True)\n"
   ]
  },
  {
   "cell_type": "markdown",
   "id": "fe7f2702-26b5-46c1-9e46-63219238c69e",
   "metadata": {},
   "source": [
    "Line plot"
   ]
  },
  {
   "cell_type": "code",
   "execution_count": 402,
   "id": "a2d0d951-7e41-4d25-b6bf-9b8f725a3867",
   "metadata": {},
   "outputs": [
    {
     "data": {
      "application/vnd.plotly.v1+json": {
       "config": {
        "plotlyServerURL": "https://plot.ly"
       },
       "data": [
        {
         "hovertemplate": "variable=GOOG<br>date=%{x}<br>value=%{y}<extra></extra>",
         "legendgroup": "GOOG",
         "line": {
          "color": "#636efa",
          "dash": "solid"
         },
         "marker": {
          "symbol": "circle"
         },
         "mode": "lines",
         "name": "GOOG",
         "orientation": "v",
         "showlegend": true,
         "type": "scatter",
         "x": [
          "2018-01-01",
          "2018-01-08",
          "2018-01-15",
          "2018-01-22",
          "2018-01-29",
          "2018-02-05",
          "2018-02-12",
          "2018-02-19",
          "2018-02-26",
          "2018-03-05",
          "2018-03-12",
          "2018-03-19",
          "2018-03-26",
          "2018-04-02",
          "2018-04-09",
          "2018-04-16",
          "2018-04-23",
          "2018-04-30",
          "2018-05-07",
          "2018-05-14",
          "2018-05-21",
          "2018-05-28",
          "2018-06-04",
          "2018-06-11",
          "2018-06-18",
          "2018-06-25",
          "2018-07-02",
          "2018-07-09",
          "2018-07-16",
          "2018-07-23",
          "2018-07-30",
          "2018-08-06",
          "2018-08-13",
          "2018-08-20",
          "2018-08-27",
          "2018-09-03",
          "2018-09-10",
          "2018-09-17",
          "2018-09-24",
          "2018-10-01",
          "2018-10-08",
          "2018-10-15",
          "2018-10-22",
          "2018-10-29",
          "2018-11-05",
          "2018-11-12",
          "2018-11-19",
          "2018-11-26",
          "2018-12-03",
          "2018-12-10",
          "2018-12-17",
          "2018-12-24",
          "2018-12-31",
          "2019-01-07",
          "2019-01-14",
          "2019-01-21",
          "2019-01-28",
          "2019-02-04",
          "2019-02-11",
          "2019-02-18",
          "2019-02-25",
          "2019-03-04",
          "2019-03-11",
          "2019-03-18",
          "2019-03-25",
          "2019-04-01",
          "2019-04-08",
          "2019-04-15",
          "2019-04-22",
          "2019-04-29",
          "2019-05-06",
          "2019-05-13",
          "2019-05-20",
          "2019-05-27",
          "2019-06-03",
          "2019-06-10",
          "2019-06-17",
          "2019-06-24",
          "2019-07-01",
          "2019-07-08",
          "2019-07-15",
          "2019-07-22",
          "2019-07-29",
          "2019-08-05",
          "2019-08-12",
          "2019-08-19",
          "2019-08-26",
          "2019-09-02",
          "2019-09-09",
          "2019-09-16",
          "2019-09-23",
          "2019-09-30",
          "2019-10-07",
          "2019-10-14",
          "2019-10-21",
          "2019-10-28",
          "2019-11-04",
          "2019-11-11",
          "2019-11-18",
          "2019-11-25",
          "2019-12-02",
          "2019-12-09",
          "2019-12-16",
          "2019-12-23",
          "2019-12-30"
         ],
         "xaxis": "x",
         "y": [
          1,
          1.018172278347936,
          1.032007866452698,
          1.066782783389724,
          1.0087731636550117,
          0.9415276737437316,
          0.99325918262539,
          1.0222821547641083,
          0.9788520214265992,
          1.0524482730908842,
          1.0303929312465263,
          0.926821104067592,
          0.9360932452590338,
          0.913638710861412,
          0.93380695379017,
          0.9734447261178653,
          0.9345146364100892,
          0.9509902470625956,
          0.9963982380519172,
          0.9674568868105002,
          0.9758943718805396,
          1.015668254641377,
          1.0169111849053498,
          1.0453898287179595,
          1.0483111519067918,
          1.0121753574512644,
          1.0344211867653972,
          1.0785588920381208,
          1.075011617811375,
          1.1236312044424703,
          1.1102129167272332,
          1.1228237368393843,
          1.0895729410299655,
          1.1074367837463466,
          1.1052048693141154,
          1.0567939333314087,
          1.0637798374890872,
          1.0579370795194665,
          1.0827776350267664,
          1.0500077089175164,
          1.007121903906116,
          0.9947651405743836,
          0.9720929301886708,
          0.959681788913054,
          0.9672663993407256,
          0.9630385756700248,
          0.9289168536315806,
          0.992923504040418,
          0.9404389054995582,
          0.945446952912676,
          0.8886892896888904,
          0.9408925313390586,
          0.9714034098401132,
          0.9591373489949891,
          0.9963982380519172,
          0.989802500200548,
          1.0077298024501202,
          0.9934950771344468,
          1.0103608540932627,
          1.0073850422758417,
          1.035165084150587,
          1.0363716889645844,
          1.0746032883264525,
          1.0936918990354445,
          1.064487521016258,
          1.095188886079836,
          1.1049145977684258,
          1.1216987538299403,
          1.1541874899828073,
          1.075456162061569,
          1.0562859304552756,
          1.0544986709579427,
          1.0283425342867192,
          1.001270175031893,
          0.9671666152648106,
          0.98468558802946,
          1.0178275181736574,
          0.980657443195294,
          1.0266368965939394,
          1.0387124690620373,
          1.025285100664745,
          1.1344366027859267,
          1.0832494231376286,
          1.0778240762422375,
          1.068379555417282,
          1.0445098208996275,
          1.0779056980467905,
          1.0931748145700046,
          1.12459294475006,
          1.115856106545024,
          1.1114649285805127,
          1.0968672799119472,
          1.10271900878617,
          1.129972884606169,
          1.1477913211905195,
          1.155602744537941,
          1.189742629754999,
          1.2110630442115171,
          1.1751993590303178,
          1.183927115646047,
          1.216279741365772,
          1.222820990588552,
          1.22441776261611,
          1.2265044859331442,
          1.213013658002661
         ],
         "yaxis": "y"
        },
        {
         "hovertemplate": "variable=AAPL<br>date=%{x}<br>value=%{y}<extra></extra>",
         "legendgroup": "AAPL",
         "line": {
          "color": "#EF553B",
          "dash": "solid"
         },
         "marker": {
          "symbol": "circle"
         },
         "mode": "lines",
         "name": "AAPL",
         "orientation": "v",
         "showlegend": true,
         "type": "scatter",
         "x": [
          "2018-01-01",
          "2018-01-08",
          "2018-01-15",
          "2018-01-22",
          "2018-01-29",
          "2018-02-05",
          "2018-02-12",
          "2018-02-19",
          "2018-02-26",
          "2018-03-05",
          "2018-03-12",
          "2018-03-19",
          "2018-03-26",
          "2018-04-02",
          "2018-04-09",
          "2018-04-16",
          "2018-04-23",
          "2018-04-30",
          "2018-05-07",
          "2018-05-14",
          "2018-05-21",
          "2018-05-28",
          "2018-06-04",
          "2018-06-11",
          "2018-06-18",
          "2018-06-25",
          "2018-07-02",
          "2018-07-09",
          "2018-07-16",
          "2018-07-23",
          "2018-07-30",
          "2018-08-06",
          "2018-08-13",
          "2018-08-20",
          "2018-08-27",
          "2018-09-03",
          "2018-09-10",
          "2018-09-17",
          "2018-09-24",
          "2018-10-01",
          "2018-10-08",
          "2018-10-15",
          "2018-10-22",
          "2018-10-29",
          "2018-11-05",
          "2018-11-12",
          "2018-11-19",
          "2018-11-26",
          "2018-12-03",
          "2018-12-10",
          "2018-12-17",
          "2018-12-24",
          "2018-12-31",
          "2019-01-07",
          "2019-01-14",
          "2019-01-21",
          "2019-01-28",
          "2019-02-04",
          "2019-02-11",
          "2019-02-18",
          "2019-02-25",
          "2019-03-04",
          "2019-03-11",
          "2019-03-18",
          "2019-03-25",
          "2019-04-01",
          "2019-04-08",
          "2019-04-15",
          "2019-04-22",
          "2019-04-29",
          "2019-05-06",
          "2019-05-13",
          "2019-05-20",
          "2019-05-27",
          "2019-06-03",
          "2019-06-10",
          "2019-06-17",
          "2019-06-24",
          "2019-07-01",
          "2019-07-08",
          "2019-07-15",
          "2019-07-22",
          "2019-07-29",
          "2019-08-05",
          "2019-08-12",
          "2019-08-19",
          "2019-08-26",
          "2019-09-02",
          "2019-09-09",
          "2019-09-16",
          "2019-09-23",
          "2019-09-30",
          "2019-10-07",
          "2019-10-14",
          "2019-10-21",
          "2019-10-28",
          "2019-11-04",
          "2019-11-11",
          "2019-11-18",
          "2019-11-25",
          "2019-12-02",
          "2019-12-09",
          "2019-12-16",
          "2019-12-23",
          "2019-12-30"
         ],
         "xaxis": "x",
         "y": [
          1,
          1.0119428342857142,
          1.0197714685714288,
          0.9800571142857144,
          0.9171428571428571,
          0.8937714514285715,
          0.9853142457142856,
          1.002857142857143,
          1.006914325714286,
          1.02845712,
          1.0172571657142857,
          0.9425142971428572,
          0.9587428514285714,
          0.9621714571428572,
          0.99845712,
          0.9469714342857144,
          0.9275428971428572,
          1.0504571542857144,
          1.07765712,
          1.06462856,
          1.0776000114285715,
          1.0870857428571428,
          1.0954285542857145,
          1.0790856914285714,
          1.0566857028571428,
          1.0577714342857143,
          1.0741142914285715,
          1.093314297142857,
          1.0939428685714283,
          1.0913142628571428,
          1.1885143142857142,
          1.1858857085714285,
          1.2433142971428572,
          1.235200022857143,
          1.3007428857142855,
          1.2645714457142856,
          1.279085691428571,
          1.2437714514285716,
          1.2899428857142856,
          1.2816571028571428,
          1.2692000057142856,
          1.253199988571429,
          1.236000017142857,
          1.1855999771428571,
          1.1684000057142856,
          1.1058857085714286,
          0.9845142457142856,
          1.0204571542857144,
          0.9628000285714284,
          0.9455999771428572,
          0.8613142628571429,
          0.8927428342857143,
          0.8471999714285714,
          0.8702285314285714,
          0.8961143257142857,
          0.9014856857142858,
          0.95154288,
          0.9737714514285716,
          0.97382856,
          0.9884000057142855,
          0.9998285771428572,
          0.9880571657142858,
          1.0635428285714286,
          1.0917143028571428,
          1.0854285542857145,
          1.1257142857142857,
          1.1363999714285713,
          1.1649142914285715,
          1.1674285885714286,
          1.21,
          1.126742817142857,
          1.08,
          1.02268572,
          1.00040004,
          1.0865713942857145,
          1.1013714571428572,
          1.135885708571429,
          1.130971417142857,
          1.167028548571429,
          1.1617143028571428,
          1.15765712,
          1.1870857428571429,
          1.1658285942857145,
          1.1485143142857142,
          1.18,
          1.1579428514285717,
          1.1928000285714286,
          1.218628542857143,
          1.25,
          1.2441714057142856,
          1.25040004,
          1.2971999714285716,
          1.3497714685714286,
          1.3509143085714286,
          1.409028582857143,
          1.4618286114285712,
          1.4865143714285716,
          1.5186286285714288,
          1.4958857085714288,
          1.5271428571428571,
          1.5469142342857145,
          1.57228568,
          1.5968000114285714,
          1.6559999314285714,
          1.6779999657142857
         ],
         "yaxis": "y"
        }
       ],
       "layout": {
        "autosize": true,
        "legend": {
         "title": {
          "text": "variable"
         },
         "tracegroupgap": 0
        },
        "template": {
         "data": {
          "bar": [
           {
            "error_x": {
             "color": "#2a3f5f"
            },
            "error_y": {
             "color": "#2a3f5f"
            },
            "marker": {
             "line": {
              "color": "#E5ECF6",
              "width": 0.5
             },
             "pattern": {
              "fillmode": "overlay",
              "size": 10,
              "solidity": 0.2
             }
            },
            "type": "bar"
           }
          ],
          "barpolar": [
           {
            "marker": {
             "line": {
              "color": "#E5ECF6",
              "width": 0.5
             },
             "pattern": {
              "fillmode": "overlay",
              "size": 10,
              "solidity": 0.2
             }
            },
            "type": "barpolar"
           }
          ],
          "carpet": [
           {
            "aaxis": {
             "endlinecolor": "#2a3f5f",
             "gridcolor": "white",
             "linecolor": "white",
             "minorgridcolor": "white",
             "startlinecolor": "#2a3f5f"
            },
            "baxis": {
             "endlinecolor": "#2a3f5f",
             "gridcolor": "white",
             "linecolor": "white",
             "minorgridcolor": "white",
             "startlinecolor": "#2a3f5f"
            },
            "type": "carpet"
           }
          ],
          "choropleth": [
           {
            "colorbar": {
             "outlinewidth": 0,
             "ticks": ""
            },
            "type": "choropleth"
           }
          ],
          "contour": [
           {
            "colorbar": {
             "outlinewidth": 0,
             "ticks": ""
            },
            "colorscale": [
             [
              0,
              "#0d0887"
             ],
             [
              0.1111111111111111,
              "#46039f"
             ],
             [
              0.2222222222222222,
              "#7201a8"
             ],
             [
              0.3333333333333333,
              "#9c179e"
             ],
             [
              0.4444444444444444,
              "#bd3786"
             ],
             [
              0.5555555555555556,
              "#d8576b"
             ],
             [
              0.6666666666666666,
              "#ed7953"
             ],
             [
              0.7777777777777778,
              "#fb9f3a"
             ],
             [
              0.8888888888888888,
              "#fdca26"
             ],
             [
              1,
              "#f0f921"
             ]
            ],
            "type": "contour"
           }
          ],
          "contourcarpet": [
           {
            "colorbar": {
             "outlinewidth": 0,
             "ticks": ""
            },
            "type": "contourcarpet"
           }
          ],
          "heatmap": [
           {
            "colorbar": {
             "outlinewidth": 0,
             "ticks": ""
            },
            "colorscale": [
             [
              0,
              "#0d0887"
             ],
             [
              0.1111111111111111,
              "#46039f"
             ],
             [
              0.2222222222222222,
              "#7201a8"
             ],
             [
              0.3333333333333333,
              "#9c179e"
             ],
             [
              0.4444444444444444,
              "#bd3786"
             ],
             [
              0.5555555555555556,
              "#d8576b"
             ],
             [
              0.6666666666666666,
              "#ed7953"
             ],
             [
              0.7777777777777778,
              "#fb9f3a"
             ],
             [
              0.8888888888888888,
              "#fdca26"
             ],
             [
              1,
              "#f0f921"
             ]
            ],
            "type": "heatmap"
           }
          ],
          "heatmapgl": [
           {
            "colorbar": {
             "outlinewidth": 0,
             "ticks": ""
            },
            "colorscale": [
             [
              0,
              "#0d0887"
             ],
             [
              0.1111111111111111,
              "#46039f"
             ],
             [
              0.2222222222222222,
              "#7201a8"
             ],
             [
              0.3333333333333333,
              "#9c179e"
             ],
             [
              0.4444444444444444,
              "#bd3786"
             ],
             [
              0.5555555555555556,
              "#d8576b"
             ],
             [
              0.6666666666666666,
              "#ed7953"
             ],
             [
              0.7777777777777778,
              "#fb9f3a"
             ],
             [
              0.8888888888888888,
              "#fdca26"
             ],
             [
              1,
              "#f0f921"
             ]
            ],
            "type": "heatmapgl"
           }
          ],
          "histogram": [
           {
            "marker": {
             "pattern": {
              "fillmode": "overlay",
              "size": 10,
              "solidity": 0.2
             }
            },
            "type": "histogram"
           }
          ],
          "histogram2d": [
           {
            "colorbar": {
             "outlinewidth": 0,
             "ticks": ""
            },
            "colorscale": [
             [
              0,
              "#0d0887"
             ],
             [
              0.1111111111111111,
              "#46039f"
             ],
             [
              0.2222222222222222,
              "#7201a8"
             ],
             [
              0.3333333333333333,
              "#9c179e"
             ],
             [
              0.4444444444444444,
              "#bd3786"
             ],
             [
              0.5555555555555556,
              "#d8576b"
             ],
             [
              0.6666666666666666,
              "#ed7953"
             ],
             [
              0.7777777777777778,
              "#fb9f3a"
             ],
             [
              0.8888888888888888,
              "#fdca26"
             ],
             [
              1,
              "#f0f921"
             ]
            ],
            "type": "histogram2d"
           }
          ],
          "histogram2dcontour": [
           {
            "colorbar": {
             "outlinewidth": 0,
             "ticks": ""
            },
            "colorscale": [
             [
              0,
              "#0d0887"
             ],
             [
              0.1111111111111111,
              "#46039f"
             ],
             [
              0.2222222222222222,
              "#7201a8"
             ],
             [
              0.3333333333333333,
              "#9c179e"
             ],
             [
              0.4444444444444444,
              "#bd3786"
             ],
             [
              0.5555555555555556,
              "#d8576b"
             ],
             [
              0.6666666666666666,
              "#ed7953"
             ],
             [
              0.7777777777777778,
              "#fb9f3a"
             ],
             [
              0.8888888888888888,
              "#fdca26"
             ],
             [
              1,
              "#f0f921"
             ]
            ],
            "type": "histogram2dcontour"
           }
          ],
          "mesh3d": [
           {
            "colorbar": {
             "outlinewidth": 0,
             "ticks": ""
            },
            "type": "mesh3d"
           }
          ],
          "parcoords": [
           {
            "line": {
             "colorbar": {
              "outlinewidth": 0,
              "ticks": ""
             }
            },
            "type": "parcoords"
           }
          ],
          "pie": [
           {
            "automargin": true,
            "type": "pie"
           }
          ],
          "scatter": [
           {
            "fillpattern": {
             "fillmode": "overlay",
             "size": 10,
             "solidity": 0.2
            },
            "type": "scatter"
           }
          ],
          "scatter3d": [
           {
            "line": {
             "colorbar": {
              "outlinewidth": 0,
              "ticks": ""
             }
            },
            "marker": {
             "colorbar": {
              "outlinewidth": 0,
              "ticks": ""
             }
            },
            "type": "scatter3d"
           }
          ],
          "scattercarpet": [
           {
            "marker": {
             "colorbar": {
              "outlinewidth": 0,
              "ticks": ""
             }
            },
            "type": "scattercarpet"
           }
          ],
          "scattergeo": [
           {
            "marker": {
             "colorbar": {
              "outlinewidth": 0,
              "ticks": ""
             }
            },
            "type": "scattergeo"
           }
          ],
          "scattergl": [
           {
            "marker": {
             "colorbar": {
              "outlinewidth": 0,
              "ticks": ""
             }
            },
            "type": "scattergl"
           }
          ],
          "scattermapbox": [
           {
            "marker": {
             "colorbar": {
              "outlinewidth": 0,
              "ticks": ""
             }
            },
            "type": "scattermapbox"
           }
          ],
          "scatterpolar": [
           {
            "marker": {
             "colorbar": {
              "outlinewidth": 0,
              "ticks": ""
             }
            },
            "type": "scatterpolar"
           }
          ],
          "scatterpolargl": [
           {
            "marker": {
             "colorbar": {
              "outlinewidth": 0,
              "ticks": ""
             }
            },
            "type": "scatterpolargl"
           }
          ],
          "scatterternary": [
           {
            "marker": {
             "colorbar": {
              "outlinewidth": 0,
              "ticks": ""
             }
            },
            "type": "scatterternary"
           }
          ],
          "surface": [
           {
            "colorbar": {
             "outlinewidth": 0,
             "ticks": ""
            },
            "colorscale": [
             [
              0,
              "#0d0887"
             ],
             [
              0.1111111111111111,
              "#46039f"
             ],
             [
              0.2222222222222222,
              "#7201a8"
             ],
             [
              0.3333333333333333,
              "#9c179e"
             ],
             [
              0.4444444444444444,
              "#bd3786"
             ],
             [
              0.5555555555555556,
              "#d8576b"
             ],
             [
              0.6666666666666666,
              "#ed7953"
             ],
             [
              0.7777777777777778,
              "#fb9f3a"
             ],
             [
              0.8888888888888888,
              "#fdca26"
             ],
             [
              1,
              "#f0f921"
             ]
            ],
            "type": "surface"
           }
          ],
          "table": [
           {
            "cells": {
             "fill": {
              "color": "#EBF0F8"
             },
             "line": {
              "color": "white"
             }
            },
            "header": {
             "fill": {
              "color": "#C8D4E3"
             },
             "line": {
              "color": "white"
             }
            },
            "type": "table"
           }
          ]
         },
         "layout": {
          "annotationdefaults": {
           "arrowcolor": "#2a3f5f",
           "arrowhead": 0,
           "arrowwidth": 1
          },
          "autotypenumbers": "strict",
          "coloraxis": {
           "colorbar": {
            "outlinewidth": 0,
            "ticks": ""
           }
          },
          "colorscale": {
           "diverging": [
            [
             0,
             "#8e0152"
            ],
            [
             0.1,
             "#c51b7d"
            ],
            [
             0.2,
             "#de77ae"
            ],
            [
             0.3,
             "#f1b6da"
            ],
            [
             0.4,
             "#fde0ef"
            ],
            [
             0.5,
             "#f7f7f7"
            ],
            [
             0.6,
             "#e6f5d0"
            ],
            [
             0.7,
             "#b8e186"
            ],
            [
             0.8,
             "#7fbc41"
            ],
            [
             0.9,
             "#4d9221"
            ],
            [
             1,
             "#276419"
            ]
           ],
           "sequential": [
            [
             0,
             "#0d0887"
            ],
            [
             0.1111111111111111,
             "#46039f"
            ],
            [
             0.2222222222222222,
             "#7201a8"
            ],
            [
             0.3333333333333333,
             "#9c179e"
            ],
            [
             0.4444444444444444,
             "#bd3786"
            ],
            [
             0.5555555555555556,
             "#d8576b"
            ],
            [
             0.6666666666666666,
             "#ed7953"
            ],
            [
             0.7777777777777778,
             "#fb9f3a"
            ],
            [
             0.8888888888888888,
             "#fdca26"
            ],
            [
             1,
             "#f0f921"
            ]
           ],
           "sequentialminus": [
            [
             0,
             "#0d0887"
            ],
            [
             0.1111111111111111,
             "#46039f"
            ],
            [
             0.2222222222222222,
             "#7201a8"
            ],
            [
             0.3333333333333333,
             "#9c179e"
            ],
            [
             0.4444444444444444,
             "#bd3786"
            ],
            [
             0.5555555555555556,
             "#d8576b"
            ],
            [
             0.6666666666666666,
             "#ed7953"
            ],
            [
             0.7777777777777778,
             "#fb9f3a"
            ],
            [
             0.8888888888888888,
             "#fdca26"
            ],
            [
             1,
             "#f0f921"
            ]
           ]
          },
          "colorway": [
           "#636efa",
           "#EF553B",
           "#00cc96",
           "#ab63fa",
           "#FFA15A",
           "#19d3f3",
           "#FF6692",
           "#B6E880",
           "#FF97FF",
           "#FECB52"
          ],
          "font": {
           "color": "#2a3f5f"
          },
          "geo": {
           "bgcolor": "white",
           "lakecolor": "white",
           "landcolor": "#E5ECF6",
           "showlakes": true,
           "showland": true,
           "subunitcolor": "white"
          },
          "hoverlabel": {
           "align": "left"
          },
          "hovermode": "closest",
          "mapbox": {
           "style": "light"
          },
          "paper_bgcolor": "white",
          "plot_bgcolor": "#E5ECF6",
          "polar": {
           "angularaxis": {
            "gridcolor": "white",
            "linecolor": "white",
            "ticks": ""
           },
           "bgcolor": "#E5ECF6",
           "radialaxis": {
            "gridcolor": "white",
            "linecolor": "white",
            "ticks": ""
           }
          },
          "scene": {
           "xaxis": {
            "backgroundcolor": "#E5ECF6",
            "gridcolor": "white",
            "gridwidth": 2,
            "linecolor": "white",
            "showbackground": true,
            "ticks": "",
            "zerolinecolor": "white"
           },
           "yaxis": {
            "backgroundcolor": "#E5ECF6",
            "gridcolor": "white",
            "gridwidth": 2,
            "linecolor": "white",
            "showbackground": true,
            "ticks": "",
            "zerolinecolor": "white"
           },
           "zaxis": {
            "backgroundcolor": "#E5ECF6",
            "gridcolor": "white",
            "gridwidth": 2,
            "linecolor": "white",
            "showbackground": true,
            "ticks": "",
            "zerolinecolor": "white"
           }
          },
          "shapedefaults": {
           "line": {
            "color": "#2a3f5f"
           }
          },
          "ternary": {
           "aaxis": {
            "gridcolor": "white",
            "linecolor": "white",
            "ticks": ""
           },
           "baxis": {
            "gridcolor": "white",
            "linecolor": "white",
            "ticks": ""
           },
           "bgcolor": "#E5ECF6",
           "caxis": {
            "gridcolor": "white",
            "linecolor": "white",
            "ticks": ""
           }
          },
          "title": {
           "x": 0.05
          },
          "xaxis": {
           "automargin": true,
           "gridcolor": "white",
           "linecolor": "white",
           "ticks": "",
           "title": {
            "standoff": 15
           },
           "zerolinecolor": "white",
           "zerolinewidth": 2
          },
          "yaxis": {
           "automargin": true,
           "gridcolor": "white",
           "linecolor": "white",
           "ticks": "",
           "title": {
            "standoff": 15
           },
           "zerolinecolor": "white",
           "zerolinewidth": 2
          }
         }
        },
        "title": {
         "text": "Apple vs Google"
        },
        "xaxis": {
         "anchor": "y",
         "autorange": true,
         "domain": [
          0,
          1
         ],
         "range": [
          "2018-01-01",
          "2019-12-30"
         ],
         "title": {
          "text": "date"
         },
         "type": "date"
        },
        "yaxis": {
         "anchor": "x",
         "autorange": true,
         "domain": [
          0,
          1
         ],
         "range": [
          0.8010444161904762,
          1.724155520952381
         ],
         "title": {
          "text": "value"
         },
         "type": "linear"
        }
       }
      },
      "image/png": "[encoded data removed]",
      "text/html": [
       "<div>                            <div id=\"651ff95f-a567-4e14-996c-aa4f05842e7b\" class=\"plotly-graph-div\" style=\"height:525px; width:100%;\"></div>            <script type=\"text/javascript\">                require([\"plotly\"], function(Plotly) {                    window.PLOTLYENV=window.PLOTLYENV || {};                                    if (document.getElementById(\"651ff95f-a567-4e14-996c-aa4f05842e7b\")) {                    Plotly.newPlot(                        \"651ff95f-a567-4e14-996c-aa4f05842e7b\",                        [{\"hovertemplate\":\"variable=GOOG\\u003cbr\\u003edate=%{x}\\u003cbr\\u003evalue=%{y}\\u003cextra\\u003e\\u003c\\u002fextra\\u003e\",\"legendgroup\":\"GOOG\",\"line\":{\"color\":\"#636efa\",\"dash\":\"solid\"},\"marker\":{\"symbol\":\"circle\"},\"mode\":\"lines\",\"name\":\"GOOG\",\"orientation\":\"v\",\"showlegend\":true,\"x\":[\"2018-01-01\",\"2018-01-08\",\"2018-01-15\",\"2018-01-22\",\"2018-01-29\",\"2018-02-05\",\"2018-02-12\",\"2018-02-19\",\"2018-02-26\",\"2018-03-05\",\"2018-03-12\",\"2018-03-19\",\"2018-03-26\",\"2018-04-02\",\"2018-04-09\",\"2018-04-16\",\"2018-04-23\",\"2018-04-30\",\"2018-05-07\",\"2018-05-14\",\"2018-05-21\",\"2018-05-28\",\"2018-06-04\",\"2018-06-11\",\"2018-06-18\",\"2018-06-25\",\"2018-07-02\",\"2018-07-09\",\"2018-07-16\",\"2018-07-23\",\"2018-07-30\",\"2018-08-06\",\"2018-08-13\",\"2018-08-20\",\"2018-08-27\",\"2018-09-03\",\"2018-09-10\",\"2018-09-17\",\"2018-09-24\",\"2018-10-01\",\"2018-10-08\",\"2018-10-15\",\"2018-10-22\",\"2018-10-29\",\"2018-11-05\",\"2018-11-12\",\"2018-11-19\",\"2018-11-26\",\"2018-12-03\",\"2018-12-10\",\"2018-12-17\",\"2018-12-24\",\"2018-12-31\",\"2019-01-07\",\"2019-01-14\",\"2019-01-21\",\"2019-01-28\",\"2019-02-04\",\"2019-02-11\",\"2019-02-18\",\"2019-02-25\",\"2019-03-04\",\"2019-03-11\",\"2019-03-18\",\"2019-03-25\",\"2019-04-01\",\"2019-04-08\",\"2019-04-15\",\"2019-04-22\",\"2019-04-29\",\"2019-05-06\",\"2019-05-13\",\"2019-05-20\",\"2019-05-27\",\"2019-06-03\",\"2019-06-10\",\"2019-06-17\",\"2019-06-24\",\"2019-07-01\",\"2019-07-08\",\"2019-07-15\",\"2019-07-22\",\"2019-07-29\",\"2019-08-05\",\"2019-08-12\",\"2019-08-19\",\"2019-08-26\",\"2019-09-02\",\"2019-09-09\",\"2019-09-16\",\"2019-09-23\",\"2019-09-30\",\"2019-10-07\",\"2019-10-14\",\"2019-10-21\",\"2019-10-28\",\"2019-11-04\",\"2019-11-11\",\"2019-11-18\",\"2019-11-25\",\"2019-12-02\",\"2019-12-09\",\"2019-12-16\",\"2019-12-23\",\"2019-12-30\"],\"xaxis\":\"x\",\"y\":[1.0,1.018172278347936,1.032007866452698,1.066782783389724,1.0087731636550117,0.9415276737437316,0.99325918262539,1.0222821547641083,0.9788520214265992,1.0524482730908842,1.0303929312465263,0.926821104067592,0.9360932452590338,0.913638710861412,0.93380695379017,0.9734447261178653,0.9345146364100892,0.9509902470625956,0.9963982380519172,0.9674568868105002,0.9758943718805396,1.015668254641377,1.0169111849053498,1.0453898287179595,1.0483111519067918,1.0121753574512644,1.0344211867653972,1.0785588920381208,1.075011617811375,1.1236312044424703,1.1102129167272332,1.1228237368393843,1.0895729410299655,1.1074367837463466,1.1052048693141154,1.0567939333314087,1.0637798374890872,1.0579370795194665,1.0827776350267664,1.0500077089175164,1.007121903906116,0.9947651405743836,0.9720929301886708,0.959681788913054,0.9672663993407256,0.9630385756700248,0.9289168536315806,0.992923504040418,0.9404389054995582,0.945446952912676,0.8886892896888904,0.9408925313390586,0.9714034098401132,0.9591373489949891,0.9963982380519172,0.989802500200548,1.0077298024501202,0.9934950771344468,1.0103608540932627,1.0073850422758417,1.035165084150587,1.0363716889645844,1.0746032883264525,1.0936918990354445,1.064487521016258,1.095188886079836,1.1049145977684258,1.1216987538299403,1.1541874899828073,1.075456162061569,1.0562859304552756,1.0544986709579427,1.0283425342867192,1.001270175031893,0.9671666152648106,0.98468558802946,1.0178275181736574,0.980657443195294,1.0266368965939394,1.0387124690620373,1.025285100664745,1.1344366027859267,1.0832494231376286,1.0778240762422375,1.068379555417282,1.0445098208996275,1.0779056980467905,1.0931748145700046,1.12459294475006,1.115856106545024,1.1114649285805127,1.0968672799119472,1.10271900878617,1.129972884606169,1.1477913211905195,1.155602744537941,1.189742629754999,1.2110630442115171,1.1751993590303178,1.183927115646047,1.216279741365772,1.222820990588552,1.22441776261611,1.2265044859331442,1.213013658002661],\"yaxis\":\"y\",\"type\":\"scatter\"},{\"hovertemplate\":\"variable=AAPL\\u003cbr\\u003edate=%{x}\\u003cbr\\u003evalue=%{y}\\u003cextra\\u003e\\u003c\\u002fextra\\u003e\",\"legendgroup\":\"AAPL\",\"line\":{\"color\":\"#EF553B\",\"dash\":\"solid\"},\"marker\":{\"symbol\":\"circle\"},\"mode\":\"lines\",\"name\":\"AAPL\",\"orientation\":\"v\",\"showlegend\":true,\"x\":[\"2018-01-01\",\"2018-01-08\",\"2018-01-15\",\"2018-01-22\",\"2018-01-29\",\"2018-02-05\",\"2018-02-12\",\"2018-02-19\",\"2018-02-26\",\"2018-03-05\",\"2018-03-12\",\"2018-03-19\",\"2018-03-26\",\"2018-04-02\",\"2018-04-09\",\"2018-04-16\",\"2018-04-23\",\"2018-04-30\",\"2018-05-07\",\"2018-05-14\",\"2018-05-21\",\"2018-05-28\",\"2018-06-04\",\"2018-06-11\",\"2018-06-18\",\"2018-06-25\",\"2018-07-02\",\"2018-07-09\",\"2018-07-16\",\"2018-07-23\",\"2018-07-30\",\"2018-08-06\",\"2018-08-13\",\"2018-08-20\",\"2018-08-27\",\"2018-09-03\",\"2018-09-10\",\"2018-09-17\",\"2018-09-24\",\"2018-10-01\",\"2018-10-08\",\"2018-10-15\",\"2018-10-22\",\"2018-10-29\",\"2018-11-05\",\"2018-11-12\",\"2018-11-19\",\"2018-11-26\",\"2018-12-03\",\"2018-12-10\",\"2018-12-17\",\"2018-12-24\",\"2018-12-31\",\"2019-01-07\",\"2019-01-14\",\"2019-01-21\",\"2019-01-28\",\"2019-02-04\",\"2019-02-11\",\"2019-02-18\",\"2019-02-25\",\"2019-03-04\",\"2019-03-11\",\"2019-03-18\",\"2019-03-25\",\"2019-04-01\",\"2019-04-08\",\"2019-04-15\",\"2019-04-22\",\"2019-04-29\",\"2019-05-06\",\"2019-05-13\",\"2019-05-20\",\"2019-05-27\",\"2019-06-03\",\"2019-06-10\",\"2019-06-17\",\"2019-06-24\",\"2019-07-01\",\"2019-07-08\",\"2019-07-15\",\"2019-07-22\",\"2019-07-29\",\"2019-08-05\",\"2019-08-12\",\"2019-08-19\",\"2019-08-26\",\"2019-09-02\",\"2019-09-09\",\"2019-09-16\",\"2019-09-23\",\"2019-09-30\",\"2019-10-07\",\"2019-10-14\",\"2019-10-21\",\"2019-10-28\",\"2019-11-04\",\"2019-11-11\",\"2019-11-18\",\"2019-11-25\",\"2019-12-02\",\"2019-12-09\",\"2019-12-16\",\"2019-12-23\",\"2019-12-30\"],\"xaxis\":\"x\",\"y\":[1.0,1.0119428342857142,1.0197714685714288,0.9800571142857144,0.9171428571428571,0.8937714514285715,0.9853142457142856,1.002857142857143,1.006914325714286,1.02845712,1.0172571657142857,0.9425142971428572,0.9587428514285714,0.9621714571428572,0.99845712,0.9469714342857144,0.9275428971428572,1.0504571542857144,1.07765712,1.06462856,1.0776000114285715,1.0870857428571428,1.0954285542857145,1.0790856914285714,1.0566857028571428,1.0577714342857143,1.0741142914285715,1.093314297142857,1.0939428685714283,1.0913142628571428,1.1885143142857142,1.1858857085714285,1.2433142971428572,1.235200022857143,1.3007428857142855,1.2645714457142856,1.279085691428571,1.2437714514285716,1.2899428857142856,1.2816571028571428,1.2692000057142856,1.253199988571429,1.236000017142857,1.1855999771428571,1.1684000057142856,1.1058857085714286,0.9845142457142856,1.0204571542857144,0.9628000285714284,0.9455999771428572,0.8613142628571429,0.8927428342857143,0.8471999714285714,0.8702285314285714,0.8961143257142857,0.9014856857142858,0.95154288,0.9737714514285716,0.97382856,0.9884000057142855,0.9998285771428572,0.9880571657142858,1.0635428285714286,1.0917143028571428,1.0854285542857145,1.1257142857142857,1.1363999714285713,1.1649142914285715,1.1674285885714286,1.21,1.126742817142857,1.08,1.02268572,1.00040004,1.0865713942857145,1.1013714571428572,1.135885708571429,1.130971417142857,1.167028548571429,1.1617143028571428,1.15765712,1.1870857428571429,1.1658285942857145,1.1485143142857142,1.18,1.1579428514285717,1.1928000285714286,1.218628542857143,1.25,1.2441714057142856,1.25040004,1.2971999714285716,1.3497714685714286,1.3509143085714286,1.409028582857143,1.4618286114285712,1.4865143714285716,1.5186286285714288,1.4958857085714288,1.5271428571428571,1.5469142342857145,1.57228568,1.5968000114285714,1.6559999314285714,1.6779999657142857],\"yaxis\":\"y\",\"type\":\"scatter\"}],                        {\"template\":{\"data\":{\"histogram2dcontour\":[{\"type\":\"histogram2dcontour\",\"colorbar\":{\"outlinewidth\":0,\"ticks\":\"\"},\"colorscale\":[[0.0,\"#0d0887\"],[0.1111111111111111,\"#46039f\"],[0.2222222222222222,\"#7201a8\"],[0.3333333333333333,\"#9c179e\"],[0.4444444444444444,\"#bd3786\"],[0.5555555555555556,\"#d8576b\"],[0.6666666666666666,\"#ed7953\"],[0.7777777777777778,\"#fb9f3a\"],[0.8888888888888888,\"#fdca26\"],[1.0,\"#f0f921\"]]}],\"choropleth\":[{\"type\":\"choropleth\",\"colorbar\":{\"outlinewidth\":0,\"ticks\":\"\"}}],\"histogram2d\":[{\"type\":\"histogram2d\",\"colorbar\":{\"outlinewidth\":0,\"ticks\":\"\"},\"colorscale\":[[0.0,\"#0d0887\"],[0.1111111111111111,\"#46039f\"],[0.2222222222222222,\"#7201a8\"],[0.3333333333333333,\"#9c179e\"],[0.4444444444444444,\"#bd3786\"],[0.5555555555555556,\"#d8576b\"],[0.6666666666666666,\"#ed7953\"],[0.7777777777777778,\"#fb9f3a\"],[0.8888888888888888,\"#fdca26\"],[1.0,\"#f0f921\"]]}],\"heatmap\":[{\"type\":\"heatmap\",\"colorbar\":{\"outlinewidth\":0,\"ticks\":\"\"},\"colorscale\":[[0.0,\"#0d0887\"],[0.1111111111111111,\"#46039f\"],[0.2222222222222222,\"#7201a8\"],[0.3333333333333333,\"#9c179e\"],[0.4444444444444444,\"#bd3786\"],[0.5555555555555556,\"#d8576b\"],[0.6666666666666666,\"#ed7953\"],[0.7777777777777778,\"#fb9f3a\"],[0.8888888888888888,\"#fdca26\"],[1.0,\"#f0f921\"]]}],\"heatmapgl\":[{\"type\":\"heatmapgl\",\"colorbar\":{\"outlinewidth\":0,\"ticks\":\"\"},\"colorscale\":[[0.0,\"#0d0887\"],[0.1111111111111111,\"#46039f\"],[0.2222222222222222,\"#7201a8\"],[0.3333333333333333,\"#9c179e\"],[0.4444444444444444,\"#bd3786\"],[0.5555555555555556,\"#d8576b\"],[0.6666666666666666,\"#ed7953\"],[0.7777777777777778,\"#fb9f3a\"],[0.8888888888888888,\"#fdca26\"],[1.0,\"#f0f921\"]]}],\"contourcarpet\":[{\"type\":\"contourcarpet\",\"colorbar\":{\"outlinewidth\":0,\"ticks\":\"\"}}],\"contour\":[{\"type\":\"contour\",\"colorbar\":{\"outlinewidth\":0,\"ticks\":\"\"},\"colorscale\":[[0.0,\"#0d0887\"],[0.1111111111111111,\"#46039f\"],[0.2222222222222222,\"#7201a8\"],[0.3333333333333333,\"#9c179e\"],[0.4444444444444444,\"#bd3786\"],[0.5555555555555556,\"#d8576b\"],[0.6666666666666666,\"#ed7953\"],[0.7777777777777778,\"#fb9f3a\"],[0.8888888888888888,\"#fdca26\"],[1.0,\"#f0f921\"]]}],\"surface\":[{\"type\":\"surface\",\"colorbar\":{\"outlinewidth\":0,\"ticks\":\"\"},\"colorscale\":[[0.0,\"#0d0887\"],[0.1111111111111111,\"#46039f\"],[0.2222222222222222,\"#7201a8\"],[0.3333333333333333,\"#9c179e\"],[0.4444444444444444,\"#bd3786\"],[0.5555555555555556,\"#d8576b\"],[0.6666666666666666,\"#ed7953\"],[0.7777777777777778,\"#fb9f3a\"],[0.8888888888888888,\"#fdca26\"],[1.0,\"#f0f921\"]]}],\"mesh3d\":[{\"type\":\"mesh3d\",\"colorbar\":{\"outlinewidth\":0,\"ticks\":\"\"}}],\"scatter\":[{\"fillpattern\":{\"fillmode\":\"overlay\",\"size\":10,\"solidity\":0.2},\"type\":\"scatter\"}],\"parcoords\":[{\"type\":\"parcoords\",\"line\":{\"colorbar\":{\"outlinewidth\":0,\"ticks\":\"\"}}}],\"scatterpolargl\":[{\"type\":\"scatterpolargl\",\"marker\":{\"colorbar\":{\"outlinewidth\":0,\"ticks\":\"\"}}}],\"bar\":[{\"error_x\":{\"color\":\"#2a3f5f\"},\"error_y\":{\"color\":\"#2a3f5f\"},\"marker\":{\"line\":{\"color\":\"#E5ECF6\",\"width\":0.5},\"pattern\":{\"fillmode\":\"overlay\",\"size\":10,\"solidity\":0.2}},\"type\":\"bar\"}],\"scattergeo\":[{\"type\":\"scattergeo\",\"marker\":{\"colorbar\":{\"outlinewidth\":0,\"ticks\":\"\"}}}],\"scatterpolar\":[{\"type\":\"scatterpolar\",\"marker\":{\"colorbar\":{\"outlinewidth\":0,\"ticks\":\"\"}}}],\"histogram\":[{\"marker\":{\"pattern\":{\"fillmode\":\"overlay\",\"size\":10,\"solidity\":0.2}},\"type\":\"histogram\"}],\"scattergl\":[{\"type\":\"scattergl\",\"marker\":{\"colorbar\":{\"outlinewidth\":0,\"ticks\":\"\"}}}],\"scatter3d\":[{\"type\":\"scatter3d\",\"line\":{\"colorbar\":{\"outlinewidth\":0,\"ticks\":\"\"}},\"marker\":{\"colorbar\":{\"outlinewidth\":0,\"ticks\":\"\"}}}],\"scattermapbox\":[{\"type\":\"scattermapbox\",\"marker\":{\"colorbar\":{\"outlinewidth\":0,\"ticks\":\"\"}}}],\"scatterternary\":[{\"type\":\"scatterternary\",\"marker\":{\"colorbar\":{\"outlinewidth\":0,\"ticks\":\"\"}}}],\"scattercarpet\":[{\"type\":\"scattercarpet\",\"marker\":{\"colorbar\":{\"outlinewidth\":0,\"ticks\":\"\"}}}],\"carpet\":[{\"aaxis\":{\"endlinecolor\":\"#2a3f5f\",\"gridcolor\":\"white\",\"linecolor\":\"white\",\"minorgridcolor\":\"white\",\"startlinecolor\":\"#2a3f5f\"},\"baxis\":{\"endlinecolor\":\"#2a3f5f\",\"gridcolor\":\"white\",\"linecolor\":\"white\",\"minorgridcolor\":\"white\",\"startlinecolor\":\"#2a3f5f\"},\"type\":\"carpet\"}],\"table\":[{\"cells\":{\"fill\":{\"color\":\"#EBF0F8\"},\"line\":{\"color\":\"white\"}},\"header\":{\"fill\":{\"color\":\"#C8D4E3\"},\"line\":{\"color\":\"white\"}},\"type\":\"table\"}],\"barpolar\":[{\"marker\":{\"line\":{\"color\":\"#E5ECF6\",\"width\":0.5},\"pattern\":{\"fillmode\":\"overlay\",\"size\":10,\"solidity\":0.2}},\"type\":\"barpolar\"}],\"pie\":[{\"automargin\":true,\"type\":\"pie\"}]},\"layout\":{\"autotypenumbers\":\"strict\",\"colorway\":[\"#636efa\",\"#EF553B\",\"#00cc96\",\"#ab63fa\",\"#FFA15A\",\"#19d3f3\",\"#FF6692\",\"#B6E880\",\"#FF97FF\",\"#FECB52\"],\"font\":{\"color\":\"#2a3f5f\"},\"hovermode\":\"closest\",\"hoverlabel\":{\"align\":\"left\"},\"paper_bgcolor\":\"white\",\"plot_bgcolor\":\"#E5ECF6\",\"polar\":{\"bgcolor\":\"#E5ECF6\",\"angularaxis\":{\"gridcolor\":\"white\",\"linecolor\":\"white\",\"ticks\":\"\"},\"radialaxis\":{\"gridcolor\":\"white\",\"linecolor\":\"white\",\"ticks\":\"\"}},\"ternary\":{\"bgcolor\":\"#E5ECF6\",\"aaxis\":{\"gridcolor\":\"white\",\"linecolor\":\"white\",\"ticks\":\"\"},\"baxis\":{\"gridcolor\":\"white\",\"linecolor\":\"white\",\"ticks\":\"\"},\"caxis\":{\"gridcolor\":\"white\",\"linecolor\":\"white\",\"ticks\":\"\"}},\"coloraxis\":{\"colorbar\":{\"outlinewidth\":0,\"ticks\":\"\"}},\"colorscale\":{\"sequential\":[[0.0,\"#0d0887\"],[0.1111111111111111,\"#46039f\"],[0.2222222222222222,\"#7201a8\"],[0.3333333333333333,\"#9c179e\"],[0.4444444444444444,\"#bd3786\"],[0.5555555555555556,\"#d8576b\"],[0.6666666666666666,\"#ed7953\"],[0.7777777777777778,\"#fb9f3a\"],[0.8888888888888888,\"#fdca26\"],[1.0,\"#f0f921\"]],\"sequentialminus\":[[0.0,\"#0d0887\"],[0.1111111111111111,\"#46039f\"],[0.2222222222222222,\"#7201a8\"],[0.3333333333333333,\"#9c179e\"],[0.4444444444444444,\"#bd3786\"],[0.5555555555555556,\"#d8576b\"],[0.6666666666666666,\"#ed7953\"],[0.7777777777777778,\"#fb9f3a\"],[0.8888888888888888,\"#fdca26\"],[1.0,\"#f0f921\"]],\"diverging\":[[0,\"#8e0152\"],[0.1,\"#c51b7d\"],[0.2,\"#de77ae\"],[0.3,\"#f1b6da\"],[0.4,\"#fde0ef\"],[0.5,\"#f7f7f7\"],[0.6,\"#e6f5d0\"],[0.7,\"#b8e186\"],[0.8,\"#7fbc41\"],[0.9,\"#4d9221\"],[1,\"#276419\"]]},\"xaxis\":{\"gridcolor\":\"white\",\"linecolor\":\"white\",\"ticks\":\"\",\"title\":{\"standoff\":15},\"zerolinecolor\":\"white\",\"automargin\":true,\"zerolinewidth\":2},\"yaxis\":{\"gridcolor\":\"white\",\"linecolor\":\"white\",\"ticks\":\"\",\"title\":{\"standoff\":15},\"zerolinecolor\":\"white\",\"automargin\":true,\"zerolinewidth\":2},\"scene\":{\"xaxis\":{\"backgroundcolor\":\"#E5ECF6\",\"gridcolor\":\"white\",\"linecolor\":\"white\",\"showbackground\":true,\"ticks\":\"\",\"zerolinecolor\":\"white\",\"gridwidth\":2},\"yaxis\":{\"backgroundcolor\":\"#E5ECF6\",\"gridcolor\":\"white\",\"linecolor\":\"white\",\"showbackground\":true,\"ticks\":\"\",\"zerolinecolor\":\"white\",\"gridwidth\":2},\"zaxis\":{\"backgroundcolor\":\"#E5ECF6\",\"gridcolor\":\"white\",\"linecolor\":\"white\",\"showbackground\":true,\"ticks\":\"\",\"zerolinecolor\":\"white\",\"gridwidth\":2}},\"shapedefaults\":{\"line\":{\"color\":\"#2a3f5f\"}},\"annotationdefaults\":{\"arrowcolor\":\"#2a3f5f\",\"arrowhead\":0,\"arrowwidth\":1},\"geo\":{\"bgcolor\":\"white\",\"landcolor\":\"#E5ECF6\",\"subunitcolor\":\"white\",\"showland\":true,\"showlakes\":true,\"lakecolor\":\"white\"},\"title\":{\"x\":0.05},\"mapbox\":{\"style\":\"light\"}}},\"xaxis\":{\"anchor\":\"y\",\"domain\":[0.0,1.0],\"title\":{\"text\":\"date\"}},\"yaxis\":{\"anchor\":\"x\",\"domain\":[0.0,1.0],\"title\":{\"text\":\"value\"}},\"legend\":{\"title\":{\"text\":\"variable\"},\"tracegroupgap\":0},\"title\":{\"text\":\"Apple vs Google\"}},                        {\"responsive\": true}                    ).then(function(){\n",
       "                            \n",
       "var gd = document.getElementById('651ff95f-a567-4e14-996c-aa4f05842e7b');\n",
       "var x = new MutationObserver(function (mutations, observer) {{\n",
       "        var display = window.getComputedStyle(gd).display;\n",
       "        if (!display || display === 'none') {{\n",
       "            console.log([gd, 'removed!']);\n",
       "            Plotly.purge(gd);\n",
       "            observer.disconnect();\n",
       "        }}\n",
       "}});\n",
       "\n",
       "// Listen for the removal of the full notebook cells\n",
       "var notebookContainer = gd.closest('#notebook-container');\n",
       "if (notebookContainer) {{\n",
       "    x.observe(notebookContainer, {childList: true});\n",
       "}}\n",
       "\n",
       "// Listen for the clearing of the current output cell\n",
       "var outputEl = gd.closest('.output');\n",
       "if (outputEl) {{\n",
       "    x.observe(outputEl, {childList: true});\n",
       "}}\n",
       "\n",
       "                        })                };                });            </script>        </div>"
      ]
     },
     "metadata": {},
     "output_type": "display_data"
    }
   ],
   "source": [
    "df_stocks=px.data.stocks()\n",
    "px.line(df_stocks, x='date', y='GOOG', labels={ 'x': 'Date',\n",
    "                                              'y' : 'Value of Dollar'})\n",
    "px.line(df_stocks, x='date', y=['GOOG', 'AAPL'], labels={ 'x': 'Date',\n",
    "                                              'y' : 'Value of Dollar'},\n",
    "       title='Apple vs Google')\n",
    "\n",
    "\n"
   ]
  },
  {
   "cell_type": "code",
   "execution_count": 406,
   "id": "26140125-702d-45e4-8272-058ddca5f9c9",
   "metadata": {},
   "outputs": [
    {
     "data": {
      "application/vnd.plotly.v1+json": {
       "config": {
        "plotlyServerURL": "https://plot.ly"
       },
       "data": [
        {
         "mode": "lines",
         "name": "Rand 1",
         "type": "scatter",
         "x": [
          0,
          0.010101010101010102,
          0.020202020202020204,
          0.030303030303030304,
          0.04040404040404041,
          0.05050505050505051,
          0.06060606060606061,
          0.07070707070707072,
          0.08080808080808081,
          0.09090909090909091,
          0.10101010101010102,
          0.11111111111111112,
          0.12121212121212122,
          0.13131313131313133,
          0.14141414141414144,
          0.15151515151515152,
          0.16161616161616163,
          0.17171717171717174,
          0.18181818181818182,
          0.19191919191919193,
          0.20202020202020204,
          0.21212121212121213,
          0.22222222222222224,
          0.23232323232323235,
          0.24242424242424243,
          0.25252525252525254,
          0.26262626262626265,
          0.27272727272727276,
          0.2828282828282829,
          0.29292929292929293,
          0.30303030303030304,
          0.31313131313131315,
          0.32323232323232326,
          0.33333333333333337,
          0.3434343434343435,
          0.3535353535353536,
          0.36363636363636365,
          0.37373737373737376,
          0.38383838383838387,
          0.393939393939394,
          0.4040404040404041,
          0.4141414141414142,
          0.42424242424242425,
          0.43434343434343436,
          0.4444444444444445,
          0.4545454545454546,
          0.4646464646464647,
          0.4747474747474748,
          0.48484848484848486,
          0.494949494949495,
          0.5050505050505051,
          0.5151515151515152,
          0.5252525252525253,
          0.5353535353535354,
          0.5454545454545455,
          0.5555555555555556,
          0.5656565656565657,
          0.5757575757575758,
          0.5858585858585859,
          0.595959595959596,
          0.6060606060606061,
          0.6161616161616162,
          0.6262626262626263,
          0.6363636363636365,
          0.6464646464646465,
          0.6565656565656566,
          0.6666666666666667,
          0.6767676767676768,
          0.686868686868687,
          0.696969696969697,
          0.7070707070707072,
          0.7171717171717172,
          0.7272727272727273,
          0.7373737373737375,
          0.7474747474747475,
          0.7575757575757577,
          0.7676767676767677,
          0.7777777777777778,
          0.787878787878788,
          0.797979797979798,
          0.8080808080808082,
          0.8181818181818182,
          0.8282828282828284,
          0.8383838383838385,
          0.8484848484848485,
          0.8585858585858587,
          0.8686868686868687,
          0.8787878787878789,
          0.888888888888889,
          0.8989898989898991,
          0.9090909090909092,
          0.9191919191919192,
          0.9292929292929294,
          0.9393939393939394,
          0.9494949494949496,
          0.9595959595959597,
          0.9696969696969697,
          0.9797979797979799,
          0.98989898989899,
          1
         ],
         "y": [
          5.156056933276853,
          5.211790460738761,
          4.87627675955356,
          4.730145710981474,
          5.192087462900935,
          4.655384637706318,
          4.921713151476079,
          4.851863299452053,
          5.574268515624689,
          4.9854870833944025,
          6.491856180122907,
          5.764468854405206,
          5.912692786945953,
          4.26320893142655,
          5.801138279249548,
          4.810407360723613,
          5.021464292358254,
          6.277844482724464,
          4.483411594825353,
          4.3304572959531695,
          3.9324401109145577,
          4.407970114422347,
          4.335444191767349,
          3.736773477826745,
          4.141068993234814,
          4.7029493676473395,
          6.325987557808977,
          6.259660986945127,
          6.668032439332716,
          5.227378808494293,
          4.2591275311210275,
          6.214380461407242,
          3.7085877108636045,
          5.854676431104086,
          4.90396260081557,
          5.714569737649226,
          2.59351327629712,
          4.348980046724639,
          5.02524379979242,
          6.056637430330661,
          2.956806622077481,
          4.938153099456649,
          3.9784602546563446,
          4.302727104412364,
          3.8333480812929244,
          4.652880737366521,
          4.267491139037999,
          3.4282505445163647,
          5.001797560760566,
          4.073606549040872,
          6.110302990056944,
          4.41746242241792,
          6.564478392260076,
          5.11903828412499,
          5.519776727123066,
          5.915399811560221,
          7.638696458604063,
          3.814816549573009,
          4.728497843212126,
          4.976665600914403,
          5.3715993359374625,
          5.375560796141932,
          6.183668966967094,
          5.159517215044844,
          4.348967191432521,
          5.974224361639692,
          4.5526712625177,
          3.4771733422224886,
          6.1742453479375925,
          6.178873847904664,
          4.608036065474963,
          5.546656438910496,
          2.544024664767542,
          5.735689575444619,
          4.357783233598415,
          3.9104226328752265,
          4.337032360431308,
          3.232076538146832,
          5.42837665173826,
          4.072316414507007,
          5.7703624792130634,
          3.628905770320694,
          4.131198210898914,
          5.858170647479401,
          4.6494084587510525,
          5.965954197967171,
          4.962090877492275,
          6.797721810369671,
          4.729459501524502,
          5.853826313844318,
          5.1233718647312605,
          4.449057276453241,
          4.601924778150836,
          6.996111890127464,
          4.049793749659961,
          5.621939755791166,
          5.200676111251176,
          5.92796276463056,
          5.773681576874342,
          3.824798662539809
         ]
        },
        {
         "mode": "lines+markers",
         "name": "Rand 2",
         "type": "scatter",
         "x": [
          0,
          0.010101010101010102,
          0.020202020202020204,
          0.030303030303030304,
          0.04040404040404041,
          0.05050505050505051,
          0.06060606060606061,
          0.07070707070707072,
          0.08080808080808081,
          0.09090909090909091,
          0.10101010101010102,
          0.11111111111111112,
          0.12121212121212122,
          0.13131313131313133,
          0.14141414141414144,
          0.15151515151515152,
          0.16161616161616163,
          0.17171717171717174,
          0.18181818181818182,
          0.19191919191919193,
          0.20202020202020204,
          0.21212121212121213,
          0.22222222222222224,
          0.23232323232323235,
          0.24242424242424243,
          0.25252525252525254,
          0.26262626262626265,
          0.27272727272727276,
          0.2828282828282829,
          0.29292929292929293,
          0.30303030303030304,
          0.31313131313131315,
          0.32323232323232326,
          0.33333333333333337,
          0.3434343434343435,
          0.3535353535353536,
          0.36363636363636365,
          0.37373737373737376,
          0.38383838383838387,
          0.393939393939394,
          0.4040404040404041,
          0.4141414141414142,
          0.42424242424242425,
          0.43434343434343436,
          0.4444444444444445,
          0.4545454545454546,
          0.4646464646464647,
          0.4747474747474748,
          0.48484848484848486,
          0.494949494949495,
          0.5050505050505051,
          0.5151515151515152,
          0.5252525252525253,
          0.5353535353535354,
          0.5454545454545455,
          0.5555555555555556,
          0.5656565656565657,
          0.5757575757575758,
          0.5858585858585859,
          0.595959595959596,
          0.6060606060606061,
          0.6161616161616162,
          0.6262626262626263,
          0.6363636363636365,
          0.6464646464646465,
          0.6565656565656566,
          0.6666666666666667,
          0.6767676767676768,
          0.686868686868687,
          0.696969696969697,
          0.7070707070707072,
          0.7171717171717172,
          0.7272727272727273,
          0.7373737373737375,
          0.7474747474747475,
          0.7575757575757577,
          0.7676767676767677,
          0.7777777777777778,
          0.787878787878788,
          0.797979797979798,
          0.8080808080808082,
          0.8181818181818182,
          0.8282828282828284,
          0.8383838383838385,
          0.8484848484848485,
          0.8585858585858587,
          0.8686868686868687,
          0.8787878787878789,
          0.888888888888889,
          0.8989898989898991,
          0.9090909090909092,
          0.9191919191919192,
          0.9292929292929294,
          0.9393939393939394,
          0.9494949494949496,
          0.9595959595959597,
          0.9696969696969697,
          0.9797979797979799,
          0.98989898989899,
          1
         ],
         "y": [
          -3.9826371661168207,
          -4.328313489882518,
          -4.836657469782247,
          -4.669838609366985,
          -5.078925328905044,
          -3.114558779623936,
          -5.902999060358258,
          -4.551918352737248,
          -4.877863381224714,
          -3.98432794244809,
          -4.937719898785794,
          -4.392073594018889,
          -5.127010670202929,
          -6.0805174755287235,
          -6.167334247246371,
          -4.856699637361256,
          -5.648546766435571,
          -4.627428164356703,
          -4.5477182488609245,
          -3.717457526161092,
          -6.043256639948134,
          -8.15091601881774,
          -5.41921500000691,
          -4.44682131322944,
          -5.049009837939132,
          -5.01885213962455,
          -4.459519977453796,
          -6.0123533026309754,
          -5.083677951400177,
          -4.244955340844641,
          -4.181845547438403,
          -6.115892956115911,
          -5.244001053527103,
          -5.260353192618548,
          -4.692403772019932,
          -5.2239049968657385,
          -4.3951392621408845,
          -4.289290905034139,
          -3.9634623727428044,
          -5.592024626096793,
          -5.381911280662867,
          -5.997460992901045,
          -7.34806446653851,
          -4.852747484237349,
          -5.238062209592535,
          -6.762293753988279,
          -5.365895769394715,
          -4.868135823882763,
          -4.803015846905024,
          -4.156123968433744,
          -6.439041573035027,
          -4.984278720818881,
          -5.833540571810732,
          -2.5737944969384485,
          -5.329922340538636,
          -4.928512283594445,
          -4.446942833130951,
          -4.3757616843424305,
          -5.065296787270961,
          -5.531206216366792,
          -5.400871466116783,
          -4.3699077590138025,
          -3.254980937134187,
          -5.296133017614766,
          -5.429357404723898,
          -4.971084591813121,
          -4.07617130021521,
          -4.704329543676911,
          -4.333824430047163,
          -5.823541015000473,
          -5.435222857869336,
          -5.3678187591472435,
          -6.2610231327191235,
          -6.517500231663927,
          -4.899308600609849,
          -5.47289328889781,
          -4.026404678855844,
          -4.3056189272574965,
          -5.7597914071452925,
          -3.313375458722852,
          -4.71649710554669,
          -6.253128879075987,
          -5.562092845204247,
          -4.4349100936838575,
          -3.4829669251206923,
          -4.9395551078671325,
          -5.183332973091154,
          -6.120864194563364,
          -4.765470780923982,
          -3.984775063335202,
          -4.309218981908182,
          -5.826691372277489,
          -4.639492156301511,
          -6.282975536368291,
          -5.587226595921248,
          -4.662461140924891,
          -6.021233309595123,
          -4.483907041771479,
          -4.043539659491488,
          -4.747100813596823
         ]
        },
        {
         "mode": "markers",
         "name": "Rand 3",
         "type": "scatter",
         "x": [
          0,
          0.010101010101010102,
          0.020202020202020204,
          0.030303030303030304,
          0.04040404040404041,
          0.05050505050505051,
          0.06060606060606061,
          0.07070707070707072,
          0.08080808080808081,
          0.09090909090909091,
          0.10101010101010102,
          0.11111111111111112,
          0.12121212121212122,
          0.13131313131313133,
          0.14141414141414144,
          0.15151515151515152,
          0.16161616161616163,
          0.17171717171717174,
          0.18181818181818182,
          0.19191919191919193,
          0.20202020202020204,
          0.21212121212121213,
          0.22222222222222224,
          0.23232323232323235,
          0.24242424242424243,
          0.25252525252525254,
          0.26262626262626265,
          0.27272727272727276,
          0.2828282828282829,
          0.29292929292929293,
          0.30303030303030304,
          0.31313131313131315,
          0.32323232323232326,
          0.33333333333333337,
          0.3434343434343435,
          0.3535353535353536,
          0.36363636363636365,
          0.37373737373737376,
          0.38383838383838387,
          0.393939393939394,
          0.4040404040404041,
          0.4141414141414142,
          0.42424242424242425,
          0.43434343434343436,
          0.4444444444444445,
          0.4545454545454546,
          0.4646464646464647,
          0.4747474747474748,
          0.48484848484848486,
          0.494949494949495,
          0.5050505050505051,
          0.5151515151515152,
          0.5252525252525253,
          0.5353535353535354,
          0.5454545454545455,
          0.5555555555555556,
          0.5656565656565657,
          0.5757575757575758,
          0.5858585858585859,
          0.595959595959596,
          0.6060606060606061,
          0.6161616161616162,
          0.6262626262626263,
          0.6363636363636365,
          0.6464646464646465,
          0.6565656565656566,
          0.6666666666666667,
          0.6767676767676768,
          0.686868686868687,
          0.696969696969697,
          0.7070707070707072,
          0.7171717171717172,
          0.7272727272727273,
          0.7373737373737375,
          0.7474747474747475,
          0.7575757575757577,
          0.7676767676767677,
          0.7777777777777778,
          0.787878787878788,
          0.797979797979798,
          0.8080808080808082,
          0.8181818181818182,
          0.8282828282828284,
          0.8383838383838385,
          0.8484848484848485,
          0.8585858585858587,
          0.8686868686868687,
          0.8787878787878789,
          0.888888888888889,
          0.8989898989898991,
          0.9090909090909092,
          0.9191919191919192,
          0.9292929292929294,
          0.9393939393939394,
          0.9494949494949496,
          0.9595959595959597,
          0.9696969696969697,
          0.9797979797979799,
          0.98989898989899,
          1
         ],
         "y": [
          0.24536658548929852,
          -0.5553319015144017,
          -0.723036074700583,
          0.34621027062902116,
          1.4629439646485463,
          0.5252902837381148,
          -0.9120958937717101,
          0.6533228162479552,
          1.6312612553432135,
          -0.6644438644931278,
          -0.45812772768729604,
          0.9362850513650404,
          -0.4931472548389511,
          0.7234889761403704,
          -0.9416929282949872,
          -0.8087514705351125,
          0.9376106403216298,
          -0.34392504125197265,
          0.5132826609466085,
          -1.5642519654923241,
          -2.160427521032257,
          0.20685433740327427,
          -0.35417784671816643,
          0.4886129433106657,
          1.2288443806181653,
          0.4373440556412677,
          1.363916115370836,
          -0.1398245931328464,
          1.6155952720783693,
          0.37406989214539516,
          -0.21704796202590784,
          -0.5876518683517868,
          0.030858933505693797,
          0.05873118969497941,
          0.9160063965341149,
          -0.0737853218174572,
          1.7842442651987316,
          1.6063190153467681,
          -0.20471772744151384,
          -0.8792243837414497,
          -0.6296045599663115,
          -1.0592925728808649,
          0.8530778953134556,
          -1.1975569619255744,
          -0.22076762818648515,
          0.39263181826834437,
          1.0350346452660013,
          2.0409469785348877,
          1.2754375265895215,
          0.5542632586957326,
          -0.24462119289162082,
          -0.1271764539379182,
          -1.9608247994391919,
          0.6299862862447412,
          0.6138780271017229,
          1.1317334455069459,
          1.5723513022067175,
          -1.0163759399642258,
          -0.233078471944879,
          -0.05278868404413668,
          -0.266850512304744,
          1.5641009302758713,
          0.46069153014340347,
          0.026420950493556576,
          -1.2703284907920593,
          1.4151136310243357,
          0.5207857251876907,
          2.02371329668337,
          -0.6015684975885349,
          1.095708640025624,
          -0.6480835213684685,
          -0.4756202375128485,
          -0.20800690003444983,
          0.960220824329692,
          1.8199508304178036,
          0.03609324643916263,
          0.015508642180771111,
          -0.48275183453630804,
          -3.5419792930167042,
          -1.238305385504303,
          -1.9456685540564782,
          0.9229944763427473,
          -2.5773569165978785,
          1.5278952783117319,
          0.23899592420353696,
          -0.9249031369401792,
          -0.29521675931161273,
          -1.272111984230265,
          -1.0829940199845711,
          -0.2869539565131447,
          0.26871704387984596,
          1.2988839653577424,
          1.2982520907796544,
          0.48671976170094566,
          -0.5396216812985364,
          -0.40241568177934656,
          0.6573909878474131,
          0.18177388444496745,
          -0.8434046425756448,
          1.4519502053205007
         ]
        }
       ],
       "layout": {
        "autosize": true,
        "template": {
         "data": {
          "bar": [
           {
            "error_x": {
             "color": "#2a3f5f"
            },
            "error_y": {
             "color": "#2a3f5f"
            },
            "marker": {
             "line": {
              "color": "#E5ECF6",
              "width": 0.5
             },
             "pattern": {
              "fillmode": "overlay",
              "size": 10,
              "solidity": 0.2
             }
            },
            "type": "bar"
           }
          ],
          "barpolar": [
           {
            "marker": {
             "line": {
              "color": "#E5ECF6",
              "width": 0.5
             },
             "pattern": {
              "fillmode": "overlay",
              "size": 10,
              "solidity": 0.2
             }
            },
            "type": "barpolar"
           }
          ],
          "carpet": [
           {
            "aaxis": {
             "endlinecolor": "#2a3f5f",
             "gridcolor": "white",
             "linecolor": "white",
             "minorgridcolor": "white",
             "startlinecolor": "#2a3f5f"
            },
            "baxis": {
             "endlinecolor": "#2a3f5f",
             "gridcolor": "white",
             "linecolor": "white",
             "minorgridcolor": "white",
             "startlinecolor": "#2a3f5f"
            },
            "type": "carpet"
           }
          ],
          "choropleth": [
           {
            "colorbar": {
             "outlinewidth": 0,
             "ticks": ""
            },
            "type": "choropleth"
           }
          ],
          "contour": [
           {
            "colorbar": {
             "outlinewidth": 0,
             "ticks": ""
            },
            "colorscale": [
             [
              0,
              "#0d0887"
             ],
             [
              0.1111111111111111,
              "#46039f"
             ],
             [
              0.2222222222222222,
              "#7201a8"
             ],
             [
              0.3333333333333333,
              "#9c179e"
             ],
             [
              0.4444444444444444,
              "#bd3786"
             ],
             [
              0.5555555555555556,
              "#d8576b"
             ],
             [
              0.6666666666666666,
              "#ed7953"
             ],
             [
              0.7777777777777778,
              "#fb9f3a"
             ],
             [
              0.8888888888888888,
              "#fdca26"
             ],
             [
              1,
              "#f0f921"
             ]
            ],
            "type": "contour"
           }
          ],
          "contourcarpet": [
           {
            "colorbar": {
             "outlinewidth": 0,
             "ticks": ""
            },
            "type": "contourcarpet"
           }
          ],
          "heatmap": [
           {
            "colorbar": {
             "outlinewidth": 0,
             "ticks": ""
            },
            "colorscale": [
             [
              0,
              "#0d0887"
             ],
             [
              0.1111111111111111,
              "#46039f"
             ],
             [
              0.2222222222222222,
              "#7201a8"
             ],
             [
              0.3333333333333333,
              "#9c179e"
             ],
             [
              0.4444444444444444,
              "#bd3786"
             ],
             [
              0.5555555555555556,
              "#d8576b"
             ],
             [
              0.6666666666666666,
              "#ed7953"
             ],
             [
              0.7777777777777778,
              "#fb9f3a"
             ],
             [
              0.8888888888888888,
              "#fdca26"
             ],
             [
              1,
              "#f0f921"
             ]
            ],
            "type": "heatmap"
           }
          ],
          "heatmapgl": [
           {
            "colorbar": {
             "outlinewidth": 0,
             "ticks": ""
            },
            "colorscale": [
             [
              0,
              "#0d0887"
             ],
             [
              0.1111111111111111,
              "#46039f"
             ],
             [
              0.2222222222222222,
              "#7201a8"
             ],
             [
              0.3333333333333333,
              "#9c179e"
             ],
             [
              0.4444444444444444,
              "#bd3786"
             ],
             [
              0.5555555555555556,
              "#d8576b"
             ],
             [
              0.6666666666666666,
              "#ed7953"
             ],
             [
              0.7777777777777778,
              "#fb9f3a"
             ],
             [
              0.8888888888888888,
              "#fdca26"
             ],
             [
              1,
              "#f0f921"
             ]
            ],
            "type": "heatmapgl"
           }
          ],
          "histogram": [
           {
            "marker": {
             "pattern": {
              "fillmode": "overlay",
              "size": 10,
              "solidity": 0.2
             }
            },
            "type": "histogram"
           }
          ],
          "histogram2d": [
           {
            "colorbar": {
             "outlinewidth": 0,
             "ticks": ""
            },
            "colorscale": [
             [
              0,
              "#0d0887"
             ],
             [
              0.1111111111111111,
              "#46039f"
             ],
             [
              0.2222222222222222,
              "#7201a8"
             ],
             [
              0.3333333333333333,
              "#9c179e"
             ],
             [
              0.4444444444444444,
              "#bd3786"
             ],
             [
              0.5555555555555556,
              "#d8576b"
             ],
             [
              0.6666666666666666,
              "#ed7953"
             ],
             [
              0.7777777777777778,
              "#fb9f3a"
             ],
             [
              0.8888888888888888,
              "#fdca26"
             ],
             [
              1,
              "#f0f921"
             ]
            ],
            "type": "histogram2d"
           }
          ],
          "histogram2dcontour": [
           {
            "colorbar": {
             "outlinewidth": 0,
             "ticks": ""
            },
            "colorscale": [
             [
              0,
              "#0d0887"
             ],
             [
              0.1111111111111111,
              "#46039f"
             ],
             [
              0.2222222222222222,
              "#7201a8"
             ],
             [
              0.3333333333333333,
              "#9c179e"
             ],
             [
              0.4444444444444444,
              "#bd3786"
             ],
             [
              0.5555555555555556,
              "#d8576b"
             ],
             [
              0.6666666666666666,
              "#ed7953"
             ],
             [
              0.7777777777777778,
              "#fb9f3a"
             ],
             [
              0.8888888888888888,
              "#fdca26"
             ],
             [
              1,
              "#f0f921"
             ]
            ],
            "type": "histogram2dcontour"
           }
          ],
          "mesh3d": [
           {
            "colorbar": {
             "outlinewidth": 0,
             "ticks": ""
            },
            "type": "mesh3d"
           }
          ],
          "parcoords": [
           {
            "line": {
             "colorbar": {
              "outlinewidth": 0,
              "ticks": ""
             }
            },
            "type": "parcoords"
           }
          ],
          "pie": [
           {
            "automargin": true,
            "type": "pie"
           }
          ],
          "scatter": [
           {
            "fillpattern": {
             "fillmode": "overlay",
             "size": 10,
             "solidity": 0.2
            },
            "type": "scatter"
           }
          ],
          "scatter3d": [
           {
            "line": {
             "colorbar": {
              "outlinewidth": 0,
              "ticks": ""
             }
            },
            "marker": {
             "colorbar": {
              "outlinewidth": 0,
              "ticks": ""
             }
            },
            "type": "scatter3d"
           }
          ],
          "scattercarpet": [
           {
            "marker": {
             "colorbar": {
              "outlinewidth": 0,
              "ticks": ""
             }
            },
            "type": "scattercarpet"
           }
          ],
          "scattergeo": [
           {
            "marker": {
             "colorbar": {
              "outlinewidth": 0,
              "ticks": ""
             }
            },
            "type": "scattergeo"
           }
          ],
          "scattergl": [
           {
            "marker": {
             "colorbar": {
              "outlinewidth": 0,
              "ticks": ""
             }
            },
            "type": "scattergl"
           }
          ],
          "scattermapbox": [
           {
            "marker": {
             "colorbar": {
              "outlinewidth": 0,
              "ticks": ""
             }
            },
            "type": "scattermapbox"
           }
          ],
          "scatterpolar": [
           {
            "marker": {
             "colorbar": {
              "outlinewidth": 0,
              "ticks": ""
             }
            },
            "type": "scatterpolar"
           }
          ],
          "scatterpolargl": [
           {
            "marker": {
             "colorbar": {
              "outlinewidth": 0,
              "ticks": ""
             }
            },
            "type": "scatterpolargl"
           }
          ],
          "scatterternary": [
           {
            "marker": {
             "colorbar": {
              "outlinewidth": 0,
              "ticks": ""
             }
            },
            "type": "scatterternary"
           }
          ],
          "surface": [
           {
            "colorbar": {
             "outlinewidth": 0,
             "ticks": ""
            },
            "colorscale": [
             [
              0,
              "#0d0887"
             ],
             [
              0.1111111111111111,
              "#46039f"
             ],
             [
              0.2222222222222222,
              "#7201a8"
             ],
             [
              0.3333333333333333,
              "#9c179e"
             ],
             [
              0.4444444444444444,
              "#bd3786"
             ],
             [
              0.5555555555555556,
              "#d8576b"
             ],
             [
              0.6666666666666666,
              "#ed7953"
             ],
             [
              0.7777777777777778,
              "#fb9f3a"
             ],
             [
              0.8888888888888888,
              "#fdca26"
             ],
             [
              1,
              "#f0f921"
             ]
            ],
            "type": "surface"
           }
          ],
          "table": [
           {
            "cells": {
             "fill": {
              "color": "#EBF0F8"
             },
             "line": {
              "color": "white"
             }
            },
            "header": {
             "fill": {
              "color": "#C8D4E3"
             },
             "line": {
              "color": "white"
             }
            },
            "type": "table"
           }
          ]
         },
         "layout": {
          "annotationdefaults": {
           "arrowcolor": "#2a3f5f",
           "arrowhead": 0,
           "arrowwidth": 1
          },
          "autotypenumbers": "strict",
          "coloraxis": {
           "colorbar": {
            "outlinewidth": 0,
            "ticks": ""
           }
          },
          "colorscale": {
           "diverging": [
            [
             0,
             "#8e0152"
            ],
            [
             0.1,
             "#c51b7d"
            ],
            [
             0.2,
             "#de77ae"
            ],
            [
             0.3,
             "#f1b6da"
            ],
            [
             0.4,
             "#fde0ef"
            ],
            [
             0.5,
             "#f7f7f7"
            ],
            [
             0.6,
             "#e6f5d0"
            ],
            [
             0.7,
             "#b8e186"
            ],
            [
             0.8,
             "#7fbc41"
            ],
            [
             0.9,
             "#4d9221"
            ],
            [
             1,
             "#276419"
            ]
           ],
           "sequential": [
            [
             0,
             "#0d0887"
            ],
            [
             0.1111111111111111,
             "#46039f"
            ],
            [
             0.2222222222222222,
             "#7201a8"
            ],
            [
             0.3333333333333333,
             "#9c179e"
            ],
            [
             0.4444444444444444,
             "#bd3786"
            ],
            [
             0.5555555555555556,
             "#d8576b"
            ],
            [
             0.6666666666666666,
             "#ed7953"
            ],
            [
             0.7777777777777778,
             "#fb9f3a"
            ],
            [
             0.8888888888888888,
             "#fdca26"
            ],
            [
             1,
             "#f0f921"
            ]
           ],
           "sequentialminus": [
            [
             0,
             "#0d0887"
            ],
            [
             0.1111111111111111,
             "#46039f"
            ],
            [
             0.2222222222222222,
             "#7201a8"
            ],
            [
             0.3333333333333333,
             "#9c179e"
            ],
            [
             0.4444444444444444,
             "#bd3786"
            ],
            [
             0.5555555555555556,
             "#d8576b"
            ],
            [
             0.6666666666666666,
             "#ed7953"
            ],
            [
             0.7777777777777778,
             "#fb9f3a"
            ],
            [
             0.8888888888888888,
             "#fdca26"
            ],
            [
             1,
             "#f0f921"
            ]
           ]
          },
          "colorway": [
           "#636efa",
           "#EF553B",
           "#00cc96",
           "#ab63fa",
           "#FFA15A",
           "#19d3f3",
           "#FF6692",
           "#B6E880",
           "#FF97FF",
           "#FECB52"
          ],
          "font": {
           "color": "#2a3f5f"
          },
          "geo": {
           "bgcolor": "white",
           "lakecolor": "white",
           "landcolor": "#E5ECF6",
           "showlakes": true,
           "showland": true,
           "subunitcolor": "white"
          },
          "hoverlabel": {
           "align": "left"
          },
          "hovermode": "closest",
          "mapbox": {
           "style": "light"
          },
          "paper_bgcolor": "white",
          "plot_bgcolor": "#E5ECF6",
          "polar": {
           "angularaxis": {
            "gridcolor": "white",
            "linecolor": "white",
            "ticks": ""
           },
           "bgcolor": "#E5ECF6",
           "radialaxis": {
            "gridcolor": "white",
            "linecolor": "white",
            "ticks": ""
           }
          },
          "scene": {
           "xaxis": {
            "backgroundcolor": "#E5ECF6",
            "gridcolor": "white",
            "gridwidth": 2,
            "linecolor": "white",
            "showbackground": true,
            "ticks": "",
            "zerolinecolor": "white"
           },
           "yaxis": {
            "backgroundcolor": "#E5ECF6",
            "gridcolor": "white",
            "gridwidth": 2,
            "linecolor": "white",
            "showbackground": true,
            "ticks": "",
            "zerolinecolor": "white"
           },
           "zaxis": {
            "backgroundcolor": "#E5ECF6",
            "gridcolor": "white",
            "gridwidth": 2,
            "linecolor": "white",
            "showbackground": true,
            "ticks": "",
            "zerolinecolor": "white"
           }
          },
          "shapedefaults": {
           "line": {
            "color": "#2a3f5f"
           }
          },
          "ternary": {
           "aaxis": {
            "gridcolor": "white",
            "linecolor": "white",
            "ticks": ""
           },
           "baxis": {
            "gridcolor": "white",
            "linecolor": "white",
            "ticks": ""
           },
           "bgcolor": "#E5ECF6",
           "caxis": {
            "gridcolor": "white",
            "linecolor": "white",
            "ticks": ""
           }
          },
          "title": {
           "x": 0.05
          },
          "xaxis": {
           "automargin": true,
           "gridcolor": "white",
           "linecolor": "white",
           "ticks": "",
           "title": {
            "standoff": 15
           },
           "zerolinecolor": "white",
           "zerolinewidth": 2
          },
          "yaxis": {
           "automargin": true,
           "gridcolor": "white",
           "linecolor": "white",
           "ticks": "",
           "title": {
            "standoff": 15
           },
           "zerolinecolor": "white",
           "zerolinewidth": 2
          }
         }
        },
        "xaxis": {
         "autorange": true,
         "range": [
          -0.0622879301987397,
          1.0622879301987398
         ],
         "type": "linear"
        },
        "yaxis": {
         "autorange": true,
         "range": [
          -9.423064891406227,
          8.536683898078289
         ],
         "type": "linear"
        }
       }
      },
      "image/png": "[encoded data removed]",
      "text/html": [
       "<div>                            <div id=\"c13608d7-1f49-4fdd-b9ea-f66d888535e7\" class=\"plotly-graph-div\" style=\"height:525px; width:100%;\"></div>            <script type=\"text/javascript\">                require([\"plotly\"], function(Plotly) {                    window.PLOTLYENV=window.PLOTLYENV || {};                                    if (document.getElementById(\"c13608d7-1f49-4fdd-b9ea-f66d888535e7\")) {                    Plotly.newPlot(                        \"c13608d7-1f49-4fdd-b9ea-f66d888535e7\",                        [{\"mode\":\"lines\",\"name\":\"Rand 1\",\"x\":[0.0,0.010101010101010102,0.020202020202020204,0.030303030303030304,0.04040404040404041,0.05050505050505051,0.06060606060606061,0.07070707070707072,0.08080808080808081,0.09090909090909091,0.10101010101010102,0.11111111111111112,0.12121212121212122,0.13131313131313133,0.14141414141414144,0.15151515151515152,0.16161616161616163,0.17171717171717174,0.18181818181818182,0.19191919191919193,0.20202020202020204,0.21212121212121213,0.22222222222222224,0.23232323232323235,0.24242424242424243,0.25252525252525254,0.26262626262626265,0.27272727272727276,0.2828282828282829,0.29292929292929293,0.30303030303030304,0.31313131313131315,0.32323232323232326,0.33333333333333337,0.3434343434343435,0.3535353535353536,0.36363636363636365,0.37373737373737376,0.38383838383838387,0.393939393939394,0.4040404040404041,0.4141414141414142,0.42424242424242425,0.43434343434343436,0.4444444444444445,0.4545454545454546,0.4646464646464647,0.4747474747474748,0.48484848484848486,0.494949494949495,0.5050505050505051,0.5151515151515152,0.5252525252525253,0.5353535353535354,0.5454545454545455,0.5555555555555556,0.5656565656565657,0.5757575757575758,0.5858585858585859,0.595959595959596,0.6060606060606061,0.6161616161616162,0.6262626262626263,0.6363636363636365,0.6464646464646465,0.6565656565656566,0.6666666666666667,0.6767676767676768,0.686868686868687,0.696969696969697,0.7070707070707072,0.7171717171717172,0.7272727272727273,0.7373737373737375,0.7474747474747475,0.7575757575757577,0.7676767676767677,0.7777777777777778,0.787878787878788,0.797979797979798,0.8080808080808082,0.8181818181818182,0.8282828282828284,0.8383838383838385,0.8484848484848485,0.8585858585858587,0.8686868686868687,0.8787878787878789,0.888888888888889,0.8989898989898991,0.9090909090909092,0.9191919191919192,0.9292929292929294,0.9393939393939394,0.9494949494949496,0.9595959595959597,0.9696969696969697,0.9797979797979799,0.98989898989899,1.0],\"y\":[5.156056933276853,5.211790460738761,4.87627675955356,4.730145710981474,5.192087462900935,4.655384637706318,4.921713151476079,4.851863299452053,5.574268515624689,4.9854870833944025,6.491856180122907,5.764468854405206,5.912692786945953,4.26320893142655,5.801138279249548,4.810407360723613,5.021464292358254,6.277844482724464,4.483411594825353,4.3304572959531695,3.9324401109145577,4.407970114422347,4.335444191767349,3.736773477826745,4.141068993234814,4.7029493676473395,6.325987557808977,6.259660986945127,6.668032439332716,5.227378808494293,4.2591275311210275,6.214380461407242,3.7085877108636045,5.854676431104086,4.90396260081557,5.714569737649226,2.59351327629712,4.348980046724639,5.02524379979242,6.056637430330661,2.956806622077481,4.938153099456649,3.9784602546563446,4.302727104412364,3.8333480812929244,4.652880737366521,4.267491139037999,3.4282505445163647,5.001797560760566,4.073606549040872,6.110302990056944,4.41746242241792,6.564478392260076,5.11903828412499,5.519776727123066,5.915399811560221,7.638696458604063,3.814816549573009,4.728497843212126,4.976665600914403,5.3715993359374625,5.375560796141932,6.183668966967094,5.159517215044844,4.348967191432521,5.974224361639692,4.5526712625177,3.4771733422224886,6.1742453479375925,6.178873847904664,4.608036065474963,5.546656438910496,2.544024664767542,5.735689575444619,4.357783233598415,3.9104226328752265,4.337032360431308,3.232076538146832,5.42837665173826,4.072316414507007,5.7703624792130634,3.628905770320694,4.131198210898914,5.858170647479401,4.6494084587510525,5.965954197967171,4.962090877492275,6.797721810369671,4.729459501524502,5.853826313844318,5.1233718647312605,4.449057276453241,4.601924778150836,6.996111890127464,4.049793749659961,5.621939755791166,5.200676111251176,5.92796276463056,5.773681576874342,3.824798662539809],\"type\":\"scatter\"},{\"mode\":\"lines+markers\",\"name\":\"Rand 2\",\"x\":[0.0,0.010101010101010102,0.020202020202020204,0.030303030303030304,0.04040404040404041,0.05050505050505051,0.06060606060606061,0.07070707070707072,0.08080808080808081,0.09090909090909091,0.10101010101010102,0.11111111111111112,0.12121212121212122,0.13131313131313133,0.14141414141414144,0.15151515151515152,0.16161616161616163,0.17171717171717174,0.18181818181818182,0.19191919191919193,0.20202020202020204,0.21212121212121213,0.22222222222222224,0.23232323232323235,0.24242424242424243,0.25252525252525254,0.26262626262626265,0.27272727272727276,0.2828282828282829,0.29292929292929293,0.30303030303030304,0.31313131313131315,0.32323232323232326,0.33333333333333337,0.3434343434343435,0.3535353535353536,0.36363636363636365,0.37373737373737376,0.38383838383838387,0.393939393939394,0.4040404040404041,0.4141414141414142,0.42424242424242425,0.43434343434343436,0.4444444444444445,0.4545454545454546,0.4646464646464647,0.4747474747474748,0.48484848484848486,0.494949494949495,0.5050505050505051,0.5151515151515152,0.5252525252525253,0.5353535353535354,0.5454545454545455,0.5555555555555556,0.5656565656565657,0.5757575757575758,0.5858585858585859,0.595959595959596,0.6060606060606061,0.6161616161616162,0.6262626262626263,0.6363636363636365,0.6464646464646465,0.6565656565656566,0.6666666666666667,0.6767676767676768,0.686868686868687,0.696969696969697,0.7070707070707072,0.7171717171717172,0.7272727272727273,0.7373737373737375,0.7474747474747475,0.7575757575757577,0.7676767676767677,0.7777777777777778,0.787878787878788,0.797979797979798,0.8080808080808082,0.8181818181818182,0.8282828282828284,0.8383838383838385,0.8484848484848485,0.8585858585858587,0.8686868686868687,0.8787878787878789,0.888888888888889,0.8989898989898991,0.9090909090909092,0.9191919191919192,0.9292929292929294,0.9393939393939394,0.9494949494949496,0.9595959595959597,0.9696969696969697,0.9797979797979799,0.98989898989899,1.0],\"y\":[-3.9826371661168207,-4.328313489882518,-4.836657469782247,-4.669838609366985,-5.078925328905044,-3.114558779623936,-5.902999060358258,-4.551918352737248,-4.877863381224714,-3.98432794244809,-4.937719898785794,-4.392073594018889,-5.127010670202929,-6.0805174755287235,-6.167334247246371,-4.856699637361256,-5.648546766435571,-4.627428164356703,-4.5477182488609245,-3.717457526161092,-6.043256639948134,-8.15091601881774,-5.41921500000691,-4.44682131322944,-5.049009837939132,-5.01885213962455,-4.459519977453796,-6.0123533026309754,-5.083677951400177,-4.244955340844641,-4.181845547438403,-6.115892956115911,-5.244001053527103,-5.260353192618548,-4.692403772019932,-5.2239049968657385,-4.3951392621408845,-4.289290905034139,-3.9634623727428044,-5.592024626096793,-5.381911280662867,-5.997460992901045,-7.34806446653851,-4.852747484237349,-5.238062209592535,-6.762293753988279,-5.365895769394715,-4.868135823882763,-4.803015846905024,-4.156123968433744,-6.439041573035027,-4.984278720818881,-5.833540571810732,-2.5737944969384485,-5.329922340538636,-4.928512283594445,-4.446942833130951,-4.3757616843424305,-5.065296787270961,-5.531206216366792,-5.400871466116783,-4.3699077590138025,-3.254980937134187,-5.296133017614766,-5.429357404723898,-4.971084591813121,-4.07617130021521,-4.704329543676911,-4.333824430047163,-5.823541015000473,-5.435222857869336,-5.3678187591472435,-6.2610231327191235,-6.517500231663927,-4.899308600609849,-5.47289328889781,-4.026404678855844,-4.3056189272574965,-5.7597914071452925,-3.313375458722852,-4.71649710554669,-6.253128879075987,-5.562092845204247,-4.4349100936838575,-3.4829669251206923,-4.9395551078671325,-5.183332973091154,-6.120864194563364,-4.765470780923982,-3.984775063335202,-4.309218981908182,-5.826691372277489,-4.639492156301511,-6.282975536368291,-5.587226595921248,-4.662461140924891,-6.021233309595123,-4.483907041771479,-4.043539659491488,-4.747100813596823],\"type\":\"scatter\"},{\"mode\":\"markers\",\"name\":\"Rand 3\",\"x\":[0.0,0.010101010101010102,0.020202020202020204,0.030303030303030304,0.04040404040404041,0.05050505050505051,0.06060606060606061,0.07070707070707072,0.08080808080808081,0.09090909090909091,0.10101010101010102,0.11111111111111112,0.12121212121212122,0.13131313131313133,0.14141414141414144,0.15151515151515152,0.16161616161616163,0.17171717171717174,0.18181818181818182,0.19191919191919193,0.20202020202020204,0.21212121212121213,0.22222222222222224,0.23232323232323235,0.24242424242424243,0.25252525252525254,0.26262626262626265,0.27272727272727276,0.2828282828282829,0.29292929292929293,0.30303030303030304,0.31313131313131315,0.32323232323232326,0.33333333333333337,0.3434343434343435,0.3535353535353536,0.36363636363636365,0.37373737373737376,0.38383838383838387,0.393939393939394,0.4040404040404041,0.4141414141414142,0.42424242424242425,0.43434343434343436,0.4444444444444445,0.4545454545454546,0.4646464646464647,0.4747474747474748,0.48484848484848486,0.494949494949495,0.5050505050505051,0.5151515151515152,0.5252525252525253,0.5353535353535354,0.5454545454545455,0.5555555555555556,0.5656565656565657,0.5757575757575758,0.5858585858585859,0.595959595959596,0.6060606060606061,0.6161616161616162,0.6262626262626263,0.6363636363636365,0.6464646464646465,0.6565656565656566,0.6666666666666667,0.6767676767676768,0.686868686868687,0.696969696969697,0.7070707070707072,0.7171717171717172,0.7272727272727273,0.7373737373737375,0.7474747474747475,0.7575757575757577,0.7676767676767677,0.7777777777777778,0.787878787878788,0.797979797979798,0.8080808080808082,0.8181818181818182,0.8282828282828284,0.8383838383838385,0.8484848484848485,0.8585858585858587,0.8686868686868687,0.8787878787878789,0.888888888888889,0.8989898989898991,0.9090909090909092,0.9191919191919192,0.9292929292929294,0.9393939393939394,0.9494949494949496,0.9595959595959597,0.9696969696969697,0.9797979797979799,0.98989898989899,1.0],\"y\":[0.24536658548929852,-0.5553319015144017,-0.723036074700583,0.34621027062902116,1.4629439646485463,0.5252902837381148,-0.9120958937717101,0.6533228162479552,1.6312612553432135,-0.6644438644931278,-0.45812772768729604,0.9362850513650404,-0.4931472548389511,0.7234889761403704,-0.9416929282949872,-0.8087514705351125,0.9376106403216298,-0.34392504125197265,0.5132826609466085,-1.5642519654923241,-2.160427521032257,0.20685433740327427,-0.35417784671816643,0.4886129433106657,1.2288443806181653,0.4373440556412677,1.363916115370836,-0.1398245931328464,1.6155952720783693,0.37406989214539516,-0.21704796202590784,-0.5876518683517868,0.030858933505693797,0.05873118969497941,0.9160063965341149,-0.0737853218174572,1.7842442651987316,1.6063190153467681,-0.20471772744151384,-0.8792243837414497,-0.6296045599663115,-1.0592925728808649,0.8530778953134556,-1.1975569619255744,-0.22076762818648515,0.39263181826834437,1.0350346452660013,2.0409469785348877,1.2754375265895215,0.5542632586957326,-0.24462119289162082,-0.1271764539379182,-1.9608247994391919,0.6299862862447412,0.6138780271017229,1.1317334455069459,1.5723513022067175,-1.0163759399642258,-0.233078471944879,-0.05278868404413668,-0.266850512304744,1.5641009302758713,0.46069153014340347,0.026420950493556576,-1.2703284907920593,1.4151136310243357,0.5207857251876907,2.02371329668337,-0.6015684975885349,1.095708640025624,-0.6480835213684685,-0.4756202375128485,-0.20800690003444983,0.960220824329692,1.8199508304178036,0.03609324643916263,0.015508642180771111,-0.48275183453630804,-3.5419792930167042,-1.238305385504303,-1.9456685540564782,0.9229944763427473,-2.5773569165978785,1.5278952783117319,0.23899592420353696,-0.9249031369401792,-0.29521675931161273,-1.272111984230265,-1.0829940199845711,-0.2869539565131447,0.26871704387984596,1.2988839653577424,1.2982520907796544,0.48671976170094566,-0.5396216812985364,-0.40241568177934656,0.6573909878474131,0.18177388444496745,-0.8434046425756448,1.4519502053205007],\"type\":\"scatter\"}],                        {\"template\":{\"data\":{\"histogram2dcontour\":[{\"type\":\"histogram2dcontour\",\"colorbar\":{\"outlinewidth\":0,\"ticks\":\"\"},\"colorscale\":[[0.0,\"#0d0887\"],[0.1111111111111111,\"#46039f\"],[0.2222222222222222,\"#7201a8\"],[0.3333333333333333,\"#9c179e\"],[0.4444444444444444,\"#bd3786\"],[0.5555555555555556,\"#d8576b\"],[0.6666666666666666,\"#ed7953\"],[0.7777777777777778,\"#fb9f3a\"],[0.8888888888888888,\"#fdca26\"],[1.0,\"#f0f921\"]]}],\"choropleth\":[{\"type\":\"choropleth\",\"colorbar\":{\"outlinewidth\":0,\"ticks\":\"\"}}],\"histogram2d\":[{\"type\":\"histogram2d\",\"colorbar\":{\"outlinewidth\":0,\"ticks\":\"\"},\"colorscale\":[[0.0,\"#0d0887\"],[0.1111111111111111,\"#46039f\"],[0.2222222222222222,\"#7201a8\"],[0.3333333333333333,\"#9c179e\"],[0.4444444444444444,\"#bd3786\"],[0.5555555555555556,\"#d8576b\"],[0.6666666666666666,\"#ed7953\"],[0.7777777777777778,\"#fb9f3a\"],[0.8888888888888888,\"#fdca26\"],[1.0,\"#f0f921\"]]}],\"heatmap\":[{\"type\":\"heatmap\",\"colorbar\":{\"outlinewidth\":0,\"ticks\":\"\"},\"colorscale\":[[0.0,\"#0d0887\"],[0.1111111111111111,\"#46039f\"],[0.2222222222222222,\"#7201a8\"],[0.3333333333333333,\"#9c179e\"],[0.4444444444444444,\"#bd3786\"],[0.5555555555555556,\"#d8576b\"],[0.6666666666666666,\"#ed7953\"],[0.7777777777777778,\"#fb9f3a\"],[0.8888888888888888,\"#fdca26\"],[1.0,\"#f0f921\"]]}],\"heatmapgl\":[{\"type\":\"heatmapgl\",\"colorbar\":{\"outlinewidth\":0,\"ticks\":\"\"},\"colorscale\":[[0.0,\"#0d0887\"],[0.1111111111111111,\"#46039f\"],[0.2222222222222222,\"#7201a8\"],[0.3333333333333333,\"#9c179e\"],[0.4444444444444444,\"#bd3786\"],[0.5555555555555556,\"#d8576b\"],[0.6666666666666666,\"#ed7953\"],[0.7777777777777778,\"#fb9f3a\"],[0.8888888888888888,\"#fdca26\"],[1.0,\"#f0f921\"]]}],\"contourcarpet\":[{\"type\":\"contourcarpet\",\"colorbar\":{\"outlinewidth\":0,\"ticks\":\"\"}}],\"contour\":[{\"type\":\"contour\",\"colorbar\":{\"outlinewidth\":0,\"ticks\":\"\"},\"colorscale\":[[0.0,\"#0d0887\"],[0.1111111111111111,\"#46039f\"],[0.2222222222222222,\"#7201a8\"],[0.3333333333333333,\"#9c179e\"],[0.4444444444444444,\"#bd3786\"],[0.5555555555555556,\"#d8576b\"],[0.6666666666666666,\"#ed7953\"],[0.7777777777777778,\"#fb9f3a\"],[0.8888888888888888,\"#fdca26\"],[1.0,\"#f0f921\"]]}],\"surface\":[{\"type\":\"surface\",\"colorbar\":{\"outlinewidth\":0,\"ticks\":\"\"},\"colorscale\":[[0.0,\"#0d0887\"],[0.1111111111111111,\"#46039f\"],[0.2222222222222222,\"#7201a8\"],[0.3333333333333333,\"#9c179e\"],[0.4444444444444444,\"#bd3786\"],[0.5555555555555556,\"#d8576b\"],[0.6666666666666666,\"#ed7953\"],[0.7777777777777778,\"#fb9f3a\"],[0.8888888888888888,\"#fdca26\"],[1.0,\"#f0f921\"]]}],\"mesh3d\":[{\"type\":\"mesh3d\",\"colorbar\":{\"outlinewidth\":0,\"ticks\":\"\"}}],\"scatter\":[{\"fillpattern\":{\"fillmode\":\"overlay\",\"size\":10,\"solidity\":0.2},\"type\":\"scatter\"}],\"parcoords\":[{\"type\":\"parcoords\",\"line\":{\"colorbar\":{\"outlinewidth\":0,\"ticks\":\"\"}}}],\"scatterpolargl\":[{\"type\":\"scatterpolargl\",\"marker\":{\"colorbar\":{\"outlinewidth\":0,\"ticks\":\"\"}}}],\"bar\":[{\"error_x\":{\"color\":\"#2a3f5f\"},\"error_y\":{\"color\":\"#2a3f5f\"},\"marker\":{\"line\":{\"color\":\"#E5ECF6\",\"width\":0.5},\"pattern\":{\"fillmode\":\"overlay\",\"size\":10,\"solidity\":0.2}},\"type\":\"bar\"}],\"scattergeo\":[{\"type\":\"scattergeo\",\"marker\":{\"colorbar\":{\"outlinewidth\":0,\"ticks\":\"\"}}}],\"scatterpolar\":[{\"type\":\"scatterpolar\",\"marker\":{\"colorbar\":{\"outlinewidth\":0,\"ticks\":\"\"}}}],\"histogram\":[{\"marker\":{\"pattern\":{\"fillmode\":\"overlay\",\"size\":10,\"solidity\":0.2}},\"type\":\"histogram\"}],\"scattergl\":[{\"type\":\"scattergl\",\"marker\":{\"colorbar\":{\"outlinewidth\":0,\"ticks\":\"\"}}}],\"scatter3d\":[{\"type\":\"scatter3d\",\"line\":{\"colorbar\":{\"outlinewidth\":0,\"ticks\":\"\"}},\"marker\":{\"colorbar\":{\"outlinewidth\":0,\"ticks\":\"\"}}}],\"scattermapbox\":[{\"type\":\"scattermapbox\",\"marker\":{\"colorbar\":{\"outlinewidth\":0,\"ticks\":\"\"}}}],\"scatterternary\":[{\"type\":\"scatterternary\",\"marker\":{\"colorbar\":{\"outlinewidth\":0,\"ticks\":\"\"}}}],\"scattercarpet\":[{\"type\":\"scattercarpet\",\"marker\":{\"colorbar\":{\"outlinewidth\":0,\"ticks\":\"\"}}}],\"carpet\":[{\"aaxis\":{\"endlinecolor\":\"#2a3f5f\",\"gridcolor\":\"white\",\"linecolor\":\"white\",\"minorgridcolor\":\"white\",\"startlinecolor\":\"#2a3f5f\"},\"baxis\":{\"endlinecolor\":\"#2a3f5f\",\"gridcolor\":\"white\",\"linecolor\":\"white\",\"minorgridcolor\":\"white\",\"startlinecolor\":\"#2a3f5f\"},\"type\":\"carpet\"}],\"table\":[{\"cells\":{\"fill\":{\"color\":\"#EBF0F8\"},\"line\":{\"color\":\"white\"}},\"header\":{\"fill\":{\"color\":\"#C8D4E3\"},\"line\":{\"color\":\"white\"}},\"type\":\"table\"}],\"barpolar\":[{\"marker\":{\"line\":{\"color\":\"#E5ECF6\",\"width\":0.5},\"pattern\":{\"fillmode\":\"overlay\",\"size\":10,\"solidity\":0.2}},\"type\":\"barpolar\"}],\"pie\":[{\"automargin\":true,\"type\":\"pie\"}]},\"layout\":{\"autotypenumbers\":\"strict\",\"colorway\":[\"#636efa\",\"#EF553B\",\"#00cc96\",\"#ab63fa\",\"#FFA15A\",\"#19d3f3\",\"#FF6692\",\"#B6E880\",\"#FF97FF\",\"#FECB52\"],\"font\":{\"color\":\"#2a3f5f\"},\"hovermode\":\"closest\",\"hoverlabel\":{\"align\":\"left\"},\"paper_bgcolor\":\"white\",\"plot_bgcolor\":\"#E5ECF6\",\"polar\":{\"bgcolor\":\"#E5ECF6\",\"angularaxis\":{\"gridcolor\":\"white\",\"linecolor\":\"white\",\"ticks\":\"\"},\"radialaxis\":{\"gridcolor\":\"white\",\"linecolor\":\"white\",\"ticks\":\"\"}},\"ternary\":{\"bgcolor\":\"#E5ECF6\",\"aaxis\":{\"gridcolor\":\"white\",\"linecolor\":\"white\",\"ticks\":\"\"},\"baxis\":{\"gridcolor\":\"white\",\"linecolor\":\"white\",\"ticks\":\"\"},\"caxis\":{\"gridcolor\":\"white\",\"linecolor\":\"white\",\"ticks\":\"\"}},\"coloraxis\":{\"colorbar\":{\"outlinewidth\":0,\"ticks\":\"\"}},\"colorscale\":{\"sequential\":[[0.0,\"#0d0887\"],[0.1111111111111111,\"#46039f\"],[0.2222222222222222,\"#7201a8\"],[0.3333333333333333,\"#9c179e\"],[0.4444444444444444,\"#bd3786\"],[0.5555555555555556,\"#d8576b\"],[0.6666666666666666,\"#ed7953\"],[0.7777777777777778,\"#fb9f3a\"],[0.8888888888888888,\"#fdca26\"],[1.0,\"#f0f921\"]],\"sequentialminus\":[[0.0,\"#0d0887\"],[0.1111111111111111,\"#46039f\"],[0.2222222222222222,\"#7201a8\"],[0.3333333333333333,\"#9c179e\"],[0.4444444444444444,\"#bd3786\"],[0.5555555555555556,\"#d8576b\"],[0.6666666666666666,\"#ed7953\"],[0.7777777777777778,\"#fb9f3a\"],[0.8888888888888888,\"#fdca26\"],[1.0,\"#f0f921\"]],\"diverging\":[[0,\"#8e0152\"],[0.1,\"#c51b7d\"],[0.2,\"#de77ae\"],[0.3,\"#f1b6da\"],[0.4,\"#fde0ef\"],[0.5,\"#f7f7f7\"],[0.6,\"#e6f5d0\"],[0.7,\"#b8e186\"],[0.8,\"#7fbc41\"],[0.9,\"#4d9221\"],[1,\"#276419\"]]},\"xaxis\":{\"gridcolor\":\"white\",\"linecolor\":\"white\",\"ticks\":\"\",\"title\":{\"standoff\":15},\"zerolinecolor\":\"white\",\"automargin\":true,\"zerolinewidth\":2},\"yaxis\":{\"gridcolor\":\"white\",\"linecolor\":\"white\",\"ticks\":\"\",\"title\":{\"standoff\":15},\"zerolinecolor\":\"white\",\"automargin\":true,\"zerolinewidth\":2},\"scene\":{\"xaxis\":{\"backgroundcolor\":\"#E5ECF6\",\"gridcolor\":\"white\",\"linecolor\":\"white\",\"showbackground\":true,\"ticks\":\"\",\"zerolinecolor\":\"white\",\"gridwidth\":2},\"yaxis\":{\"backgroundcolor\":\"#E5ECF6\",\"gridcolor\":\"white\",\"linecolor\":\"white\",\"showbackground\":true,\"ticks\":\"\",\"zerolinecolor\":\"white\",\"gridwidth\":2},\"zaxis\":{\"backgroundcolor\":\"#E5ECF6\",\"gridcolor\":\"white\",\"linecolor\":\"white\",\"showbackground\":true,\"ticks\":\"\",\"zerolinecolor\":\"white\",\"gridwidth\":2}},\"shapedefaults\":{\"line\":{\"color\":\"#2a3f5f\"}},\"annotationdefaults\":{\"arrowcolor\":\"#2a3f5f\",\"arrowhead\":0,\"arrowwidth\":1},\"geo\":{\"bgcolor\":\"white\",\"landcolor\":\"#E5ECF6\",\"subunitcolor\":\"white\",\"showland\":true,\"showlakes\":true,\"lakecolor\":\"white\"},\"title\":{\"x\":0.05},\"mapbox\":{\"style\":\"light\"}}}},                        {\"responsive\": true}                    ).then(function(){\n",
       "                            \n",
       "var gd = document.getElementById('c13608d7-1f49-4fdd-b9ea-f66d888535e7');\n",
       "var x = new MutationObserver(function (mutations, observer) {{\n",
       "        var display = window.getComputedStyle(gd).display;\n",
       "        if (!display || display === 'none') {{\n",
       "            console.log([gd, 'removed!']);\n",
       "            Plotly.purge(gd);\n",
       "            observer.disconnect();\n",
       "        }}\n",
       "}});\n",
       "\n",
       "// Listen for the removal of the full notebook cells\n",
       "var notebookContainer = gd.closest('#notebook-container');\n",
       "if (notebookContainer) {{\n",
       "    x.observe(notebookContainer, {childList: true});\n",
       "}}\n",
       "\n",
       "// Listen for the clearing of the current output cell\n",
       "var outputEl = gd.closest('.output');\n",
       "if (outputEl) {{\n",
       "    x.observe(outputEl, {childList: true});\n",
       "}}\n",
       "\n",
       "                        })                };                });            </script>        </div>"
      ]
     },
     "metadata": {},
     "output_type": "display_data"
    }
   ],
   "source": [
    "r_x1 = np.linspace(0,1,100)\n",
    "r_y0 = np.random.randn(100) + 5\n",
    "r_y1 = np.random.randn(100) - 5\n",
    "r_y2 = np.random.randn(100)\n",
    "\n",
    "\n",
    "fig = go.Figure()\n",
    "fig.add_trace(go.Scatter(x=r_x1, y=r_y0, mode='lines', name= 'Rand 1'))\n",
    "fig.add_trace(go.Scatter(x=r_x1, y=r_y1, mode='lines+markers', name= 'Rand 2'))\n",
    "fig.add_trace(go.Scatter(x=r_x1, y=r_y2, mode='markers', name= 'Rand 3'))"
   ]
  },
  {
   "cell_type": "code",
   "execution_count": null,
   "id": "ae0305ce-720a-4eff-ba8e-e8a2155ce1dc",
   "metadata": {},
   "outputs": [],
   "source": []
  }
 ],
 "metadata": {
  "kernelspec": {
   "display_name": "Python 3 (ipykernel)",
   "language": "python",
   "name": "python3"
  },
  "language_info": {
   "codemirror_mode": {
    "name": "ipython",
    "version": 3
   },
   "file_extension": ".py",
   "mimetype": "text/x-python",
   "name": "python",
   "nbconvert_exporter": "python",
   "pygments_lexer": "ipython3",
   "version": "3.12.4"
  }
 },
 "nbformat": 4,
 "nbformat_minor": 5
}
