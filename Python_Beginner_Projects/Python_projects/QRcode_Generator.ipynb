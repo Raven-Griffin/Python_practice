{
 "cells": [
  {
   "cell_type": "code",
   "execution_count": 25,
   "id": "eff68569-ca9d-4c6b-ad7e-92149e76b3b9",
   "metadata": {},
   "outputs": [],
   "source": [
    "# basic_qrcode.py\n",
    "\n",
    "import segno\n",
    "\n",
    "qrcode = segno.make_qr(\"Hello, World\")\n",
    "qrcode_rotated = qrcode.to_pil(\n",
    "    scale=5\n",
    ").rotate(45, expand=True)\n",
    "qrcode_rotated.save(\"formatted_rotated_qrcode.png\")"
   ]
  },
  {
   "cell_type": "code",
   "execution_count": null,
   "id": "b9ce2f80-ebf1-49b4-8e9b-964341200b90",
   "metadata": {},
   "outputs": [],
   "source": []
  }
 ],
 "metadata": {
  "kernelspec": {
   "display_name": "Python 3 (ipykernel)",
   "language": "python",
   "name": "python3"
  },
  "language_info": {
   "codemirror_mode": {
    "name": "ipython",
    "version": 3
   },
   "file_extension": ".py",
   "mimetype": "text/x-python",
   "name": "python",
   "nbconvert_exporter": "python",
   "pygments_lexer": "ipython3",
   "version": "3.12.4"
  }
 },
 "nbformat": 4,
 "nbformat_minor": 5
}
