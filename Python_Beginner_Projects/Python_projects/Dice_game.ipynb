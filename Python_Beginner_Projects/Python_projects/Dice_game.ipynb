{
 "cells": [
  {
   "cell_type": "markdown",
   "id": "542eb723-77e9-4d43-8b2a-b368582cd7f7",
   "metadata": {},
   "source": [
    "### Game that allows you to roll Die\n",
    "- Generates random numbers\n",
    "- Asks for user input"
   ]
  },
  {
   "cell_type": "code",
   "execution_count": null,
   "id": "8641577f-76d5-466b-b57d-eb47ac5bbefc",
   "metadata": {},
   "outputs": [],
   "source": [
    "import random\n",
    "\n",
    "#while loop that let a user continously roll die\n",
    "while True:\n",
    "\n",
    "    #variable for input\n",
    "    choice = int(input('Roll the Dice? (y/n):'))\n",
    "    if choice== 'y' or choice =='Y' :\n",
    "        #Create die and generate random number\n",
    "        dice1 = random.randint(1, 6)\n",
    "        dice2 =random.randint(1,6)\n",
    "        print(f'({dice1}, {dice2})')\n",
    "        \n",
    "    elif choice == 'n' or choice =='N':\n",
    "        print('Thanks for playing')\n",
    "        break\n",
    "        \n",
    "    else:\n",
    "        print('Invalid choice')\n",
    "\n",
    "\n",
    "\n",
    "    \n"
   ]
  }
 ],
 "metadata": {
  "kernelspec": {
   "display_name": "Python 3 (ipykernel)",
   "language": "python",
   "name": "python3"
  },
  "language_info": {
   "codemirror_mode": {
    "name": "ipython",
    "version": 3
   },
   "file_extension": ".py",
   "mimetype": "text/x-python",
   "name": "python",
   "nbconvert_exporter": "python",
   "pygments_lexer": "ipython3",
   "version": "3.12.4"
  }
 },
 "nbformat": 4,
 "nbformat_minor": 5
}
