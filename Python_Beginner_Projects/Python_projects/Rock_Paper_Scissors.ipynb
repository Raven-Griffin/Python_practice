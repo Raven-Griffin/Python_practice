{
 "cells": [
  {
   "cell_type": "code",
   "execution_count": 19,
   "id": "82f23dbf-5a01-4614-bab9-32ec8abcd9f4",
   "metadata": {},
   "outputs": [
    {
     "name": "stdin",
     "output_type": "stream",
     "text": [
      "Rock, paper, or scissors? (r/p/s):  r\n"
     ]
    },
    {
     "name": "stdout",
     "output_type": "stream",
     "text": [
      "You chose 🪨\n",
      "Computer chose ✂️\n",
      "You win\n"
     ]
    },
    {
     "name": "stdin",
     "output_type": "stream",
     "text": [
      "Continue? (y/n):  n\n"
     ]
    }
   ],
   "source": [
    "import random\n",
    "\n",
    "emojis = { 'r': '🪨', 'p': '🗒️', 's': '✂️'}\n",
    "choices = ('r', 'p', 's')\n",
    "while True: \n",
    "    user_choice = input('Rock, paper, or scissors? (r/p/s): ').lower()\n",
    "    if user_choice not in choices:\n",
    "        print('Invalid choice!')\n",
    "\n",
    "    computer_choice = random.choice(choices)\n",
    "\n",
    "    print(f'You chose {emojis[user_choice]}')\n",
    "    print(f'Computer chose {emojis[computer_choice]}')\n",
    "\n",
    "    if user_choice == computer_choice:\n",
    "        print(Tie)\n",
    "\n",
    "    elif (\n",
    "        (user_choice == 'r' and computer_choice =='s') or \n",
    "        (user_choice == 's' and computer_choice =='p') or \n",
    "        (user_choice == 'p' and computer_choice =='r')):\n",
    "          print('You win')\n",
    "    else:\n",
    "        print('you lose')\n",
    "\n",
    "    should_continue = input('Continue? (y/n): ').lower()\n",
    "    if should_continue == 'n':\n",
    "        break\n",
    "\n"
   ]
  },
  {
   "cell_type": "code",
   "execution_count": null,
   "id": "c4104c7e-8fcf-48c1-8a05-d5209259ebe3",
   "metadata": {},
   "outputs": [],
   "source": []
  }
 ],
 "metadata": {
  "kernelspec": {
   "display_name": "Python 3 (ipykernel)",
   "language": "python",
   "name": "python3"
  },
  "language_info": {
   "codemirror_mode": {
    "name": "ipython",
    "version": 3
   },
   "file_extension": ".py",
   "mimetype": "text/x-python",
   "name": "python",
   "nbconvert_exporter": "python",
   "pygments_lexer": "ipython3",
   "version": "3.12.4"
  }
 },
 "nbformat": 4,
 "nbformat_minor": 5
}
