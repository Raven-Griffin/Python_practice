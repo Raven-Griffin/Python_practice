{
 "cells": [
  {
   "cell_type": "markdown",
   "id": "9c6f4790-52a6-4048-803c-7f5dcef64b1d",
   "metadata": {},
   "source": [
    "### Number Guessing Game\n",
    "- Generate a random number\n",
    "- Ask for user input\n",
    "- Compares Guesses with random number\n",
    "- Gives feedback to help guess the number"
   ]
  },
  {
   "cell_type": "code",
   "execution_count": null,
   "id": "87ca1588-244b-4064-9bca-f1e77224f05c",
   "metadata": {},
   "outputs": [],
   "source": [
    "import random\n",
    "rand_number = random.randint(1, 100)\n",
    "while True:\n",
    "\n",
    "    \n",
    "    choice = int(input('Guess a number between 1 and 100: '))\n",
    "    if choice == rand_number:\n",
    "        print('Congradulations! You have guessed the number.')\n",
    "        break\n",
    "    elif choice > rand_number:\n",
    "        print('Too high')\n",
    "    elif choice <rand_number:\n",
    "        print('Too low')\n",
    "    else:\n",
    "        print('Please enter a valid number')\n",
    "\n"
   ]
  },
  {
   "cell_type": "code",
   "execution_count": null,
   "id": "e44eb55c-0b49-4888-8d59-accd2d7ce051",
   "metadata": {},
   "outputs": [],
   "source": []
  },
  {
   "cell_type": "code",
   "execution_count": null,
   "id": "0e2b8fa2-edcc-4e2f-a013-ddab178b3fa5",
   "metadata": {},
   "outputs": [],
   "source": []
  }
 ],
 "metadata": {
  "kernelspec": {
   "display_name": "Python 3 (ipykernel)",
   "language": "python",
   "name": "python3"
  },
  "language_info": {
   "codemirror_mode": {
    "name": "ipython",
    "version": 3
   },
   "file_extension": ".py",
   "mimetype": "text/x-python",
   "name": "python",
   "nbconvert_exporter": "python",
   "pygments_lexer": "ipython3",
   "version": "3.12.4"
  }
 },
 "nbformat": 4,
 "nbformat_minor": 5
}
